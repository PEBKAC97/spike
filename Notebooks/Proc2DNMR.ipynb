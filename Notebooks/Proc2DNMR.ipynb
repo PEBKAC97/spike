{
 "cells": [
  {
   "cell_type": "markdown",
   "metadata": {},
   "source": [
    "** *This notebook is unfinished and still under development* **\n",
    "\n",
    "# 2D NMR Processing and Display\n",
    "\n",
    "a simplified environment for processing 2D Bruker NMR datasets with `SPIKE`.\n",
    "\n",
    "Run each python cell in sequence by using the ⇥Run button above (or typing *shift* Enter).\n",
    "\n",
    "Cells are meant to be used in order, taking you to the complete analysis, but you can go back at any time.\n",
    "\n",
    "The SPIKE code used for processing is visible in the cells, and can be used as a minimal tutorial.\n",
    "\n",
    "***Remark*** *to use this program, you should have installed the following packages:*\n",
    "\n",
    "- *a complete scientific python environment* ( *tested with python 3.6 - [anaconda](https://www.anaconda.com/) \n",
    " but it should also work in python 2.7*)\n",
    "- [`spike`](https://www.bitbucket.org/delsuc/spike) ( *version 0.99.9 minimum* )\n",
    "- [`ipywidgets`](https://ipywidgets.readthedocs.io/en/latest/)  ( *tested with version 7.1* )\n",
    "- [`ipyml`](https://github.com/matplotlib/jupyter-matplotlib)  ( *adds interactivity in the notebook* )\n",
    "\n",
    "## Initialization\n",
    "the following cell should be run only once, at the beginning of the processing"
   ]
  },
  {
   "cell_type": "code",
   "execution_count": 1,
   "metadata": {
    "ExecuteTime": {
     "end_time": "2019-11-25T11:14:02.665767Z",
     "start_time": "2019-11-25T11:14:00.270746Z"
    }
   },
   "outputs": [
    {
     "data": {
      "text/markdown": [
       "## STARTING Environment..."
      ],
      "text/plain": [
       "<IPython.core.display.Markdown object>"
      ]
     },
     "metadata": {},
     "output_type": "display_data"
    },
    {
     "name": "stdout",
     "output_type": "stream",
     "text": [
      "\n",
      "    ========================\n",
      "          SPIKE\n",
      "    ========================\n",
      "    Version     : 0.99.21\n",
      "    Date        : 23-02-2021\n",
      "    Revision Id : 490\n",
      "    ========================\n",
      "*** zoom3D not loaded ***\n",
      "plugins loaded:\n",
      "Bruker_NMR_FT,  Bucketing,  FTMS_calib,  Fitter,  Integrate,  Linear_prediction,  PALMA,  Peaks,  apmin,  bcorr,  bokeh_display,  diagonal_2DMS,  fastclean,  gaussenh,  pg_sane,  rem_ridge,  sane,  sg,  test,  urQRd,  wavelet, \n",
      "\n",
      "spike.plugins.report() for a short description of each plugins\n",
      "spike.plugins.report('module_name') for complete documentation on one plugin\n"
     ]
    },
    {
     "data": {
      "text/markdown": [
       "## ...program is Ready"
      ],
      "text/plain": [
       "<IPython.core.display.Markdown object>"
      ]
     },
     "metadata": {},
     "output_type": "display_data"
    },
    {
     "data": {
      "text/html": [
       "\n",
       "<style>hr {height: 2px; border: 0;border-top: 1px solid #ccc;margin: 1em 0;padding: 0; }</style>\n",
       "<script>\n",
       "code_show=false; \n",
       "function code_toggle()\n",
       "    { if (code_show)\n",
       "        { $('div.input').hide(); $('#but').val(\"show python code\");\n",
       "        } else { $('div.input').show(); $('#but').val(\"hide python code\");\n",
       "    }\n",
       "    code_show = !code_show } \n",
       "$(document).ready(code_toggle);\n",
       "</script>\n",
       "<form action=\"javascript:code_toggle()\">\n",
       "<input id=\"but\" type=\"submit\" style=\"border:1px solid black; background-color:#DDD\">\n",
       "\n",
       "</form>"
      ],
      "text/plain": [
       "<IPython.core.display.HTML object>"
      ]
     },
     "metadata": {},
     "output_type": "display_data"
    },
    {
     "data": {
      "text/html": [
       "\n",
       "<style>hr {height: 2px; border: 0;border-top: 1px solid #ccc;margin: 1em 0;padding: 0; }</style>\n",
       "<script>\n",
       "doc_show=false; \n",
       "function doc_toggle()\n",
       "    { if (doc_show)\n",
       "        { $('div.text_cell').hide(); $('#butdoc').val(\"show documentation\");\n",
       "        } else { $('div.text_cell').show(); $('#butdoc').val(\"hide documentation\");\n",
       "    }\n",
       "    doc_show = !doc_show } \n",
       "$(document).ready(doc_toggle);\n",
       "</script>\n",
       "<form action=\"javascript:doc_toggle()\">\n",
       "<input id=\"butdoc\" type=\"submit\" style=\"border:1px solid black; background-color:#DDD\">\n",
       "<i>usefull to show/print a clean screen when processing is finished</i>\n",
       "</form>"
      ],
      "text/plain": [
       "<IPython.core.display.HTML object>"
      ]
     },
     "metadata": {},
     "output_type": "display_data"
    }
   ],
   "source": [
    "# load all python and interactive tools\n",
    "from __future__ import print_function, division\n",
    "from IPython.display import display, HTML, Markdown, Image\n",
    "display(Markdown('## STARTING Environment...'))\n",
    "import matplotlib.pyplot as plt\n",
    "%matplotlib widget\n",
    "import os.path as op\n",
    "import spike\n",
    "from spike.File.BrukerNMR import Import_2D\n",
    "from spike.Interactive import INTER as I\n",
    "from spike.Interactive import INTER_2D as I2D\n",
    "from spike.Interactive.ipyfilechooser import FileChooser\n",
    "display(Markdown('## ...program is Ready'))\n",
    "from importlib import reload  # the two following lines are debugging help\n",
    "reload(I)                   # and can be removed safely when in production\n",
    "I.hidecode(message=\"\")\n",
    "I.hidedoc()"
   ]
  },
  {
   "cell_type": "markdown",
   "metadata": {},
   "source": [
    "### Choose the file\n",
    "The `FileChooser()` tool creates a dialog box which allows to choose a file on your disk\n",
    "\n",
    "- use the `Select` button\n",
    "- modify the ( *optional* ) `path` argument, to start the exploration on a given location\n",
    "- After the selection, the selected filename is found in `FC.selected`"
   ]
  },
  {
   "cell_type": "code",
   "execution_count": 2,
   "metadata": {
    "ExecuteTime": {
     "end_time": "2019-11-25T11:14:23.620406Z",
     "start_time": "2019-11-25T11:14:23.531202Z"
    }
   },
   "outputs": [
    {
     "data": {
      "application/vnd.jupyter.widget-view+json": {
       "model_id": "4fea469ce0e74c42ae02f84f572a8edb",
       "version_major": 2,
       "version_minor": 0
      },
      "text/plain": [
       "FileChooser(path='/DATA', filename='ser', show_hidden='False')"
      ]
     },
     "metadata": {},
     "output_type": "display_data"
    }
   ],
   "source": [
    "FC = FileChooser(path='/DATA/',filename='ser')\n",
    "display(FC)"
   ]
  },
  {
   "cell_type": "markdown",
   "metadata": {},
   "source": [
    "### Import dataset\n",
    "\n",
    "This is simply done with the `Import_2D()` tool, which returns a `SPIKE` object.\n",
    "\n",
    "We store the dataset into a variable, typing the variable name shows a summary of the dataset. "
   ]
  },
  {
   "cell_type": "code",
   "execution_count": 26,
   "metadata": {
    "ExecuteTime": {
     "end_time": "2019-11-25T11:14:47.626629Z",
     "start_time": "2019-11-25T11:14:47.245363Z"
    }
   },
   "outputs": [
    {
     "name": "stdout",
     "output_type": "stream",
     "text": [
      "Reading file  /DATA/SM_ARTE_v3/ARTEref_161123/40/ser\n",
      "\n",
      "\n"
     ]
    },
    {
     "data": {
      "image/png": "[encoded data removed]",
      "text/plain": [
       "<Figure size 432x288 with 1 Axes>"
      ]
     },
     "metadata": {
      "needs_background": "light"
     },
     "output_type": "display_data"
    }
   ],
   "source": [
    "print('Reading file ',FC.selected)\n",
    "d2 = Import_2D(FC.selected)\n",
    "d2.filename = FC.selected\n",
    "d2.pulprog = d2.params['acqu']['$PULPROG']\n",
    "print (d2.params['acqu']['title'])\n",
    "#d2.set_unit('sec').display(title=\"%s %s\"%(FC.nmrname,d2.pulprog), scale='auto')\n",
    "plt.imshow(d2.get_buffer().imag, cmap=\"seismic\"); #  \"Accent\")"
   ]
  },
  {
   "cell_type": "markdown",
   "metadata": {},
   "source": [
    "In the current set-up, the figure can be explored *(zoom, shift, resize, etc)* with the jupyter tools displayed  below the dataset.\n",
    "The figure can also be saved as a `png` graphic file.\n",
    "\n",
    "At anytime, the figure can be frozen by clicking on the blue button on the upper right corner, just rerun the cell to make it interactive again.\n",
    "\n",
    "## Basic Processing\n",
    "We are going to use a basic processing set-up, check the documentation for advanced processing\n",
    "\n",
    "### Fourier Transform - modulus mode!"
   ]
  },
  {
   "cell_type": "code",
   "execution_count": 27,
   "metadata": {
    "ExecuteTime": {
     "end_time": "2019-11-25T11:16:42.174629Z",
     "start_time": "2019-11-25T11:16:39.158952Z"
    }
   },
   "outputs": [
    {
     "name": "stdout",
     "output_type": "stream",
     "text": [
      "computed scale: 3.26\n"
     ]
    },
    {
     "data": {
      "text/plain": [
       "2D data-set\n",
       "Axis F1 :NMR axis at 176.065935 MHz, 512 real points, from -14.995500 ppm (-2640.196733 Hz) to 135.004500 ppm  (23769.693565 Hz)\n",
       "Axis F2: NMR axis at 700.163292 MHz, 2048 real points, from -0.791418 ppm (-554.121925 Hz) to 10.195030 ppm  (7138.185767 Hz)\n",
       "data-set is real"
      ]
     },
     "execution_count": 27,
     "metadata": {},
     "output_type": "execute_result"
    },
    {
     "data": {
      "image/png": "[encoded data removed]",
      "text/plain": [
       "<Figure size 432x288 with 1 Axes>"
      ]
     },
     "metadata": {
      "needs_background": "light"
     },
     "output_type": "display_data"
    }
   ],
   "source": [
    "D2 = d2.copy() # copy the imported data-set to another object for processing\n",
    "# bk_ftF2 and bk_ftF1 (define in the Bruker plugin) find which FT to apply depending on FnMODE\n",
    "D2.apod_sin(maxi=0.5,axis='F2').zf(1,2).bk_ftF2()  # chaining  apodisation - zerofill - FT\n",
    "D2.apod_sin(maxi=0.5,axis='F1').zf(2,1).bk_ftF1()  # chaining  apodisation - zerofill - FT\n",
    "D2.modulus().set_unit('ppm').rem_ridge()\n",
    "D2.display(scale=\"auto\", autoscalethresh=100.0, title=\"%s %s\"%(FC.nmrname,d2.pulprog))  # chain  set to ppm unit - and display"
   ]
  },
  {
   "cell_type": "markdown",
   "metadata": {},
   "source": [
    "`I.Show2D` is a convinient tool to explore 2D's\n",
    "\n",
    "you can "
   ]
  },
  {
   "cell_type": "markdown",
   "metadata": {},
   "source": [
    "### Advanced Phase sensitive processing\n",
    "\n"
   ]
  },
  {
   "cell_type": "code",
   "execution_count": 28,
   "metadata": {},
   "outputs": [
    {
     "name": "stdout",
     "output_type": "stream",
     "text": [
      "computed scale: 37.17\n"
     ]
    },
    {
     "data": {
      "text/plain": [
       "2D data-set\n",
       "Axis F1 :NMR axis at 176.065935 MHz, 512 complex pairs,  from -14.995500 ppm (-2640.196733 Hz) to 135.004500 ppm  (23769.693565 Hz)\n",
       "Axis F2: NMR axis at 700.163292 MHz, 2048 complex pairs,  from -0.791418 ppm (-554.121925 Hz) to 10.195030 ppm  (7138.185767 Hz)\n",
       "data-set is hypercomplex (order 2)"
      ]
     },
     "execution_count": 28,
     "metadata": {},
     "output_type": "execute_result"
    },
    {
     "data": {
      "image/png": "[encoded data removed]",
      "text/plain": [
       "<Figure size 432x288 with 1 Axes>"
      ]
     },
     "metadata": {
      "needs_background": "light"
     },
     "output_type": "display_data"
    }
   ],
   "source": [
    "D2 = d2.copy() # copy the imported data-set to another object for processing\n",
    "# bk_ftF2 and bk_ftF1 (define in the Bruker plugin) find which FT to apply depending on FnMODE\n",
    "D2.apod_sin(maxi=0,axis='F2').zf(1,2).bk_ftF2().bk_pk()  # chaining  apodisation - zerofill - FT - phase\n",
    "D2.apod_sin(maxi=0,axis='F1').zf(2,1).bk_ftF1()  # chaining  apodisation - zerofill - FT\n",
    "D2.set_unit('ppm').rem_ridge()\n",
    "D2.display(scale=\"auto\",  autoscalethresh=6.0, title=\"%s %s\"%(FC.nmrname,d2.pulprog))  # chain  set to ppm unit - and display"
   ]
  },
  {
   "cell_type": "markdown",
   "metadata": {},
   "source": [
    "### Rephasing\n",
    "( *This is a temporary tool* )"
   ]
  },
  {
   "cell_type": "code",
   "execution_count": 29,
   "metadata": {},
   "outputs": [
    {
     "name": "stdout",
     "output_type": "stream",
     "text": [
      "WARNING this tool is not functional/tested yet\n"
     ]
    },
    {
     "data": {
      "application/vnd.jupyter.widget-view+json": {
       "model_id": "eed856879ffd47c799f6500db32ca478",
       "version_major": 2,
       "version_minor": 0
      },
      "text/plain": [
       "VBox(children=(FloatLogSlider(value=1.0, continuous_update=False, description='scale:', layout=Layout(width='8…"
      ]
     },
     "metadata": {},
     "output_type": "display_data"
    },
    {
     "data": {
      "application/vnd.jupyter.widget-view+json": {
       "model_id": "26aa6b789a254433b85e52e27da6b96b",
       "version_major": 2,
       "version_minor": 0
      },
      "text/plain": [
       "HBox(children=(Button(button_style='success', description='Apply correction', style=ButtonStyle()), Button(but…"
      ]
     },
     "metadata": {},
     "output_type": "display_data"
    },
    {
     "data": {
      "text/plain": [
       "<spike.Interactive.INTER_2D.Phaser2D at 0x7f7472dce128>"
      ]
     },
     "execution_count": 29,
     "metadata": {},
     "output_type": "execute_result"
    },
    {
     "data": {
      "image/png": "[encoded data removed]",
      "text/plain": [
       "<Figure size 432x288 with 1 Axes>"
      ]
     },
     "metadata": {
      "needs_background": "light"
     },
     "output_type": "display_data"
    }
   ],
   "source": [
    "reload(I2D)\n",
    "I2D.Phaser2D(D2)"
   ]
  },
  {
   "cell_type": "markdown",
   "metadata": {},
   "source": [
    "# An interactive Display"
   ]
  },
  {
   "cell_type": "code",
   "execution_count": 30,
   "metadata": {},
   "outputs": [
    {
     "data": {
      "application/vnd.jupyter.widget-view+json": {
       "model_id": "948b63a369b14d5cbb00e7443da5fcb6",
       "version_major": 2,
       "version_minor": 0
      },
      "text/plain": [
       "HBox(children=(FloatLogSlider(value=1.0, continuous_update=False, description='scale:', layout=Layout(width='8…"
      ]
     },
     "metadata": {},
     "output_type": "display_data"
    },
    {
     "data": {
      "image/png": "[encoded data removed]",
      "text/plain": [
       "<Figure size 576x576 with 3 Axes>"
      ]
     },
     "metadata": {
      "needs_background": "light"
     },
     "output_type": "display_data"
    }
   ],
   "source": [
    "D2.set_unit('ppm')\n",
    "b = I2D.Show2D(D2.copy().real(axis='F1').real(axis='F2'), title=\"%s %s\"%(FC.nmrname,d2.pulprog))"
   ]
  },
  {
   "cell_type": "markdown",
   "metadata": {},
   "source": [
    "## Save on disk"
   ]
  },
  {
   "cell_type": "code",
   "execution_count": null,
   "metadata": {},
   "outputs": [],
   "source": [
    "D2.save('example1.gs2')"
   ]
  },
  {
   "cell_type": "markdown",
   "metadata": {},
   "source": [
    "# The following entries or not finished yet"
   ]
  },
  {
   "cell_type": "markdown",
   "metadata": {},
   "source": [
    "## Peak-Picker\n",
    "- moving the threshold determines the minimum peak intensity\n",
    "- peaks are searched only in the selected zoom window"
   ]
  },
  {
   "cell_type": "markdown",
   "metadata": {},
   "source": [
    "## Export a bucket list"
   ]
  },
  {
   "cell_type": "code",
   "execution_count": null,
   "metadata": {},
   "outputs": [],
   "source": [
    "# adapt the parameters below\n",
    "Zoom = ((0.5,8),(0.5,8))                    # zone to bucket       - in ppm\n",
    "BucketSize = (0.1,0.1)                 # width of the buckets - in ppm\n",
    "Output = 'screen'                   # 'screen'  or  'file'  determines output\n",
    "BucketFileName = 'bucket.csv'     #  the filename if Output (above) is 'file'  - don't forget the .csv extension."
   ]
  },
  {
   "cell_type": "code",
   "execution_count": null,
   "metadata": {},
   "outputs": [],
   "source": [
    "# the following cell executes the bucketing\n",
    "if Output == 'file':\n",
    "    with open(BucketFileName,'w') as F:\n",
    "        D2.bucket2d(zoom=Zoom, bsize=BucketSize, file=F)\n",
    "    print('buckets written to %s\\n'%op.realpath(BucketFileName))\n",
    "else:\n",
    "    D2.bucket2d(zoom=Zoom, bsize=BucketSize)"
   ]
  },
  {
   "cell_type": "markdown",
   "metadata": {},
   "source": [
    "*Tools in this page is under intensive development - things are going to change rapidly.*"
   ]
  }
 ],
 "metadata": {
  "jupytext": {
   "formats": "ipynb,py:percent"
  },
  "kernelspec": {
   "display_name": "Python 3",
   "language": "python",
   "name": "python3"
  },
  "language_info": {
   "codemirror_mode": {
    "name": "ipython",
    "version": 3
   },
   "file_extension": ".py",
   "mimetype": "text/x-python",
   "name": "python",
   "nbconvert_exporter": "python",
   "pygments_lexer": "ipython3",
   "version": "3.7.3"
  },
  "toc": {
   "base_numbering": 1,
   "nav_menu": {},
   "number_sections": true,
   "sideBar": true,
   "skip_h1_title": true,
   "title_cell": "Table of Contents",
   "title_sidebar": "Contents",
   "toc_cell": true,
   "toc_position": {},
   "toc_section_display": true,
   "toc_window_display": false
  },
  "varInspector": {
   "cols": {
    "lenName": 16,
    "lenType": 16,
    "lenVar": 40
   },
   "kernels_config": {
    "python": {
     "delete_cmd_postfix": "",
     "delete_cmd_prefix": "del ",
     "library": "var_list.py",
     "varRefreshCmd": "print(var_dic_list())"
    },
    "r": {
     "delete_cmd_postfix": ") ",
     "delete_cmd_prefix": "rm(",
     "library": "var_list.r",
     "varRefreshCmd": "cat(var_dic_list()) "
    }
   },
   "position": {
    "height": "227px",
    "left": "1125px",
    "right": "20px",
    "top": "120px",
    "width": "330px"
   },
   "types_to_exclude": [
    "module",
    "function",
    "builtin_function_or_method",
    "instance",
    "_Feature"
   ],
   "window_display": false
  },
  "widgets": {
   "application/vnd.jupyter.widget-state+json": {
    "state": {
     "00385fe35c474cf7aaf1059808c4c2de": {
      "model_module": "@jupyter-widgets/controls",
      "model_module_version": "1.5.0",
      "model_name": "FloatSliderModel",
      "state": {
       "continuous_update": false,
       "description": "F1 p0",
       "layout": "IPY_MODEL_b3a9bbf71f2d4a0a9535f7a63f7b65df",
       "max": 180,
       "min": -180,
       "step": 0.1,
       "style": "IPY_MODEL_ba9f6383f3494970a75bdd30328902e5"
      }
     },
     "005c3f96673e4b5f84541de9ca76e7e2": {
      "model_module": "@jupyter-widgets/controls",
      "model_module_version": "1.5.0",
      "model_name": "DescriptionStyleModel",
      "state": {
       "description_width": ""
      }
     },
     "01091c06c1af4d8c856166359b604e38": {
      "model_module": "@jupyter-widgets/base",
      "model_module_version": "1.2.0",
      "model_name": "LayoutModel",
      "state": {}
     },
     "02f9e5e4097f4872873df9afccaee5d5": {
      "model_module": "@jupyter-widgets/controls",
      "model_module_version": "1.5.0",
      "model_name": "SliderStyleModel",
      "state": {
       "description_width": ""
      }
     },
     "0419f6d9f3b54747bdba1e196dc66518": {
      "model_module": "@jupyter-widgets/base",
      "model_module_version": "1.2.0",
      "model_name": "LayoutModel",
      "state": {
       "width": "auto"
      }
     },
     "044719841adf428080adebc02c8098b4": {
      "model_module": "@jupyter-widgets/base",
      "model_module_version": "1.2.0",
      "model_name": "LayoutModel",
      "state": {
       "width": "80%"
      }
     },
     "04652a0c556743648cc8dbb74aa9a23c": {
      "model_module": "@jupyter-widgets/controls",
      "model_module_version": "1.5.0",
      "model_name": "ButtonModel",
      "state": {
       "button_style": "warning",
       "description": "Cancel",
       "layout": "IPY_MODEL_a8e8ab4e062d4b7db4ef8279accaf69a",
       "style": "IPY_MODEL_abb51a7b2a0c4dbaa6ab574a072f53f0"
      }
     },
     "05945c01358a4f96932fa2404305309b": {
      "model_module": "@jupyter-widgets/controls",
      "model_module_version": "1.5.0",
      "model_name": "SliderStyleModel",
      "state": {
       "description_width": ""
      }
     },
     "09b739ac7cb9453296df7a87515b8ac7": {
      "model_module": "@jupyter-widgets/controls",
      "model_module_version": "1.5.0",
      "model_name": "SliderStyleModel",
      "state": {
       "description_width": ""
      }
     },
     "0aa3cf89ff3f46e4be37ba6017cba568": {
      "model_module": "@jupyter-widgets/controls",
      "model_module_version": "1.5.0",
      "model_name": "FloatSliderModel",
      "state": {
       "continuous_update": false,
       "description": "F1 p0",
       "layout": "IPY_MODEL_39367bad3df749c286945bb16782e5f2",
       "max": 180,
       "min": -180,
       "step": 0.1,
       "style": "IPY_MODEL_4e32bf55153e415b840e3effdb6f6d46"
      }
     },
     "0d3d9fbb5bfc428b858f908367457fd5": {
      "model_module": "@jupyter-widgets/controls",
      "model_module_version": "1.5.0",
      "model_name": "SliderStyleModel",
      "state": {
       "description_width": ""
      }
     },
     "0d46841c9f4e4a8cbb0d36965e66ce5a": {
      "model_module": "@jupyter-widgets/base",
      "model_module_version": "1.2.0",
      "model_name": "LayoutModel",
      "state": {}
     },
     "104341a187c9489abc18f263b76ab1a0": {
      "model_module": "@jupyter-widgets/base",
      "model_module_version": "1.2.0",
      "model_name": "LayoutModel",
      "state": {}
     },
     "1229c2eca8fd49ada15cfb17b1d3ef4d": {
      "model_module": "@jupyter-widgets/controls",
      "model_module_version": "1.5.0",
      "model_name": "VBoxModel",
      "state": {
       "children": [
        "IPY_MODEL_0aa3cf89ff3f46e4be37ba6017cba568",
        "IPY_MODEL_6fc0d47ef0a84b26b10d9f4cdc6e23df"
       ],
       "layout": "IPY_MODEL_8f21810feef74d1499bf62d0a5e45745"
      }
     },
     "14c25a521a9b4468be4c958ad8083d22": {
      "model_module": "@jupyter-widgets/controls",
      "model_module_version": "1.5.0",
      "model_name": "DescriptionStyleModel",
      "state": {
       "description_width": ""
      }
     },
     "1531f5c52fd64310aca3a29129f78aff": {
      "model_module": "@jupyter-widgets/controls",
      "model_module_version": "1.5.0",
      "model_name": "HBoxModel",
      "state": {
       "children": [
        "IPY_MODEL_3167288ebd6d4a6f8751e6f76ae6c4b0",
        "IPY_MODEL_04652a0c556743648cc8dbb74aa9a23c"
       ],
       "layout": "IPY_MODEL_3769616008e1444b99e8cc59d16cbbac"
      }
     },
     "158b58c225b1462eaf9fc9d5bde3faa1": {
      "model_module": "@jupyter-widgets/controls",
      "model_module_version": "1.5.0",
      "model_name": "TextModel",
      "state": {
       "layout": "IPY_MODEL_484cdae423824d4cbafba41513ffd245",
       "placeholder": "output filename",
       "style": "IPY_MODEL_f6c457a899384da1b42793a3817baff5",
       "value": "ser"
      }
     },
     "176d249a1cdb4e45b8eae9997bf0fbf6": {
      "model_module": "@jupyter-widgets/base",
      "model_module_version": "1.2.0",
      "model_name": "LayoutModel",
      "state": {}
     },
     "182a5db4b8f34f01b2c4c4e4c6ac5640": {
      "model_module": "@jupyter-widgets/base",
      "model_module_version": "1.2.0",
      "model_name": "LayoutModel",
      "state": {}
     },
     "19cca5716c484712b2ae09055e6ebade": {
      "model_module": "@jupyter-widgets/controls",
      "model_module_version": "1.5.0",
      "model_name": "FloatSliderModel",
      "state": {
       "continuous_update": false,
       "description": "F2 p0",
       "layout": "IPY_MODEL_ef35304066104f99b438d0d6c0bed8fe",
       "max": 180,
       "min": -180,
       "step": 0.1,
       "style": "IPY_MODEL_6c2fe7049da64a84bcc34c82bb9a9ec0"
      }
     },
     "1b84e5030a88454994964fd0a48845be": {
      "model_module": "@jupyter-widgets/controls",
      "model_module_version": "1.5.0",
      "model_name": "CheckboxModel",
      "state": {
       "description": "Cursors",
       "disabled": false,
       "layout": "IPY_MODEL_fdf561c1fb38485fb3e30737ff49a283",
       "style": "IPY_MODEL_1c9fce8cd84f48c187945da01e824477",
       "value": false
      }
     },
     "1c39003a074c4e34967990a3c1089648": {
      "model_module": "@jupyter-widgets/base",
      "model_module_version": "1.2.0",
      "model_name": "LayoutModel",
      "state": {}
     },
     "1c9fce8cd84f48c187945da01e824477": {
      "model_module": "@jupyter-widgets/controls",
      "model_module_version": "1.5.0",
      "model_name": "DescriptionStyleModel",
      "state": {
       "description_width": ""
      }
     },
     "1d5a10224d4e40079975c36bd5a8b76f": {
      "model_module": "@jupyter-widgets/controls",
      "model_module_version": "1.5.0",
      "model_name": "SliderStyleModel",
      "state": {
       "description_width": ""
      }
     },
     "1e762c29c56a4ca493785fc843ea0c61": {
      "model_module": "@jupyter-widgets/base",
      "model_module_version": "1.2.0",
      "model_name": "LayoutModel",
      "state": {}
     },
     "1ea03d6a8b1c4b4399b1d9320a869523": {
      "model_module": "@jupyter-widgets/controls",
      "model_module_version": "1.5.0",
      "model_name": "ButtonStyleModel",
      "state": {}
     },
     "2083478c425540e3b9ffd97caa2d98aa": {
      "model_module": "@jupyter-widgets/base",
      "model_module_version": "1.2.0",
      "model_name": "LayoutModel",
      "state": {
       "display": "none",
       "grid_gap": "0px 0px",
       "grid_template_areas": "\n                    'pathlist filename'\n                    'dircontent dircontent'\n                    ",
       "grid_template_columns": "60% 40%",
       "grid_template_rows": "auto auto",
       "width": "500px"
      }
     },
     "22a0af6b48eb4aff81688030f34d73b1": {
      "model_module": "@jupyter-widgets/base",
      "model_module_version": "1.2.0",
      "model_name": "LayoutModel",
      "state": {
       "width": "80%"
      }
     },
     "22f81f6c061f4d1bb70e75ccc6c87272": {
      "model_module": "@jupyter-widgets/controls",
      "model_module_version": "1.5.0",
      "model_name": "DescriptionStyleModel",
      "state": {
       "description_width": ""
      }
     },
     "22fa810604cb41888b0e7b368530379c": {
      "model_module": "@jupyter-widgets/base",
      "model_module_version": "1.2.0",
      "model_name": "LayoutModel",
      "state": {}
     },
     "25fa854bb44844c296e9ec8fbb73145f": {
      "model_module": "@jupyter-widgets/controls",
      "model_module_version": "1.5.0",
      "model_name": "ButtonStyleModel",
      "state": {}
     },
     "26a086b09ba9422ab180d622c60214b5": {
      "model_module": "@jupyter-widgets/controls",
      "model_module_version": "1.5.0",
      "model_name": "ButtonStyleModel",
      "state": {}
     },
     "26aa6b789a254433b85e52e27da6b96b": {
      "model_module": "@jupyter-widgets/controls",
      "model_module_version": "1.5.0",
      "model_name": "HBoxModel",
      "state": {
       "children": [
        "IPY_MODEL_bfb75520e38649c79c76545a18b64c2f",
        "IPY_MODEL_bb8735613c93459aaeb0eac85c1ee5c7"
       ],
       "layout": "IPY_MODEL_8b22e8d45aca4aee82e9f19861f51389"
      }
     },
     "279512292bb64a3d96b9bfae54102e5a": {
      "model_module": "@jupyter-widgets/base",
      "model_module_version": "1.2.0",
      "model_name": "LayoutModel",
      "state": {}
     },
     "284b50eac3a4462aa78dcead9f25d7ff": {
      "model_module": "@jupyter-widgets/controls",
      "model_module_version": "1.5.0",
      "model_name": "ButtonModel",
      "state": {
       "button_style": "warning",
       "description": "Cancel",
       "layout": "IPY_MODEL_466de69eb08f42299a35fa1dd1760d25",
       "style": "IPY_MODEL_b1e50bd6264f4c4790ab59923eaa5ef4"
      }
     },
     "2921dc778f074238bf58aaee2a5d1cb2": {
      "model_module": "@jupyter-widgets/base",
      "model_module_version": "1.2.0",
      "model_name": "LayoutModel",
      "state": {}
     },
     "2ad1f3b8e15c45cb9e3d6d2d58201843": {
      "model_module": "@jupyter-widgets/controls",
      "model_module_version": "1.5.0",
      "model_name": "HBoxModel",
      "state": {
       "children": [
        "IPY_MODEL_90f1c15ff0b54f6094b9773e9bee3b9e",
        "IPY_MODEL_ead736cbc3e84017b334ae23b88ee518",
        "IPY_MODEL_f5239932b7fc487ea01e902698b25ef7"
       ],
       "layout": "IPY_MODEL_410b9d1094624872bfa704f837696d13"
      }
     },
     "2b15956ec1934196a2acca88e4690035": {
      "model_module": "@jupyter-widgets/controls",
      "model_module_version": "1.5.0",
      "model_name": "FloatSliderModel",
      "state": {
       "continuous_update": false,
       "description": "F2 p1",
       "layout": "IPY_MODEL_104341a187c9489abc18f263b76ab1a0",
       "max": 250,
       "min": -250,
       "style": "IPY_MODEL_8bc135add8ff45628fa8a9b66d4cf85d"
      }
     },
     "2b58ee4a4a684ce681e4ea0a37c6545a": {
      "model_module": "@jupyter-widgets/base",
      "model_module_version": "1.2.0",
      "model_name": "LayoutModel",
      "state": {}
     },
     "2b7c1217796c406589330cac7b73c734": {
      "model_module": "@jupyter-widgets/controls",
      "model_module_version": "1.5.0",
      "model_name": "DescriptionStyleModel",
      "state": {
       "description_width": ""
      }
     },
     "2e5b3ac956f24ec3a89bf85b6fa1fa44": {
      "model_module": "@jupyter-widgets/controls",
      "model_module_version": "1.5.0",
      "model_name": "ButtonModel",
      "state": {
       "button_style": "success",
       "description": "Change",
       "layout": "IPY_MODEL_ba97fb6d3f124ab48e2d1ae029ef3130",
       "style": "IPY_MODEL_25fa854bb44844c296e9ec8fbb73145f"
      }
     },
     "2ec228e0567843e28c6485e7ec727536": {
      "model_module": "@jupyter-widgets/base",
      "model_module_version": "1.2.0",
      "model_name": "LayoutModel",
      "state": {}
     },
     "2f538efa38d8437c8c8153714249863e": {
      "model_module": "@jupyter-widgets/base",
      "model_module_version": "1.2.0",
      "model_name": "LayoutModel",
      "state": {
       "grid_area": "dircontent",
       "width": "auto"
      }
     },
     "2fde7e33c6d24a9b93e92b0537bd5f5d": {
      "model_module": "@jupyter-widgets/controls",
      "model_module_version": "1.5.0",
      "model_name": "VBoxModel",
      "state": {
       "children": [
        "IPY_MODEL_496b54bad2c04defa58521eaaba012aa",
        "IPY_MODEL_599bf95def47466aa7fbc9f0df116cdc"
       ],
       "layout": "IPY_MODEL_3a666c6121b6411fa59d7175bc292935"
      }
     },
     "302ba6c5d0c24a889cf9454cf3e73ea7": {
      "model_module": "@jupyter-widgets/controls",
      "model_module_version": "1.5.0",
      "model_name": "SliderStyleModel",
      "state": {
       "description_width": ""
      }
     },
     "306e4477a89d4c5da94f8a124bb02f17": {
      "model_module": "@jupyter-widgets/controls",
      "model_module_version": "1.5.0",
      "model_name": "ButtonStyleModel",
      "state": {}
     },
     "3167288ebd6d4a6f8751e6f76ae6c4b0": {
      "model_module": "@jupyter-widgets/controls",
      "model_module_version": "1.5.0",
      "model_name": "ButtonModel",
      "state": {
       "button_style": "success",
       "description": "Apply correction",
       "layout": "IPY_MODEL_01091c06c1af4d8c856166359b604e38",
       "style": "IPY_MODEL_306e4477a89d4c5da94f8a124bb02f17"
      }
     },
     "323648b98ec04de9b92e7e16b65df11f": {
      "model_module": "@jupyter-widgets/base",
      "model_module_version": "1.2.0",
      "model_name": "LayoutModel",
      "state": {}
     },
     "3270858698b1483792f02675063e1d0b": {
      "model_module": "@jupyter-widgets/controls",
      "model_module_version": "1.5.0",
      "model_name": "SliderStyleModel",
      "state": {
       "description_width": ""
      }
     },
     "355b5461e114437bb6dd7b3b972ccca9": {
      "model_module": "@jupyter-widgets/controls",
      "model_module_version": "1.5.0",
      "model_name": "ButtonStyleModel",
      "state": {}
     },
     "3748d1a62d6f4b46896a6078884cad20": {
      "model_module": "@jupyter-widgets/base",
      "model_module_version": "1.2.0",
      "model_name": "LayoutModel",
      "state": {
       "width": "80%"
      }
     },
     "3769616008e1444b99e8cc59d16cbbac": {
      "model_module": "@jupyter-widgets/base",
      "model_module_version": "1.2.0",
      "model_name": "LayoutModel",
      "state": {}
     },
     "386daa4d29964113b94d4f7af68c0be4": {
      "model_module": "@jupyter-widgets/controls",
      "model_module_version": "1.5.0",
      "model_name": "FloatSliderModel",
      "state": {
       "continuous_update": false,
       "description": "F2 p1",
       "layout": "IPY_MODEL_1e762c29c56a4ca493785fc843ea0c61",
       "max": 250,
       "min": -250,
       "style": "IPY_MODEL_e4c6074d4b754ac48d21231cce5826b3"
      }
     },
     "39367bad3df749c286945bb16782e5f2": {
      "model_module": "@jupyter-widgets/base",
      "model_module_version": "1.2.0",
      "model_name": "LayoutModel",
      "state": {}
     },
     "3a666c6121b6411fa59d7175bc292935": {
      "model_module": "@jupyter-widgets/base",
      "model_module_version": "1.2.0",
      "model_name": "LayoutModel",
      "state": {
       "width": "100%"
      }
     },
     "3aba95ac06104c05b48b75a55d86cd0b": {
      "model_module": "@jupyter-widgets/controls",
      "model_module_version": "1.5.0",
      "model_name": "ButtonStyleModel",
      "state": {}
     },
     "3b90e771f3a648e5a0d19ce105a6a43e": {
      "model_module": "@jupyter-widgets/controls",
      "model_module_version": "1.5.0",
      "model_name": "VBoxModel",
      "state": {
       "children": [
        "IPY_MODEL_d6d54358cf2b450bbd9f36e8d0e397d5",
        "IPY_MODEL_386daa4d29964113b94d4f7af68c0be4"
       ],
       "layout": "IPY_MODEL_87f3231940cf4345bbf5ee3008fa5d53"
      }
     },
     "3bea8d399d6a4f2594c1efc149438428": {
      "model_module": "@jupyter-widgets/controls",
      "model_module_version": "1.5.0",
      "model_name": "SliderStyleModel",
      "state": {
       "description_width": ""
      }
     },
     "3c2cf817e96141d79c2f8aabfd82a2bc": {
      "model_module": "@jupyter-widgets/base",
      "model_module_version": "1.2.0",
      "model_name": "LayoutModel",
      "state": {}
     },
     "3ca37eeae73d4ebd95cd4715303382ac": {
      "model_module": "@jupyter-widgets/controls",
      "model_module_version": "1.5.0",
      "model_name": "FloatSliderModel",
      "state": {
       "continuous_update": false,
       "description": "F1 p0",
       "layout": "IPY_MODEL_2b58ee4a4a684ce681e4ea0a37c6545a",
       "max": 180,
       "min": -180,
       "step": 0.1,
       "style": "IPY_MODEL_1d5a10224d4e40079975c36bd5a8b76f"
      }
     },
     "3f4ff0e147b8456f8f7365ea10ce6feb": {
      "model_module": "jupyter-matplotlib",
      "model_module_version": "^0.9.0",
      "model_name": "ToolbarModel",
      "state": {
       "layout": "IPY_MODEL_e92a1c334c7243b4a2ae94660733ee3a",
       "toolitems": [
        [
         "Home",
         "Reset original view",
         "home",
         "home"
        ],
        [
         "Back",
         "Back to previous view",
         "arrow-left",
         "back"
        ],
        [
         "Forward",
         "Forward to next view",
         "arrow-right",
         "forward"
        ],
        [
         "Pan",
         "Pan axes with left mouse, zoom with right",
         "arrows",
         "pan"
        ],
        [
         "Zoom",
         "Zoom to rectangle",
         "square-o",
         "zoom"
        ],
        [
         "Download",
         "Download plot",
         "floppy-o",
         "save_figure"
        ]
       ]
      }
     },
     "3ff4fef5443e4ed189a69aff4f764079": {
      "model_module": "@jupyter-widgets/base",
      "model_module_version": "1.2.0",
      "model_name": "LayoutModel",
      "state": {}
     },
     "4020ee94e0d344399a15376188e963fe": {
      "model_module": "@jupyter-widgets/controls",
      "model_module_version": "1.5.0",
      "model_name": "VBoxModel",
      "state": {
       "children": [
        "IPY_MODEL_87b8bebd02bc43978f54e0a72aea1d4b",
        "IPY_MODEL_2ad1f3b8e15c45cb9e3d6d2d58201843"
       ],
       "layout": "IPY_MODEL_923c57ed117b492dbdb7a70a600616f4"
      }
     },
     "410b9d1094624872bfa704f837696d13": {
      "model_module": "@jupyter-widgets/base",
      "model_module_version": "1.2.0",
      "model_name": "LayoutModel",
      "state": {
       "width": "auto"
      }
     },
     "416e6a9e766142b5a809f375c2655d96": {
      "model_module": "@jupyter-widgets/controls",
      "model_module_version": "1.5.0",
      "model_name": "ButtonModel",
      "state": {
       "button_style": "warning",
       "description": "Cancel",
       "layout": "IPY_MODEL_f24d722caa7c4a2f8c9ef74a113a2d79",
       "style": "IPY_MODEL_1ea03d6a8b1c4b4399b1d9320a869523"
      }
     },
     "41b3b043ec57458fbee6323b1021188d": {
      "model_module": "@jupyter-widgets/controls",
      "model_module_version": "1.5.0",
      "model_name": "DescriptionStyleModel",
      "state": {
       "description_width": ""
      }
     },
     "41dcb7456d664d2084fe1f4d407c0aea": {
      "model_module": "@jupyter-widgets/controls",
      "model_module_version": "1.5.0",
      "model_name": "SliderStyleModel",
      "state": {
       "description_width": ""
      }
     },
     "43958420704f4dd5bd41977862316129": {
      "model_module": "@jupyter-widgets/base",
      "model_module_version": "1.2.0",
      "model_name": "LayoutModel",
      "state": {
       "width": "80%"
      }
     },
     "4462d44b6e8343ffbf572a70b7aadb86": {
      "model_module": "@jupyter-widgets/base",
      "model_module_version": "1.2.0",
      "model_name": "LayoutModel",
      "state": {
       "grid_area": "filename",
       "width": "auto"
      }
     },
     "453accf9898345afbe428a68f472fed0": {
      "model_module": "@jupyter-widgets/base",
      "model_module_version": "1.2.0",
      "model_name": "LayoutModel",
      "state": {}
     },
     "45efce84782944b886dab8a6a6bc1555": {
      "model_module": "@jupyter-widgets/controls",
      "model_module_version": "1.5.0",
      "model_name": "FloatSliderModel",
      "state": {
       "continuous_update": false,
       "description": "F1 p1",
       "layout": "IPY_MODEL_da1eb17687b8438d99fe44ae8f8e4bfd",
       "max": 250,
       "min": -250,
       "style": "IPY_MODEL_605877a7ccf24104bd27dffdafa9f763"
      }
     },
     "466de69eb08f42299a35fa1dd1760d25": {
      "model_module": "@jupyter-widgets/base",
      "model_module_version": "1.2.0",
      "model_name": "LayoutModel",
      "state": {}
     },
     "47e41e6363ea41e98bc9cc843ca650ec": {
      "model_module": "@jupyter-widgets/controls",
      "model_module_version": "1.5.0",
      "model_name": "FloatSliderModel",
      "state": {
       "continuous_update": false,
       "description": "F2 p0",
       "layout": "IPY_MODEL_176d249a1cdb4e45b8eae9997bf0fbf6",
       "max": 180,
       "min": -180,
       "step": 0.1,
       "style": "IPY_MODEL_92eddd5b06964837acb2a3fbe6f31dfd"
      }
     },
     "47ee25955b404e3eb3d049ec554e8231": {
      "model_module": "@jupyter-widgets/base",
      "model_module_version": "1.2.0",
      "model_name": "LayoutModel",
      "state": {}
     },
     "484cdae423824d4cbafba41513ffd245": {
      "model_module": "@jupyter-widgets/base",
      "model_module_version": "1.2.0",
      "model_name": "LayoutModel",
      "state": {
       "grid_area": "filename",
       "width": "auto"
      }
     },
     "48e0e80f832d46508a59c7c8e2f0f5a2": {
      "model_module": "@jupyter-widgets/controls",
      "model_module_version": "1.5.0",
      "model_name": "SliderStyleModel",
      "state": {
       "description_width": ""
      }
     },
     "4909597a37f04cb686e00877a0950179": {
      "model_module": "@jupyter-widgets/controls",
      "model_module_version": "1.5.0",
      "model_name": "CheckboxModel",
      "state": {
       "description": "Negative",
       "disabled": false,
       "layout": "IPY_MODEL_61fa4431155e49a0a7761b41f7bf9836",
       "style": "IPY_MODEL_22f81f6c061f4d1bb70e75ccc6c87272",
       "value": false
      }
     },
     "496b54bad2c04defa58521eaaba012aa": {
      "model_module": "@jupyter-widgets/controls",
      "model_module_version": "1.5.0",
      "model_name": "FloatLogSliderModel",
      "state": {
       "continuous_update": false,
       "description": "scale:",
       "layout": "IPY_MODEL_22a0af6b48eb4aff81688030f34d73b1",
       "max": 2,
       "min": -1,
       "step": 0.01,
       "style": "IPY_MODEL_02f9e5e4097f4872873df9afccaee5d5",
       "value": 1.1748975549395295
      }
     },
     "49a15c1bfe0a4b91a8d63026ee8b24a4": {
      "model_module": "@jupyter-widgets/controls",
      "model_module_version": "1.5.0",
      "model_name": "SelectModel",
      "state": {
       "_options_labels": [
        "..",
        "pdata",
        "acqu",
        "acqu2",
        "acqu2s",
        "acqus",
        "audita.txt",
        "cpdprg2",
        "format.temp",
        "processed.gs2",
        "pulseprogram",
        "scon2",
        "ser",
        "shimvalues",
        "uxnmr.par"
       ],
       "index": 12,
       "layout": "IPY_MODEL_a4e816b51c454eacab1b135fc897c8ef",
       "rows": 8,
       "style": "IPY_MODEL_c3272bedb5514f54bf106f624c7948f8"
      }
     },
     "49cb5eb63d83467d97eebbebeba4a485": {
      "model_module": "@jupyter-widgets/base",
      "model_module_version": "1.2.0",
      "model_name": "LayoutModel",
      "state": {
       "width": "40%"
      }
     },
     "49dbafe9f7804582ae12fa3ea141b978": {
      "model_module": "@jupyter-widgets/controls",
      "model_module_version": "1.5.0",
      "model_name": "ButtonStyleModel",
      "state": {}
     },
     "4a739d41e5a94bc89548655b6d671cd0": {
      "model_module": "@jupyter-widgets/controls",
      "model_module_version": "1.5.0",
      "model_name": "ButtonStyleModel",
      "state": {}
     },
     "4a78390de3724e32a697611fd7153bb1": {
      "model_module": "@jupyter-widgets/controls",
      "model_module_version": "1.5.0",
      "model_name": "VBoxModel",
      "state": {
       "children": [
        "IPY_MODEL_638ddde27ea74842a1e12e56f17ed909",
        "IPY_MODEL_45efce84782944b886dab8a6a6bc1555"
       ],
       "layout": "IPY_MODEL_f4c1eb8d0e544b98b03e138e898fe121"
      }
     },
     "4d0164d76c1e49fab9629ae01c6ca7b5": {
      "model_module": "@jupyter-widgets/controls",
      "model_module_version": "1.5.0",
      "model_name": "GridBoxModel",
      "state": {
       "children": [
        "IPY_MODEL_ed73fed929b247beb32d2912d6f94136",
        "IPY_MODEL_158b58c225b1462eaf9fc9d5bde3faa1",
        "IPY_MODEL_49a15c1bfe0a4b91a8d63026ee8b24a4"
       ],
       "layout": "IPY_MODEL_2083478c425540e3b9ffd97caa2d98aa"
      }
     },
     "4e32bf55153e415b840e3effdb6f6d46": {
      "model_module": "@jupyter-widgets/controls",
      "model_module_version": "1.5.0",
      "model_name": "SliderStyleModel",
      "state": {
       "description_width": ""
      }
     },
     "4efa70c1eb914084ba469b71ccc8944f": {
      "model_module": "@jupyter-widgets/base",
      "model_module_version": "1.2.0",
      "model_name": "LayoutModel",
      "state": {}
     },
     "4f73d1b4f783484bb4f77b0e3be58408": {
      "model_module": "@jupyter-widgets/controls",
      "model_module_version": "1.5.0",
      "model_name": "ButtonModel",
      "state": {
       "button_style": "success",
       "description": "Apply correction",
       "layout": "IPY_MODEL_cfa3d40c9f0c403b9b472d40e36c9a38",
       "style": "IPY_MODEL_49dbafe9f7804582ae12fa3ea141b978"
      }
     },
     "4fea469ce0e74c42ae02f84f572a8edb": {
      "model_module": "@jupyter-widgets/controls",
      "model_module_version": "1.5.0",
      "model_name": "VBoxModel",
      "state": {
       "children": [
        "IPY_MODEL_4d0164d76c1e49fab9629ae01c6ca7b5",
        "IPY_MODEL_d3287977355043cc8bfdf3f349933442"
       ],
       "layout": "IPY_MODEL_0419f6d9f3b54747bdba1e196dc66518"
      }
     },
     "52d6e37bba0e481a8b817d7752cbd253": {
      "model_module": "@jupyter-widgets/base",
      "model_module_version": "1.2.0",
      "model_name": "LayoutModel",
      "state": {
       "grid_area": "pathlist",
       "width": "auto"
      }
     },
     "581dbdd3f5de44e2ade6dc0d6f634c17": {
      "model_module": "@jupyter-widgets/controls",
      "model_module_version": "1.5.0",
      "model_name": "HBoxModel",
      "state": {
       "children": [
        "IPY_MODEL_4f73d1b4f783484bb4f77b0e3be58408",
        "IPY_MODEL_284b50eac3a4462aa78dcead9f25d7ff"
       ],
       "layout": "IPY_MODEL_279512292bb64a3d96b9bfae54102e5a"
      }
     },
     "599bf95def47466aa7fbc9f0df116cdc": {
      "model_module": "@jupyter-widgets/controls",
      "model_module_version": "1.5.0",
      "model_name": "HBoxModel",
      "state": {
       "children": [
        "IPY_MODEL_fe0c8dbf16934d35874ebb236b090dd5",
        "IPY_MODEL_ef5407b39f1e43c9a4bae72fe832eff8"
       ],
       "layout": "IPY_MODEL_3748d1a62d6f4b46896a6078884cad20"
      }
     },
     "5b46ec9f05494b3ab222bfd213a97c2d": {
      "model_module": "@jupyter-widgets/controls",
      "model_module_version": "1.5.0",
      "model_name": "SliderStyleModel",
      "state": {
       "description_width": ""
      }
     },
     "605877a7ccf24104bd27dffdafa9f763": {
      "model_module": "@jupyter-widgets/controls",
      "model_module_version": "1.5.0",
      "model_name": "SliderStyleModel",
      "state": {
       "description_width": ""
      }
     },
     "6154c4582b0b4262ab7b83607abacedb": {
      "model_module": "@jupyter-widgets/controls",
      "model_module_version": "1.5.0",
      "model_name": "ButtonStyleModel",
      "state": {}
     },
     "61fa4431155e49a0a7761b41f7bf9836": {
      "model_module": "@jupyter-widgets/base",
      "model_module_version": "1.2.0",
      "model_name": "LayoutModel",
      "state": {}
     },
     "638ddde27ea74842a1e12e56f17ed909": {
      "model_module": "@jupyter-widgets/controls",
      "model_module_version": "1.5.0",
      "model_name": "FloatSliderModel",
      "state": {
       "continuous_update": false,
       "description": "F1 p0",
       "layout": "IPY_MODEL_453accf9898345afbe428a68f472fed0",
       "max": 180,
       "min": -180,
       "step": 0.1,
       "style": "IPY_MODEL_af04c690a99e43a883029ac7d25f8920"
      }
     },
     "63d067f180464b1a9ef6ae4b42e41bf3": {
      "model_module": "@jupyter-widgets/controls",
      "model_module_version": "1.5.0",
      "model_name": "VBoxModel",
      "state": {
       "children": [
        "IPY_MODEL_71cfbf9c698e4643b59e0f3010f12636",
        "IPY_MODEL_72c340e5b81f4a748c69fc747c4157ad"
       ],
       "layout": "IPY_MODEL_68ae79197529487eabe2b32b423bf110"
      }
     },
     "6441faabda394edcb56350d4268ed131": {
      "model_module": "@jupyter-widgets/base",
      "model_module_version": "1.2.0",
      "model_name": "LayoutModel",
      "state": {}
     },
     "649f03c8b84d44ed842a87c3d4dc3edd": {
      "model_module": "@jupyter-widgets/base",
      "model_module_version": "1.2.0",
      "model_name": "LayoutModel",
      "state": {}
     },
     "65441021496c4261ab326569d3093989": {
      "model_module": "@jupyter-widgets/controls",
      "model_module_version": "1.5.0",
      "model_name": "DescriptionStyleModel",
      "state": {
       "description_width": ""
      }
     },
     "68ae79197529487eabe2b32b423bf110": {
      "model_module": "@jupyter-widgets/base",
      "model_module_version": "1.2.0",
      "model_name": "LayoutModel",
      "state": {
       "width": "100%"
      }
     },
     "69056764479d4ef2a48950da28a871da": {
      "model_module": "@jupyter-widgets/controls",
      "model_module_version": "1.5.0",
      "model_name": "VBoxModel",
      "state": {
       "children": [
        "IPY_MODEL_edb9133e38b04f9e9bfd82979eeb738b",
        "IPY_MODEL_ef31e017d5fd4dee97bc4057c5c4c6a1"
       ],
       "layout": "IPY_MODEL_93ab44532bfb4af880c433ce3b0f3526"
      }
     },
     "69c09538978c45089bef43aad67cf674": {
      "model_module": "@jupyter-widgets/base",
      "model_module_version": "1.2.0",
      "model_name": "LayoutModel",
      "state": {}
     },
     "6b268ab9b494474d90b63d7480754eb1": {
      "model_module": "@jupyter-widgets/controls",
      "model_module_version": "1.5.0",
      "model_name": "DescriptionStyleModel",
      "state": {
       "description_width": ""
      }
     },
     "6c2fe7049da64a84bcc34c82bb9a9ec0": {
      "model_module": "@jupyter-widgets/controls",
      "model_module_version": "1.5.0",
      "model_name": "SliderStyleModel",
      "state": {
       "description_width": ""
      }
     },
     "6cf8b5f3ca104de1a019a0bd8d9daead": {
      "model_module": "@jupyter-widgets/controls",
      "model_module_version": "1.5.0",
      "model_name": "CheckboxModel",
      "state": {
       "description": "Negative",
       "disabled": false,
       "layout": "IPY_MODEL_9d88171b6a3a446787837f1a91e087e9",
       "style": "IPY_MODEL_2b7c1217796c406589330cac7b73c734",
       "value": false
      }
     },
     "6dba0a3bf6644d7a88e0239db519b83c": {
      "model_module": "@jupyter-widgets/controls",
      "model_module_version": "1.5.0",
      "model_name": "DescriptionStyleModel",
      "state": {
       "description_width": ""
      }
     },
     "6fc0d47ef0a84b26b10d9f4cdc6e23df": {
      "model_module": "@jupyter-widgets/controls",
      "model_module_version": "1.5.0",
      "model_name": "FloatSliderModel",
      "state": {
       "continuous_update": false,
       "description": "F1 p1",
       "layout": "IPY_MODEL_323648b98ec04de9b92e7e16b65df11f",
       "max": 250,
       "min": -250,
       "style": "IPY_MODEL_efad60b7bf8243b1ab1a2c20181ea56c"
      }
     },
     "71cfbf9c698e4643b59e0f3010f12636": {
      "model_module": "@jupyter-widgets/controls",
      "model_module_version": "1.5.0",
      "model_name": "FloatLogSliderModel",
      "state": {
       "continuous_update": false,
       "description": "scale:",
       "layout": "IPY_MODEL_e6685e8bb2ab49c2a4e9e8d0f7f23454",
       "max": 2,
       "min": -1,
       "step": 0.01,
       "style": "IPY_MODEL_3270858698b1483792f02675063e1d0b"
      }
     },
     "72ac3107c0634e9dbfd3d54836a92a74": {
      "model_module": "@jupyter-widgets/base",
      "model_module_version": "1.2.0",
      "model_name": "LayoutModel",
      "state": {
       "width": "100%"
      }
     },
     "72c340e5b81f4a748c69fc747c4157ad": {
      "model_module": "@jupyter-widgets/controls",
      "model_module_version": "1.5.0",
      "model_name": "HBoxModel",
      "state": {
       "children": [
        "IPY_MODEL_fbdfd4ac61484c42aa47aec3b822debe",
        "IPY_MODEL_f514b93e055342448c18a8622c5b75d3"
       ],
       "layout": "IPY_MODEL_98fa7193d07d4b56a9477050853ca869"
      }
     },
     "74e599038db84d2b9ea38cde959c1c1d": {
      "model_module": "@jupyter-widgets/controls",
      "model_module_version": "1.5.0",
      "model_name": "FloatLogSliderModel",
      "state": {
       "continuous_update": false,
       "description": "scale:",
       "layout": "IPY_MODEL_7dc2b8d7e9fa4698919c635d7edd8b01",
       "max": 2,
       "min": -1,
       "step": 0.01,
       "style": "IPY_MODEL_41dcb7456d664d2084fe1f4d407c0aea",
       "value": 16.982436524617444
      }
     },
     "7504f19ab4764c8bba2c8f4f1ff53a2a": {
      "model_module": "@jupyter-widgets/controls",
      "model_module_version": "1.5.0",
      "model_name": "FloatSliderModel",
      "state": {
       "continuous_update": false,
       "description": "F1 p1",
       "layout": "IPY_MODEL_2ec228e0567843e28c6485e7ec727536",
       "max": 250,
       "min": -250,
       "style": "IPY_MODEL_302ba6c5d0c24a889cf9454cf3e73ea7"
      }
     },
     "757f8d5a777d48a9ab29c8f1626742bf": {
      "model_module": "@jupyter-widgets/base",
      "model_module_version": "1.2.0",
      "model_name": "LayoutModel",
      "state": {
       "display": "none",
       "width": "auto"
      }
     },
     "75ee8e30ab3941c28c6acbf302aba3fb": {
      "model_module": "@jupyter-widgets/base",
      "model_module_version": "1.2.0",
      "model_name": "LayoutModel",
      "state": {}
     },
     "7a2c0ce42f7e4fb7b701c84e5fd152a4": {
      "model_module": "@jupyter-widgets/base",
      "model_module_version": "1.2.0",
      "model_name": "LayoutModel",
      "state": {
       "grid_area": "pathlist",
       "width": "auto"
      }
     },
     "7a8d1209568d43608daf01bc6e9b8017": {
      "model_module": "@jupyter-widgets/controls",
      "model_module_version": "1.5.0",
      "model_name": "FloatSliderModel",
      "state": {
       "continuous_update": false,
       "description": "F1 p1",
       "layout": "IPY_MODEL_1c39003a074c4e34967990a3c1089648",
       "max": 250,
       "min": -250,
       "style": "IPY_MODEL_e3f70abe7cb34726aab7ae808ed18e69"
      }
     },
     "7ae78bf8032c4f8f932062a8362c848e": {
      "model_module": "@jupyter-widgets/base",
      "model_module_version": "1.2.0",
      "model_name": "LayoutModel",
      "state": {}
     },
     "7b0f3b266f554901a5db5b7856837a70": {
      "model_module": "@jupyter-widgets/base",
      "model_module_version": "1.2.0",
      "model_name": "LayoutModel",
      "state": {
       "width": "40%"
      }
     },
     "7bc8cde2d80a40fc809e7939a748ba2c": {
      "model_module": "@jupyter-widgets/controls",
      "model_module_version": "1.5.0",
      "model_name": "DescriptionStyleModel",
      "state": {
       "description_width": ""
      }
     },
     "7dc2b8d7e9fa4698919c635d7edd8b01": {
      "model_module": "@jupyter-widgets/base",
      "model_module_version": "1.2.0",
      "model_name": "LayoutModel",
      "state": {
       "width": "80%"
      }
     },
     "80f1346019c649b78d16a6a416cdb39a": {
      "model_module": "@jupyter-widgets/controls",
      "model_module_version": "1.5.0",
      "model_name": "FloatSliderModel",
      "state": {
       "continuous_update": false,
       "description": "F2 p0",
       "layout": "IPY_MODEL_0d46841c9f4e4a8cbb0d36965e66ce5a",
       "max": 180,
       "min": -180,
       "step": 0.1,
       "style": "IPY_MODEL_5b46ec9f05494b3ab222bfd213a97c2d"
      }
     },
     "82adf2b8e6fe4eec95e728c7da8d0aa1": {
      "model_module": "@jupyter-widgets/controls",
      "model_module_version": "1.5.0",
      "model_name": "CheckboxModel",
      "state": {
       "description": "Positive",
       "disabled": false,
       "layout": "IPY_MODEL_2921dc778f074238bf58aaee2a5d1cb2",
       "style": "IPY_MODEL_6b268ab9b494474d90b63d7480754eb1",
       "value": true
      }
     },
     "83d7c937123d404680e65f42b4323be8": {
      "model_module": "@jupyter-widgets/controls",
      "model_module_version": "1.5.0",
      "model_name": "FloatSliderModel",
      "state": {
       "continuous_update": false,
       "description": "F2 p0",
       "layout": "IPY_MODEL_3ff4fef5443e4ed189a69aff4f764079",
       "max": 180,
       "min": -180,
       "step": 0.1,
       "style": "IPY_MODEL_8bbd387490dc4e30a0fb04e46aee395c"
      }
     },
     "84679e47da734603bc12fdf9a919bc98": {
      "model_module": "@jupyter-widgets/controls",
      "model_module_version": "1.5.0",
      "model_name": "SliderStyleModel",
      "state": {
       "description_width": ""
      }
     },
     "86c2dc8f5177496b83ec292e588a56f8": {
      "model_module": "@jupyter-widgets/controls",
      "model_module_version": "1.5.0",
      "model_name": "HBoxModel",
      "state": {
       "children": [
        "IPY_MODEL_1229c2eca8fd49ada15cfb17b1d3ef4d",
        "IPY_MODEL_3b90e771f3a648e5a0d19ce105a6a43e"
       ],
       "layout": "IPY_MODEL_fb07dec93e774d6d822fa4261493a8b1"
      }
     },
     "87b8bebd02bc43978f54e0a72aea1d4b": {
      "model_module": "@jupyter-widgets/controls",
      "model_module_version": "1.5.0",
      "model_name": "GridBoxModel",
      "state": {
       "children": [
        "IPY_MODEL_ad04db75b01948dca05517c1aa33131e",
        "IPY_MODEL_b9ae575a97844224b2d9baf6f0993276",
        "IPY_MODEL_ff2f13a179c74a9bbdefd227f7b4b807"
       ],
       "layout": "IPY_MODEL_ed227713dc6c4f96b390af5dcda46f01"
      }
     },
     "87f3231940cf4345bbf5ee3008fa5d53": {
      "model_module": "@jupyter-widgets/base",
      "model_module_version": "1.2.0",
      "model_name": "LayoutModel",
      "state": {
       "width": "40%"
      }
     },
     "89e4de2f9c514f07b0a08aba02376242": {
      "model_module": "@jupyter-widgets/controls",
      "model_module_version": "1.5.0",
      "model_name": "FloatSliderModel",
      "state": {
       "continuous_update": false,
       "description": "F2 p1",
       "layout": "IPY_MODEL_d370387d23924e54a2c29b624b0e2da9",
       "max": 250,
       "min": -250,
       "style": "IPY_MODEL_05945c01358a4f96932fa2404305309b"
      }
     },
     "8b22e8d45aca4aee82e9f19861f51389": {
      "model_module": "@jupyter-widgets/base",
      "model_module_version": "1.2.0",
      "model_name": "LayoutModel",
      "state": {}
     },
     "8bbd387490dc4e30a0fb04e46aee395c": {
      "model_module": "@jupyter-widgets/controls",
      "model_module_version": "1.5.0",
      "model_name": "SliderStyleModel",
      "state": {
       "description_width": ""
      }
     },
     "8bc135add8ff45628fa8a9b66d4cf85d": {
      "model_module": "@jupyter-widgets/controls",
      "model_module_version": "1.5.0",
      "model_name": "SliderStyleModel",
      "state": {
       "description_width": ""
      }
     },
     "8dda29dccadb44f69c28d15be786c67d": {
      "model_module": "@jupyter-widgets/controls",
      "model_module_version": "1.5.0",
      "model_name": "VBoxModel",
      "state": {
       "children": [
        "IPY_MODEL_47e41e6363ea41e98bc9cc843ca650ec",
        "IPY_MODEL_d6e783f2512a452c9cd4cc2c531f48e9"
       ],
       "layout": "IPY_MODEL_7b0f3b266f554901a5db5b7856837a70"
      }
     },
     "8f21810feef74d1499bf62d0a5e45745": {
      "model_module": "@jupyter-widgets/base",
      "model_module_version": "1.2.0",
      "model_name": "LayoutModel",
      "state": {
       "width": "40%"
      }
     },
     "90f1c15ff0b54f6094b9773e9bee3b9e": {
      "model_module": "@jupyter-widgets/controls",
      "model_module_version": "1.5.0",
      "model_name": "ButtonModel",
      "state": {
       "button_style": "success",
       "description": "Change",
       "layout": "IPY_MODEL_ad17a741ffca4cafa118263b5c9f8821",
       "style": "IPY_MODEL_ab65a92bc3174073a33ba6c94f03e098"
      }
     },
     "91d2699a269d4f3e82742f394d9165b9": {
      "model_module": "@jupyter-widgets/controls",
      "model_module_version": "1.5.0",
      "model_name": "SliderStyleModel",
      "state": {
       "description_width": ""
      }
     },
     "91efd2a03634408497076a0eebc66db0": {
      "model_module": "@jupyter-widgets/base",
      "model_module_version": "1.2.0",
      "model_name": "LayoutModel",
      "state": {}
     },
     "923c57ed117b492dbdb7a70a600616f4": {
      "model_module": "@jupyter-widgets/base",
      "model_module_version": "1.2.0",
      "model_name": "LayoutModel",
      "state": {
       "width": "auto"
      }
     },
     "9256d42a55ee4a5fa8c1a93262ceb7be": {
      "model_module": "@jupyter-widgets/base",
      "model_module_version": "1.2.0",
      "model_name": "LayoutModel",
      "state": {}
     },
     "92eddd5b06964837acb2a3fbe6f31dfd": {
      "model_module": "@jupyter-widgets/controls",
      "model_module_version": "1.5.0",
      "model_name": "SliderStyleModel",
      "state": {
       "description_width": ""
      }
     },
     "93ab44532bfb4af880c433ce3b0f3526": {
      "model_module": "@jupyter-widgets/base",
      "model_module_version": "1.2.0",
      "model_name": "LayoutModel",
      "state": {
       "width": "100%"
      }
     },
     "948b63a369b14d5cbb00e7443da5fcb6": {
      "model_module": "@jupyter-widgets/controls",
      "model_module_version": "1.5.0",
      "model_name": "HBoxModel",
      "state": {
       "children": [
        "IPY_MODEL_a66492bb60fd42c1b116558a188e3f44",
        "IPY_MODEL_a21c53d49ed9458a8217a531891480a9",
        "IPY_MODEL_4909597a37f04cb686e00877a0950179",
        "IPY_MODEL_1b84e5030a88454994964fd0a48845be"
       ],
       "layout": "IPY_MODEL_9256d42a55ee4a5fa8c1a93262ceb7be"
      }
     },
     "961349f52c944eadaf1af877dbbe736c": {
      "model_module": "@jupyter-widgets/controls",
      "model_module_version": "1.5.0",
      "model_name": "HBoxModel",
      "state": {
       "children": [
        "IPY_MODEL_e70f0970e5cb48c7abd32de358713f89",
        "IPY_MODEL_416e6a9e766142b5a809f375c2655d96"
       ],
       "layout": "IPY_MODEL_cbeaf0bc83504040aaff9bdebb372b5a"
      }
     },
     "96b048bf7d0c49cd9633fe3f8517388a": {
      "model_module": "@jupyter-widgets/controls",
      "model_module_version": "1.5.0",
      "model_name": "ButtonModel",
      "state": {
       "button_style": "warning",
       "description": "Cancel",
       "layout": "IPY_MODEL_757f8d5a777d48a9ab29c8f1626742bf",
       "style": "IPY_MODEL_9ba5c98e74694e2491567ee3d02b0c4a"
      }
     },
     "98fa7193d07d4b56a9477050853ca869": {
      "model_module": "@jupyter-widgets/base",
      "model_module_version": "1.2.0",
      "model_name": "LayoutModel",
      "state": {
       "width": "80%"
      }
     },
     "9b1fce6d8f4341bea3f936a1a5b5b627": {
      "model_module": "@jupyter-widgets/base",
      "model_module_version": "1.2.0",
      "model_name": "LayoutModel",
      "state": {
       "width": "80%"
      }
     },
     "9ba5c98e74694e2491567ee3d02b0c4a": {
      "model_module": "@jupyter-widgets/controls",
      "model_module_version": "1.5.0",
      "model_name": "ButtonStyleModel",
      "state": {}
     },
     "9d88171b6a3a446787837f1a91e087e9": {
      "model_module": "@jupyter-widgets/base",
      "model_module_version": "1.2.0",
      "model_name": "LayoutModel",
      "state": {}
     },
     "9fd60b80a9b342fe81b3b3c1c972595d": {
      "model_module": "@jupyter-widgets/base",
      "model_module_version": "1.2.0",
      "model_name": "LayoutModel",
      "state": {}
     },
     "a0dc9c51349a4a43a5e5fc43a1ea0cb7": {
      "model_module": "@jupyter-widgets/controls",
      "model_module_version": "1.5.0",
      "model_name": "HTMLModel",
      "state": {
       "layout": "IPY_MODEL_a1c6448293004aa8970cc5a8e37236d8",
       "placeholder": "",
       "style": "IPY_MODEL_c3fc984e716e4236bfa0204d2dbdcf16",
       "value": "<span style=\"margin-left:10px; color:orange;\">/DATA/SM_ARTE_v3/ARTEref_161123/40/ser</span>"
      }
     },
     "a1c6448293004aa8970cc5a8e37236d8": {
      "model_module": "@jupyter-widgets/base",
      "model_module_version": "1.2.0",
      "model_name": "LayoutModel",
      "state": {}
     },
     "a21c53d49ed9458a8217a531891480a9": {
      "model_module": "@jupyter-widgets/controls",
      "model_module_version": "1.5.0",
      "model_name": "CheckboxModel",
      "state": {
       "description": "Positive",
       "disabled": false,
       "layout": "IPY_MODEL_3c2cf817e96141d79c2f8aabfd82a2bc",
       "style": "IPY_MODEL_65441021496c4261ab326569d3093989",
       "value": true
      }
     },
     "a22e6d0ec0f44ca0ba0ae6fbaa1e25e9": {
      "model_module": "@jupyter-widgets/controls",
      "model_module_version": "1.5.0",
      "model_name": "FloatLogSliderModel",
      "state": {
       "continuous_update": false,
       "description": "scale:",
       "layout": "IPY_MODEL_044719841adf428080adebc02c8098b4",
       "max": 2,
       "min": -1,
       "step": 0.01,
       "style": "IPY_MODEL_0d3d9fbb5bfc428b858f908367457fd5",
       "value": 4.36515832240166
      }
     },
     "a2ff98f26f1245819e2a780e654bac9e": {
      "model_module": "@jupyter-widgets/base",
      "model_module_version": "1.2.0",
      "model_name": "LayoutModel",
      "state": {
       "width": "auto"
      }
     },
     "a4e816b51c454eacab1b135fc897c8ef": {
      "model_module": "@jupyter-widgets/base",
      "model_module_version": "1.2.0",
      "model_name": "LayoutModel",
      "state": {
       "grid_area": "dircontent",
       "width": "auto"
      }
     },
     "a502c78e1f7347fabbc501e5de25d144": {
      "model_module": "@jupyter-widgets/base",
      "model_module_version": "1.2.0",
      "model_name": "LayoutModel",
      "state": {}
     },
     "a66492bb60fd42c1b116558a188e3f44": {
      "model_module": "@jupyter-widgets/controls",
      "model_module_version": "1.5.0",
      "model_name": "FloatLogSliderModel",
      "state": {
       "continuous_update": false,
       "description": "scale:",
       "layout": "IPY_MODEL_9b1fce6d8f4341bea3f936a1a5b5b627",
       "max": 3,
       "min": -1,
       "step": 0.01,
       "style": "IPY_MODEL_91d2699a269d4f3e82742f394d9165b9",
       "value": 0.8912509381337456
      }
     },
     "a8e8ab4e062d4b7db4ef8279accaf69a": {
      "model_module": "@jupyter-widgets/base",
      "model_module_version": "1.2.0",
      "model_name": "LayoutModel",
      "state": {}
     },
     "ab65a92bc3174073a33ba6c94f03e098": {
      "model_module": "@jupyter-widgets/controls",
      "model_module_version": "1.5.0",
      "model_name": "ButtonStyleModel",
      "state": {}
     },
     "abb51a7b2a0c4dbaa6ab574a072f53f0": {
      "model_module": "@jupyter-widgets/controls",
      "model_module_version": "1.5.0",
      "model_name": "ButtonStyleModel",
      "state": {}
     },
     "ad04db75b01948dca05517c1aa33131e": {
      "model_module": "@jupyter-widgets/controls",
      "model_module_version": "1.5.0",
      "model_name": "DropdownModel",
      "state": {
       "_options_labels": [
        "/DATA/ARTEref/50",
        "/DATA/ARTEref",
        "/DATA",
        "/"
       ],
       "index": 0,
       "layout": "IPY_MODEL_52d6e37bba0e481a8b817d7752cbd253",
       "style": "IPY_MODEL_005c3f96673e4b5f84541de9ca76e7e2"
      }
     },
     "ad17a741ffca4cafa118263b5c9f8821": {
      "model_module": "@jupyter-widgets/base",
      "model_module_version": "1.2.0",
      "model_name": "LayoutModel",
      "state": {
       "width": "auto"
      }
     },
     "af04c690a99e43a883029ac7d25f8920": {
      "model_module": "@jupyter-widgets/controls",
      "model_module_version": "1.5.0",
      "model_name": "SliderStyleModel",
      "state": {
       "description_width": ""
      }
     },
     "b1e50bd6264f4c4790ab59923eaa5ef4": {
      "model_module": "@jupyter-widgets/controls",
      "model_module_version": "1.5.0",
      "model_name": "ButtonStyleModel",
      "state": {}
     },
     "b2efd8974c02443d93348e772b0d558e": {
      "model_module": "@jupyter-widgets/base",
      "model_module_version": "1.2.0",
      "model_name": "LayoutModel",
      "state": {}
     },
     "b355c56cf50340939a3ac91c83ae5277": {
      "model_module": "@jupyter-widgets/controls",
      "model_module_version": "1.5.0",
      "model_name": "FloatSliderModel",
      "state": {
       "continuous_update": false,
       "description": "F1 p1",
       "layout": "IPY_MODEL_75ee8e30ab3941c28c6acbf302aba3fb",
       "max": 250,
       "min": -250,
       "style": "IPY_MODEL_c25b0f73ba554d869993e2e27de0e27f"
      }
     },
     "b38d0fc7423045e28e9c5fab102b4b37": {
      "model_module": "@jupyter-widgets/base",
      "model_module_version": "1.2.0",
      "model_name": "LayoutModel",
      "state": {
       "width": "80%"
      }
     },
     "b3a9bbf71f2d4a0a9535f7a63f7b65df": {
      "model_module": "@jupyter-widgets/base",
      "model_module_version": "1.2.0",
      "model_name": "LayoutModel",
      "state": {}
     },
     "b83d6ca572d94aabab3843064d44dd18": {
      "model_module": "@jupyter-widgets/base",
      "model_module_version": "1.2.0",
      "model_name": "LayoutModel",
      "state": {
       "width": "40%"
      }
     },
     "b8b9daf8d4d147cc889aa9515ed4298f": {
      "model_module": "@jupyter-widgets/controls",
      "model_module_version": "1.5.0",
      "model_name": "ButtonModel",
      "state": {
       "button_style": "warning",
       "description": "Cancel",
       "layout": "IPY_MODEL_dc92996bd0124ff99d369b86d497c235",
       "style": "IPY_MODEL_355b5461e114437bb6dd7b3b972ccca9"
      }
     },
     "b9ae575a97844224b2d9baf6f0993276": {
      "model_module": "@jupyter-widgets/controls",
      "model_module_version": "1.5.0",
      "model_name": "TextModel",
      "state": {
       "layout": "IPY_MODEL_4462d44b6e8343ffbf572a70b7aadb86",
       "placeholder": "output filename",
       "style": "IPY_MODEL_e4e2b5e57be14b36b0a4fbbd32509679",
       "value": "ser"
      }
     },
     "ba97fb6d3f124ab48e2d1ae029ef3130": {
      "model_module": "@jupyter-widgets/base",
      "model_module_version": "1.2.0",
      "model_name": "LayoutModel",
      "state": {
       "width": "auto"
      }
     },
     "ba9f6383f3494970a75bdd30328902e5": {
      "model_module": "@jupyter-widgets/controls",
      "model_module_version": "1.5.0",
      "model_name": "SliderStyleModel",
      "state": {
       "description_width": ""
      }
     },
     "bb8735613c93459aaeb0eac85c1ee5c7": {
      "model_module": "@jupyter-widgets/controls",
      "model_module_version": "1.5.0",
      "model_name": "ButtonModel",
      "state": {
       "button_style": "warning",
       "description": "Cancel",
       "layout": "IPY_MODEL_182a5db4b8f34f01b2c4c4e4c6ac5640",
       "style": "IPY_MODEL_4a739d41e5a94bc89548655b6d671cd0"
      }
     },
     "be2ba5d5b6f74b909dea636088a00494": {
      "model_module": "@jupyter-widgets/controls",
      "model_module_version": "1.5.0",
      "model_name": "ButtonModel",
      "state": {
       "button_style": "success",
       "description": "Apply correction",
       "layout": "IPY_MODEL_47ee25955b404e3eb3d049ec554e8231",
       "style": "IPY_MODEL_d172f385daea4a7ebc1cfc293227e16c"
      }
     },
     "bfb75520e38649c79c76545a18b64c2f": {
      "model_module": "@jupyter-widgets/controls",
      "model_module_version": "1.5.0",
      "model_name": "ButtonModel",
      "state": {
       "button_style": "success",
       "description": "Apply correction",
       "layout": "IPY_MODEL_649f03c8b84d44ed842a87c3d4dc3edd",
       "style": "IPY_MODEL_26a086b09ba9422ab180d622c60214b5"
      }
     },
     "c25b0f73ba554d869993e2e27de0e27f": {
      "model_module": "@jupyter-widgets/controls",
      "model_module_version": "1.5.0",
      "model_name": "SliderStyleModel",
      "state": {
       "description_width": ""
      }
     },
     "c26c76bb158947269703dda4a9160f68": {
      "model_module": "@jupyter-widgets/controls",
      "model_module_version": "1.5.0",
      "model_name": "HBoxModel",
      "state": {
       "children": [
        "IPY_MODEL_be2ba5d5b6f74b909dea636088a00494",
        "IPY_MODEL_b8b9daf8d4d147cc889aa9515ed4298f"
       ],
       "layout": "IPY_MODEL_b2efd8974c02443d93348e772b0d558e"
      }
     },
     "c3272bedb5514f54bf106f624c7948f8": {
      "model_module": "@jupyter-widgets/controls",
      "model_module_version": "1.5.0",
      "model_name": "DescriptionStyleModel",
      "state": {
       "description_width": ""
      }
     },
     "c3fc984e716e4236bfa0204d2dbdcf16": {
      "model_module": "@jupyter-widgets/controls",
      "model_module_version": "1.5.0",
      "model_name": "DescriptionStyleModel",
      "state": {
       "description_width": ""
      }
     },
     "c735e97683dd4a0985b288706f1bb5b7": {
      "model_module": "@jupyter-widgets/base",
      "model_module_version": "1.2.0",
      "model_name": "LayoutModel",
      "state": {
       "width": "40%"
      }
     },
     "cbeaf0bc83504040aaff9bdebb372b5a": {
      "model_module": "@jupyter-widgets/base",
      "model_module_version": "1.2.0",
      "model_name": "LayoutModel",
      "state": {}
     },
     "cd152be986004a5892b9faee354a3490": {
      "model_module": "@jupyter-widgets/controls",
      "model_module_version": "1.5.0",
      "model_name": "VBoxModel",
      "state": {
       "children": [
        "IPY_MODEL_80f1346019c649b78d16a6a416cdb39a",
        "IPY_MODEL_eb1bc6a3848e40e9a2ed719554d61eaa"
       ],
       "layout": "IPY_MODEL_d8d92f9f66a9409ca644a28976628b3a"
      }
     },
     "cfa3d40c9f0c403b9b472d40e36c9a38": {
      "model_module": "@jupyter-widgets/base",
      "model_module_version": "1.2.0",
      "model_name": "LayoutModel",
      "state": {}
     },
     "d172f385daea4a7ebc1cfc293227e16c": {
      "model_module": "@jupyter-widgets/controls",
      "model_module_version": "1.5.0",
      "model_name": "ButtonStyleModel",
      "state": {}
     },
     "d3287977355043cc8bfdf3f349933442": {
      "model_module": "@jupyter-widgets/controls",
      "model_module_version": "1.5.0",
      "model_name": "HBoxModel",
      "state": {
       "children": [
        "IPY_MODEL_2e5b3ac956f24ec3a89bf85b6fa1fa44",
        "IPY_MODEL_96b048bf7d0c49cd9633fe3f8517388a",
        "IPY_MODEL_a0dc9c51349a4a43a5e5fc43a1ea0cb7"
       ],
       "layout": "IPY_MODEL_a2ff98f26f1245819e2a780e654bac9e"
      }
     },
     "d370387d23924e54a2c29b624b0e2da9": {
      "model_module": "@jupyter-widgets/base",
      "model_module_version": "1.2.0",
      "model_name": "LayoutModel",
      "state": {}
     },
     "d4456e044bdc4904ad879ab2bd1266e6": {
      "model_module": "@jupyter-widgets/base",
      "model_module_version": "1.2.0",
      "model_name": "LayoutModel",
      "state": {
       "width": "40%"
      }
     },
     "d5bb1ef8edcc400b94f58a84ea657f8e": {
      "model_module": "@jupyter-widgets/controls",
      "model_module_version": "1.5.0",
      "model_name": "HBoxModel",
      "state": {
       "children": [
        "IPY_MODEL_de2cb66abd7a4a20b4d168d857832016",
        "IPY_MODEL_8dda29dccadb44f69c28d15be786c67d"
       ],
       "layout": "IPY_MODEL_e60d290ab78b48779da2736cd90b4b44"
      }
     },
     "d6d54358cf2b450bbd9f36e8d0e397d5": {
      "model_module": "@jupyter-widgets/controls",
      "model_module_version": "1.5.0",
      "model_name": "FloatSliderModel",
      "state": {
       "continuous_update": false,
       "description": "F2 p0",
       "layout": "IPY_MODEL_a502c78e1f7347fabbc501e5de25d144",
       "max": 180,
       "min": -180,
       "step": 0.1,
       "style": "IPY_MODEL_84679e47da734603bc12fdf9a919bc98"
      }
     },
     "d6e783f2512a452c9cd4cc2c531f48e9": {
      "model_module": "@jupyter-widgets/controls",
      "model_module_version": "1.5.0",
      "model_name": "FloatSliderModel",
      "state": {
       "continuous_update": false,
       "description": "F2 p1",
       "layout": "IPY_MODEL_69c09538978c45089bef43aad67cf674",
       "max": 250,
       "min": -250,
       "style": "IPY_MODEL_ff50c92e02b14731b253a38ce6bfc1d1"
      }
     },
     "d8d92f9f66a9409ca644a28976628b3a": {
      "model_module": "@jupyter-widgets/base",
      "model_module_version": "1.2.0",
      "model_name": "LayoutModel",
      "state": {
       "width": "40%"
      }
     },
     "d95d269f39fd4968a69c0329f03904fa": {
      "model_module": "@jupyter-widgets/base",
      "model_module_version": "1.2.0",
      "model_name": "LayoutModel",
      "state": {
       "width": "100%"
      }
     },
     "da1eb17687b8438d99fe44ae8f8e4bfd": {
      "model_module": "@jupyter-widgets/base",
      "model_module_version": "1.2.0",
      "model_name": "LayoutModel",
      "state": {}
     },
     "db91a6eca0c04088bd4a38c2c4dc7a06": {
      "model_module": "@jupyter-widgets/controls",
      "model_module_version": "1.5.0",
      "model_name": "CheckboxModel",
      "state": {
       "description": "Cursors",
       "disabled": false,
       "layout": "IPY_MODEL_6441faabda394edcb56350d4268ed131",
       "style": "IPY_MODEL_7bc8cde2d80a40fc809e7939a748ba2c",
       "value": false
      }
     },
     "dc92996bd0124ff99d369b86d497c235": {
      "model_module": "@jupyter-widgets/base",
      "model_module_version": "1.2.0",
      "model_name": "LayoutModel",
      "state": {}
     },
     "de2cb66abd7a4a20b4d168d857832016": {
      "model_module": "@jupyter-widgets/controls",
      "model_module_version": "1.5.0",
      "model_name": "VBoxModel",
      "state": {
       "children": [
        "IPY_MODEL_f2d431c5a4c14ba69b397b478df2cc82",
        "IPY_MODEL_7a8d1209568d43608daf01bc6e9b8017"
       ],
       "layout": "IPY_MODEL_c735e97683dd4a0985b288706f1bb5b7"
      }
     },
     "e3f70abe7cb34726aab7ae808ed18e69": {
      "model_module": "@jupyter-widgets/controls",
      "model_module_version": "1.5.0",
      "model_name": "SliderStyleModel",
      "state": {
       "description_width": ""
      }
     },
     "e4c6074d4b754ac48d21231cce5826b3": {
      "model_module": "@jupyter-widgets/controls",
      "model_module_version": "1.5.0",
      "model_name": "SliderStyleModel",
      "state": {
       "description_width": ""
      }
     },
     "e4e2b5e57be14b36b0a4fbbd32509679": {
      "model_module": "@jupyter-widgets/controls",
      "model_module_version": "1.5.0",
      "model_name": "DescriptionStyleModel",
      "state": {
       "description_width": ""
      }
     },
     "e60d290ab78b48779da2736cd90b4b44": {
      "model_module": "@jupyter-widgets/base",
      "model_module_version": "1.2.0",
      "model_name": "LayoutModel",
      "state": {
       "width": "80%"
      }
     },
     "e6685e8bb2ab49c2a4e9e8d0f7f23454": {
      "model_module": "@jupyter-widgets/base",
      "model_module_version": "1.2.0",
      "model_name": "LayoutModel",
      "state": {
       "width": "80%"
      }
     },
     "e70f0970e5cb48c7abd32de358713f89": {
      "model_module": "@jupyter-widgets/controls",
      "model_module_version": "1.5.0",
      "model_name": "ButtonModel",
      "state": {
       "button_style": "success",
       "description": "Apply correction",
       "layout": "IPY_MODEL_7ae78bf8032c4f8f932062a8362c848e",
       "style": "IPY_MODEL_6154c4582b0b4262ab7b83607abacedb"
      }
     },
     "e7e085a1a7f14da1a9f7290a44dd33b5": {
      "model_module": "@jupyter-widgets/base",
      "model_module_version": "1.2.0",
      "model_name": "LayoutModel",
      "state": {
       "width": "80%"
      }
     },
     "e92a1c334c7243b4a2ae94660733ee3a": {
      "model_module": "@jupyter-widgets/base",
      "model_module_version": "1.2.0",
      "model_name": "LayoutModel",
      "state": {}
     },
     "ead736cbc3e84017b334ae23b88ee518": {
      "model_module": "@jupyter-widgets/controls",
      "model_module_version": "1.5.0",
      "model_name": "ButtonModel",
      "state": {
       "button_style": "warning",
       "description": "Cancel",
       "layout": "IPY_MODEL_eae719e00d6a445e8fb3f22fc69e7381",
       "style": "IPY_MODEL_3aba95ac06104c05b48b75a55d86cd0b"
      }
     },
     "eae719e00d6a445e8fb3f22fc69e7381": {
      "model_module": "@jupyter-widgets/base",
      "model_module_version": "1.2.0",
      "model_name": "LayoutModel",
      "state": {
       "display": "none",
       "width": "auto"
      }
     },
     "eb1bc6a3848e40e9a2ed719554d61eaa": {
      "model_module": "@jupyter-widgets/controls",
      "model_module_version": "1.5.0",
      "model_name": "FloatSliderModel",
      "state": {
       "continuous_update": false,
       "description": "F2 p1",
       "layout": "IPY_MODEL_22fa810604cb41888b0e7b368530379c",
       "max": 250,
       "min": -250,
       "style": "IPY_MODEL_3bea8d399d6a4f2594c1efc149438428"
      }
     },
     "ed227713dc6c4f96b390af5dcda46f01": {
      "model_module": "@jupyter-widgets/base",
      "model_module_version": "1.2.0",
      "model_name": "LayoutModel",
      "state": {
       "display": "none",
       "grid_gap": "0px 0px",
       "grid_template_areas": "\n                    'pathlist filename'\n                    'dircontent dircontent'\n                    ",
       "grid_template_columns": "60% 40%",
       "grid_template_rows": "auto auto",
       "width": "500px"
      }
     },
     "ed73fed929b247beb32d2912d6f94136": {
      "model_module": "@jupyter-widgets/controls",
      "model_module_version": "1.5.0",
      "model_name": "DropdownModel",
      "state": {
       "_options_labels": [
        "/DATA/SM_ARTE_v3/ARTEref_161123/40",
        "/DATA/SM_ARTE_v3/ARTEref_161123",
        "/DATA/SM_ARTE_v3",
        "/DATA",
        "/"
       ],
       "index": 0,
       "layout": "IPY_MODEL_7a2c0ce42f7e4fb7b701c84e5fd152a4",
       "style": "IPY_MODEL_41b3b043ec57458fbee6323b1021188d"
      }
     },
     "ed98d19395e64363816e273b0e5fabcb": {
      "model_module": "@jupyter-widgets/controls",
      "model_module_version": "1.5.0",
      "model_name": "HBoxModel",
      "state": {
       "children": [
        "IPY_MODEL_f889d18c69084ec0961e6448684659a8",
        "IPY_MODEL_82adf2b8e6fe4eec95e728c7da8d0aa1",
        "IPY_MODEL_6cf8b5f3ca104de1a019a0bd8d9daead",
        "IPY_MODEL_db91a6eca0c04088bd4a38c2c4dc7a06"
       ],
       "layout": "IPY_MODEL_4efa70c1eb914084ba469b71ccc8944f"
      }
     },
     "edb9133e38b04f9e9bfd82979eeb738b": {
      "model_module": "@jupyter-widgets/controls",
      "model_module_version": "1.5.0",
      "model_name": "FloatLogSliderModel",
      "state": {
       "continuous_update": false,
       "description": "scale:",
       "layout": "IPY_MODEL_e7e085a1a7f14da1a9f7290a44dd33b5",
       "max": 2,
       "min": -1,
       "step": 0.01,
       "style": "IPY_MODEL_09b739ac7cb9453296df7a87515b8ac7",
       "value": 1.202264434617413
      }
     },
     "ee2d16c84e3b4acfb428ea054a5879b8": {
      "model_module": "@jupyter-widgets/controls",
      "model_module_version": "1.5.0",
      "model_name": "SliderStyleModel",
      "state": {
       "description_width": ""
      }
     },
     "eed856879ffd47c799f6500db32ca478": {
      "model_module": "@jupyter-widgets/controls",
      "model_module_version": "1.5.0",
      "model_name": "VBoxModel",
      "state": {
       "children": [
        "IPY_MODEL_74e599038db84d2b9ea38cde959c1c1d",
        "IPY_MODEL_d5bb1ef8edcc400b94f58a84ea657f8e"
       ],
       "layout": "IPY_MODEL_72ac3107c0634e9dbfd3d54836a92a74"
      }
     },
     "ef31e017d5fd4dee97bc4057c5c4c6a1": {
      "model_module": "@jupyter-widgets/controls",
      "model_module_version": "1.5.0",
      "model_name": "HBoxModel",
      "state": {
       "children": [
        "IPY_MODEL_4a78390de3724e32a697611fd7153bb1",
        "IPY_MODEL_cd152be986004a5892b9faee354a3490"
       ],
       "layout": "IPY_MODEL_b38d0fc7423045e28e9c5fab102b4b37"
      }
     },
     "ef35304066104f99b438d0d6c0bed8fe": {
      "model_module": "@jupyter-widgets/base",
      "model_module_version": "1.2.0",
      "model_name": "LayoutModel",
      "state": {}
     },
     "ef5407b39f1e43c9a4bae72fe832eff8": {
      "model_module": "@jupyter-widgets/controls",
      "model_module_version": "1.5.0",
      "model_name": "VBoxModel",
      "state": {
       "children": [
        "IPY_MODEL_19cca5716c484712b2ae09055e6ebade",
        "IPY_MODEL_89e4de2f9c514f07b0a08aba02376242"
       ],
       "layout": "IPY_MODEL_49cb5eb63d83467d97eebbebeba4a485"
      }
     },
     "efad60b7bf8243b1ab1a2c20181ea56c": {
      "model_module": "@jupyter-widgets/controls",
      "model_module_version": "1.5.0",
      "model_name": "SliderStyleModel",
      "state": {
       "description_width": ""
      }
     },
     "f24d722caa7c4a2f8c9ef74a113a2d79": {
      "model_module": "@jupyter-widgets/base",
      "model_module_version": "1.2.0",
      "model_name": "LayoutModel",
      "state": {}
     },
     "f2d431c5a4c14ba69b397b478df2cc82": {
      "model_module": "@jupyter-widgets/controls",
      "model_module_version": "1.5.0",
      "model_name": "FloatSliderModel",
      "state": {
       "continuous_update": false,
       "description": "F1 p0",
       "layout": "IPY_MODEL_91efd2a03634408497076a0eebc66db0",
       "max": 180,
       "min": -180,
       "step": 0.1,
       "style": "IPY_MODEL_ee2d16c84e3b4acfb428ea054a5879b8"
      }
     },
     "f4c1eb8d0e544b98b03e138e898fe121": {
      "model_module": "@jupyter-widgets/base",
      "model_module_version": "1.2.0",
      "model_name": "LayoutModel",
      "state": {
       "width": "40%"
      }
     },
     "f514b93e055342448c18a8622c5b75d3": {
      "model_module": "@jupyter-widgets/controls",
      "model_module_version": "1.5.0",
      "model_name": "VBoxModel",
      "state": {
       "children": [
        "IPY_MODEL_83d7c937123d404680e65f42b4323be8",
        "IPY_MODEL_2b15956ec1934196a2acca88e4690035"
       ],
       "layout": "IPY_MODEL_d4456e044bdc4904ad879ab2bd1266e6"
      }
     },
     "f5239932b7fc487ea01e902698b25ef7": {
      "model_module": "@jupyter-widgets/controls",
      "model_module_version": "1.5.0",
      "model_name": "HTMLModel",
      "state": {
       "layout": "IPY_MODEL_9fd60b80a9b342fe81b3b3c1c972595d",
       "placeholder": "",
       "style": "IPY_MODEL_6dba0a3bf6644d7a88e0239db519b83c",
       "value": "<span style=\"margin-left:10px; color:orange;\">/DATA/ARTEref/50/ser</span>"
      }
     },
     "f6c457a899384da1b42793a3817baff5": {
      "model_module": "@jupyter-widgets/controls",
      "model_module_version": "1.5.0",
      "model_name": "DescriptionStyleModel",
      "state": {
       "description_width": ""
      }
     },
     "f889d18c69084ec0961e6448684659a8": {
      "model_module": "@jupyter-widgets/controls",
      "model_module_version": "1.5.0",
      "model_name": "FloatLogSliderModel",
      "state": {
       "continuous_update": false,
       "description": "scale:",
       "layout": "IPY_MODEL_43958420704f4dd5bd41977862316129",
       "max": 3,
       "min": -1,
       "step": 0.01,
       "style": "IPY_MODEL_48e0e80f832d46508a59c7c8e2f0f5a2"
      }
     },
     "f9a4652e083548da92b0901d2bfd0cb3": {
      "model_module": "@jupyter-widgets/controls",
      "model_module_version": "1.5.0",
      "model_name": "VBoxModel",
      "state": {
       "children": [
        "IPY_MODEL_a22e6d0ec0f44ca0ba0ae6fbaa1e25e9",
        "IPY_MODEL_86c2dc8f5177496b83ec292e588a56f8"
       ],
       "layout": "IPY_MODEL_d95d269f39fd4968a69c0329f03904fa"
      }
     },
     "fb07dec93e774d6d822fa4261493a8b1": {
      "model_module": "@jupyter-widgets/base",
      "model_module_version": "1.2.0",
      "model_name": "LayoutModel",
      "state": {
       "width": "80%"
      }
     },
     "fbdfd4ac61484c42aa47aec3b822debe": {
      "model_module": "@jupyter-widgets/controls",
      "model_module_version": "1.5.0",
      "model_name": "VBoxModel",
      "state": {
       "children": [
        "IPY_MODEL_3ca37eeae73d4ebd95cd4715303382ac",
        "IPY_MODEL_7504f19ab4764c8bba2c8f4f1ff53a2a"
       ],
       "layout": "IPY_MODEL_b83d6ca572d94aabab3843064d44dd18"
      }
     },
     "fdf561c1fb38485fb3e30737ff49a283": {
      "model_module": "@jupyter-widgets/base",
      "model_module_version": "1.2.0",
      "model_name": "LayoutModel",
      "state": {}
     },
     "fe0c8dbf16934d35874ebb236b090dd5": {
      "model_module": "@jupyter-widgets/controls",
      "model_module_version": "1.5.0",
      "model_name": "VBoxModel",
      "state": {
       "children": [
        "IPY_MODEL_00385fe35c474cf7aaf1059808c4c2de",
        "IPY_MODEL_b355c56cf50340939a3ac91c83ae5277"
       ],
       "layout": "IPY_MODEL_fe4a153414844106b5e530a9f20c20b7"
      }
     },
     "fe1be290a4b4410bb92c15b0002d64be": {
      "model_module": "@jupyter-widgets/base",
      "model_module_version": "1.2.0",
      "model_name": "LayoutModel",
      "state": {}
     },
     "fe4a153414844106b5e530a9f20c20b7": {
      "model_module": "@jupyter-widgets/base",
      "model_module_version": "1.2.0",
      "model_name": "LayoutModel",
      "state": {
       "width": "40%"
      }
     },
     "ff2f13a179c74a9bbdefd227f7b4b807": {
      "model_module": "@jupyter-widgets/controls",
      "model_module_version": "1.5.0",
      "model_name": "SelectModel",
      "state": {
       "_options_labels": [
        "..",
        "pdata",
        "acqu",
        "acqu2",
        "acqu2s",
        "acqus",
        "audita.txt",
        "format.temp",
        "processed.gs2",
        "pulseprogram",
        "scon2",
        "ser",
        "shimvalues",
        "uxnmr.par"
       ],
       "index": 11,
       "layout": "IPY_MODEL_2f538efa38d8437c8c8153714249863e",
       "rows": 8,
       "style": "IPY_MODEL_14c25a521a9b4468be4c958ad8083d22"
      }
     },
     "ff50c92e02b14731b253a38ce6bfc1d1": {
      "model_module": "@jupyter-widgets/controls",
      "model_module_version": "1.5.0",
      "model_name": "SliderStyleModel",
      "state": {
       "description_width": ""
      }
     }
    },
    "version_major": 2,
    "version_minor": 0
   }
  }
 },
 "nbformat": 4,
 "nbformat_minor": 2
}
