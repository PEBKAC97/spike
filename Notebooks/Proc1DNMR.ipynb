{
 "cells": [
  {
   "cell_type": "markdown",
   "metadata": {
    "class": "test_MAD"
   },
   "source": [
    "# 1D NMR Processing and Display\n",
    "\n",
    "a simplified environment for processing 1D Bruker NMR datasets with `SPIKE`.\n",
    "\n",
    "Run each python cell in sequence by using the ⇥Run button above (or typing *shift* Enter).\n",
    "\n",
    "Cells are meant to be used in order, taking you to the complete analysis, but you can go back at any time.\n",
    "\n",
    "The SPIKE code used for processing is visible in the cells, and can be used as a minimal tutorial.\n",
    "You can hide it when done to present a clean NoteBook.\n",
    "\n",
    "`reverse_scroll` inverse the direction of the mouse wheel, whether it is `True` or `False`\n",
    "\n",
    "***Remark*** *to use this program, you should have installed the following packages:*\n",
    "\n",
    "- *a complete scientific python environment* ( *tested with python 3.7 - [anaconda](https://www.anaconda.com/) does probably not work in python 2.7 *)\n",
    "- [`spike`](https://www.bitbucket.org/delsuc/spike) ( *version 0.99.9 minimum* )\n",
    "- [`ipywidgets`](https://ipywidgets.readthedocs.io/en/latest/)  ( *tested with version 7.1* )\n",
    "- [`ipyml`](https://github.com/matplotlib/jupyter-matplotlib)  ( *adds interactivity in the notebook* )\n",
    "\n",
    "## Initialization\n",
    "the following cell should be run only once, at the beginning of the processing"
   ]
  },
  {
   "cell_type": "code",
   "execution_count": 1,
   "metadata": {
    "scrolled": false
   },
   "outputs": [
    {
     "data": {
      "text/markdown": [
       "## STARTING Environment..."
      ],
      "text/plain": [
       "<IPython.core.display.Markdown object>"
      ]
     },
     "metadata": {},
     "output_type": "display_data"
    },
    {
     "name": "stdout",
     "output_type": "stream",
     "text": [
      "\n",
      "    ========================\n",
      "          SPIKE\n",
      "    ========================\n",
      "    Version     : 0.99.21\n",
      "    Date        : 23-02-2021\n",
      "    Revision Id : 490\n",
      "    ========================\n",
      "*** zoom3D not loaded ***\n",
      "plugins loaded:\n",
      "Bruker_NMR_FT,  Bucketing,  FTMS_calib,  Fitter,  Integrate,  Linear_prediction,  PALMA,  Peaks,  apmin,  bcorr,  bokeh_display,  diagonal_2DMS,  fastclean,  gaussenh,  pg_sane,  rem_ridge,  sane,  sg,  test,  urQRd,  wavelet, \n",
      "\n",
      "spike.plugins.report() for a short description of each plugins\n",
      "spike.plugins.report('module_name') for complete documentation on one plugin\n",
      "\n",
      "Interactive module version, 1.2.0\n"
     ]
    },
    {
     "data": {
      "text/markdown": [
       "## ...program is Ready"
      ],
      "text/plain": [
       "<IPython.core.display.Markdown object>"
      ]
     },
     "metadata": {},
     "output_type": "display_data"
    },
    {
     "data": {
      "text/html": [
       "\n",
       "<style>\n",
       "hr         {height: 2px; border: 0;border-top: 1px solid #ccc;margin: 1em 0;padding: 0; }\n",
       ".container {width:100% !important; }\n",
       "</style>\n",
       "<script>\n",
       "code_show=false; \n",
       "function code_toggle()\n",
       "    { if (code_show)\n",
       "        { $('div.input').hide(); $('#but').val(\"show python code\");\n",
       "        } else { $('div.input').show(); $('#but').val(\"hide python code\");\n",
       "    }\n",
       "    code_show = !code_show } \n",
       "$(document).ready(code_toggle);\n",
       "</script>\n",
       "<form action=\"javascript:code_toggle()\">\n",
       "<input id=\"but\" type=\"submit\" style=\"border:1px solid black; background-color:#DDD\">\n",
       "\n",
       "</form>"
      ],
      "text/plain": [
       "<IPython.core.display.HTML object>"
      ]
     },
     "metadata": {},
     "output_type": "display_data"
    },
    {
     "data": {
      "text/html": [
       "\n",
       "<style>hr {height: 2px; border: 0;border-top: 1px solid #ccc;margin: 1em 0;padding: 0; }</style>\n",
       "<script>\n",
       "doc_show=false; \n",
       "function doc_toggle()\n",
       "    { if (doc_show)\n",
       "        { $('div.text_cell').hide(); $('#butdoc').val(\"show documentation\");\n",
       "        } else { $('div.text_cell').show(); $('#butdoc').val(\"hide documentation\");\n",
       "    }\n",
       "    doc_show = !doc_show } \n",
       "$(document).ready(doc_toggle);\n",
       "</script>\n",
       "<form action=\"javascript:doc_toggle()\">\n",
       "<input id=\"butdoc\" type=\"submit\" style=\"border:1px solid black; background-color:#DDD\">\n",
       "<i>usefull to show/print a clean screen when processing is finished</i>\n",
       "</form>"
      ],
      "text/plain": [
       "<IPython.core.display.HTML object>"
      ]
     },
     "metadata": {},
     "output_type": "display_data"
    }
   ],
   "source": [
    "# load all python and interactive tools - should be run only once\n",
    "from __future__ import print_function, division\n",
    "from IPython.display import display, HTML, Markdown, Image\n",
    "display(Markdown('## STARTING Environment...'))\n",
    "import matplotlib as mpl\n",
    "%matplotlib widget\n",
    "import os.path as op\n",
    "import spike\n",
    "from spike.File.BrukerNMR import Import_1D\n",
    "from spike.Interactive import INTER as I\n",
    "from spike.Interactive.ipyfilechooser import FileChooser\n",
    "print(\"\\nInteractive module version,\",I.__version__)\n",
    "display(Markdown('## ...program is Ready'))\n",
    "from importlib import reload  # the two following lines are debugging help\n",
    "mpl.rcParams['figure.figsize'] = (8,4)\n",
    "reload(I)                   # and can be removed safely when in production\n",
    "I.hidecode(message=\"\")\n",
    "I.hidedoc()"
   ]
  },
  {
   "cell_type": "markdown",
   "metadata": {},
   "source": [
    "### Choose the file\n",
    "The `FileChooser()` tool creates a dialog box which allows to choose a file on your disk\n",
    "\n",
    "- use the `Select` button, `..` is for going back in the directory tree\n",
    "- modify the ( *optional* ) `path` argument, to start the exploration on a given location\n",
    "- After the selection, the selected filename is found in `FC.selected`"
   ]
  },
  {
   "cell_type": "code",
   "execution_count": 2,
   "metadata": {},
   "outputs": [
    {
     "data": {
      "application/vnd.jupyter.widget-view+json": {
       "model_id": "a8fb3d35c2ed4f14b25381bb25063eaf",
       "version_major": 2,
       "version_minor": 0
      },
      "text/plain": [
       "FileChooser(path='/DATA', filename='fid', show_hidden='False')"
      ]
     },
     "metadata": {},
     "output_type": "display_data"
    }
   ],
   "source": [
    "# FileChooser\n",
    "FC = FileChooser(path='/DATA/',filename='fid')\n",
    "display(FC)"
   ]
  },
  {
   "cell_type": "markdown",
   "metadata": {},
   "source": [
    "### Import dataset\n",
    "\n",
    "This is simply done with the `Import_1D()` tool, which returns a `SPIKE` object.\n",
    "\n",
    "We store the dataset into a variable, typing the variable name shows a summary of the dataset. "
   ]
  },
  {
   "cell_type": "code",
   "execution_count": 3,
   "metadata": {},
   "outputs": [
    {
     "name": "stdout",
     "output_type": "stream",
     "text": [
      "Reading file  /DATA/ARTEref/1/fid\n"
     ]
    },
    {
     "data": {
      "application/vnd.jupyter.widget-view+json": {
       "model_id": "453d2f8391964208bc9c96bef842b7e1",
       "version_major": 2,
       "version_minor": 0
      },
      "text/plain": [
       "Canvas(toolbar=Toolbar(toolitems=[('Home', 'Reset original view', 'home', 'home'), ('Back', 'Back to previous …"
      ]
     },
     "metadata": {},
     "output_type": "display_data"
    }
   ],
   "source": [
    "# Import dataset\n",
    "print('Reading file ',FC.selected)\n",
    "d1 = Import_1D(FC.selected)\n",
    "d1.filename = FC.selected\n",
    "d1.set_unit('sec').display(title=FC.nmrname+\" fid\")\n",
    "d1.mplfigure.figure.canvas.header_visible = False"
   ]
  },
  {
   "cell_type": "code",
   "execution_count": 6,
   "metadata": {},
   "outputs": [
    {
     "data": {
      "application/vnd.jupyter.widget-view+json": {
       "model_id": "",
       "version_major": 2,
       "version_minor": 0
      },
      "text/plain": [
       "Show1D(children=(VBox(children=(HTML(value='&nbsp;', layout=Layout(width='80px')), Button(button_style='succes…"
      ]
     },
     "metadata": {},
     "output_type": "display_data"
    },
    {
     "data": {
      "application/vnd.jupyter.widget-view+json": {
       "model_id": "",
       "version_major": 2,
       "version_minor": 0
      },
      "text/plain": [
       "Show1D(children=(VBox(children=(HTML(value='&nbsp;', layout=Layout(width='80px')), Button(button_style='succes…"
      ]
     },
     "metadata": {},
     "output_type": "display_data"
    },
    {
     "data": {
      "image/png": "[encoded data removed]",
      "text/plain": [
       "<Figure size 1777.78x888.889 with 1 Axes>"
      ]
     },
     "metadata": {},
     "output_type": "display_data"
    }
   ],
   "source": [
    "I.Show1D(d1)"
   ]
  },
  {
   "cell_type": "markdown",
   "metadata": {},
   "source": [
    "In the current set-up, the figure can be resized and explored *(zoom, shift, resize, etc)* with the jupyter tools displayed  below the dataset.\n",
    "The figure can also be saved as a `png` graphic file.\n",
    "\n",
    "## Basic Processing\n",
    "The following cell applies a basic processing, check the documentation for more advanced processing"
   ]
  },
  {
   "cell_type": "code",
   "execution_count": 5,
   "metadata": {},
   "outputs": [
    {
     "data": {
      "application/vnd.jupyter.widget-view+json": {
       "model_id": "df083e9f2bbc489f992e6cc29269b6bf",
       "version_major": 2,
       "version_minor": 0
      },
      "text/plain": [
       "Canvas(toolbar=Toolbar(toolitems=[('Home', 'Reset original view', 'home', 'home'), ('Back', 'Back to previous …"
      ]
     },
     "metadata": {},
     "output_type": "display_data"
    }
   ],
   "source": [
    "# Basic Processing\n",
    "LB = 0.1        # you can adapte LB to your means\n",
    "D1 = d1.copy() # copy the imported data-set to another object for processing\n",
    "D1.apod_em(LB).zf(4).ft_sim().bk_corr().apmin()  # chaining  apodisation - zerofill - FT - Bruker correction - autophase\n",
    "D1.set_unit('ppm').display(title=FC.nmrname)  # chain  set to ppm unit - and display\n",
    "D1.mplfigure.figure.canvas.header_visible = False"
   ]
  },
  {
   "cell_type": "markdown",
   "metadata": {},
   "source": [
    "<hr/>\n",
    "\n",
    "**Following steps are for special operations**\n",
    "\n",
    "### rephasing\n",
    "If the spectrum requires rephasing, use the interactive phaser down here.\n",
    "\n",
    "Use `scale` (or mouse wheel) and the zoom box to tune the display; then use `P0, P1, pivot` to optimize the phase.\n",
    "\n",
    "`pivot` is where the $1^{st}$ order correction is not acting - and can be moved with the slider or by clicking on the spectrum\n",
    "\n",
    "Once finished, click on `Done`"
   ]
  },
  {
   "cell_type": "code",
   "execution_count": 7,
   "metadata": {
    "scrolled": false
   },
   "outputs": [
    {
     "data": {
      "application/vnd.jupyter.widget-view+json": {
       "model_id": "",
       "version_major": 2,
       "version_minor": 0
      },
      "text/plain": [
       "Phaser1D(children=(VBox(children=(HBox(children=(Button(button_style='success', description='Done', style=Butt…"
      ]
     },
     "metadata": {},
     "output_type": "display_data"
    },
    {
     "data": {
      "image/png": "[encoded data removed]",
      "text/plain": [
       "<Figure size 1777.78x888.889 with 1 Axes>"
      ]
     },
     "metadata": {},
     "output_type": "display_data"
    },
    {
     "name": "stdout",
     "output_type": "stream",
     "text": [
      "Applied: phase(0.0,  0.0)\n"
     ]
    }
   ],
   "source": [
    "# rephasing\n",
    "reload(I)\n",
    "I.Phaser1D(D1);"
   ]
  },
  {
   "cell_type": "markdown",
   "metadata": {},
   "source": [
    "### Baseline correction\n",
    "A simple interactive baseline correction tool\n",
    "\n",
    "Choose positions on the baseline of the spectrum with the `select` slider or  by clicking on the baseline.\n",
    "`Add` a control point and see its effect either on the spectrum, or the computed baseline.\n",
    "\n",
    "You can also `Rem`ove the control point closest to the selector.\n",
    "You can also try the `Auto` button for a set of selector points, a set you can optimize by adding and removing points."
   ]
  },
  {
   "cell_type": "code",
   "execution_count": 8,
   "metadata": {},
   "outputs": [
    {
     "data": {
      "application/vnd.jupyter.widget-view+json": {
       "model_id": "",
       "version_major": 2,
       "version_minor": 0
      },
      "text/plain": [
       "VBox(children=(HBox(children=(Button(button_style='success', description='Done', layout=Layout(width='80px'), …"
      ]
     },
     "metadata": {},
     "output_type": "display_data"
    },
    {
     "name": "stdout",
     "output_type": "stream",
     "text": [
      "Applied correction:\n",
      " [-1.0472190815606226, 0.17492433728272724, 2.7953231056343353, 3.6744151595366668, 5.117799191277808, 7.316630025600292, 8.50318415845511, 9.34742072608001]\n"
     ]
    },
    {
     "data": {
      "image/png": "[encoded data removed]",
      "text/plain": [
       "<Figure size 1777.78x888.889 with 1 Axes>"
      ]
     },
     "metadata": {},
     "output_type": "display_data"
    }
   ],
   "source": [
    "# Baseline Correction\n",
    "reload(I)\n",
    "I.baseline1D(D1);"
   ]
  },
  {
   "cell_type": "markdown",
   "metadata": {},
   "source": [
    "## Peak-Picker\n",
    "- first detect peaks (<span style=color:red>in red</span>) in the zoom window by moving the `threshold`\n",
    "- `Add` the detected peaks to the permanent peak list (<span style=color:blue>in blue</span>)\n",
    "- recalibrate the spectrum in the `calibration` tab by clicking on a peak and setting the correct ppm value\n",
    "- get the peak-list in the `Peak Table` tab"
   ]
  },
  {
   "cell_type": "code",
   "execution_count": 9,
   "metadata": {},
   "outputs": [
    {
     "data": {
      "application/vnd.jupyter.widget-view+json": {
       "model_id": "",
       "version_major": 2,
       "version_minor": 0
      },
      "text/plain": [
       "NMRPeaker1D(children=(VBox(children=(HBox(children=(Button(button_style='success', description='Done', layout=…"
      ]
     },
     "metadata": {},
     "output_type": "display_data"
    },
    {
     "data": {
      "application/vnd.jupyter.widget-view+json": {
       "model_id": "fc009348c9854068a8a2c58adf0612bb",
       "version_major": 2,
       "version_minor": 0
      },
      "text/plain": [
       "Tab(children=(Canvas(header_visible=False, toolbar=Toolbar(toolitems=[('Home', 'Reset original view', 'home', …"
      ]
     },
     "metadata": {},
     "output_type": "display_data"
    }
   ],
   "source": [
    "# Peak Picker\n",
    "reload(I)\n",
    "ph = I.NMRPeaker1D(D1);"
   ]
  },
  {
   "cell_type": "markdown",
   "metadata": {},
   "source": [
    "## Integrate\n",
    "Integration zones are computed from the peaks detected with the Peak-Picker above **required**\n"
   ]
  },
  {
   "cell_type": "code",
   "execution_count": 10,
   "metadata": {},
   "outputs": [
    {
     "data": {
      "application/vnd.jupyter.widget-view+json": {
       "model_id": "",
       "version_major": 2,
       "version_minor": 0
      },
      "text/plain": [
       "NMRIntegrate(children=(VBox(children=(HBox(children=(Button(button_style='success', description='Done', layout…"
      ]
     },
     "metadata": {},
     "output_type": "display_data"
    },
    {
     "data": {
      "image/png": "[encoded data removed]",
      "text/plain": [
       "<Figure size 1777.78x888.889 with 1 Axes>"
      ]
     },
     "metadata": {},
     "output_type": "display_data"
    },
    {
     "data": {
      "application/vnd.jupyter.widget-view+json": {
       "model_id": "52546838b13d4477abc998e34938a079",
       "version_major": 2,
       "version_minor": 0
      },
      "text/plain": [
       "Output(layout=Layout(border='1px solid red'), outputs=({'output_type': 'display_data', 'data': {'text/plain': …"
      ]
     },
     "metadata": {},
     "output_type": "display_data"
    }
   ],
   "source": [
    "# Integration\n",
    "reload(I)\n",
    "D1.real()\n",
    "ii = I.NMRIntegrate(D1);"
   ]
  },
  {
   "cell_type": "markdown",
   "metadata": {},
   "source": [
    "## Interactive composite display\n",
    "Convenient to set-up your own figure\n",
    "(spectral superposition is not operational)\n",
    "\n",
    "label y pos -1"
   ]
  },
  {
   "cell_type": "code",
   "execution_count": 18,
   "metadata": {
    "scrolled": false
   },
   "outputs": [
    {
     "data": {
      "application/vnd.jupyter.widget-view+json": {
       "model_id": "5b2bdbd1f56142e9b408239ca8078661",
       "version_major": 2,
       "version_minor": 0
      },
      "text/plain": [
       "Show1Dplus(children=(VBox(children=(HTML(value='&nbsp;', layout=Layout(width='80px')), Button(button_style='su…"
      ]
     },
     "metadata": {},
     "output_type": "display_data"
    }
   ],
   "source": [
    "# Composite display\n",
    "reload(I)\n",
    "reload(spike.plugins.Peaks)\n",
    "s = I.Show1Dplus(D1, title=FC.nmrname);"
   ]
  },
  {
   "cell_type": "markdown",
   "metadata": {},
   "source": [
    "---\n",
    "optional steps\n",
    "\n",
    "## Save the data-set\n",
    "either as stand alone native SPIKE files, (there are other formats)"
   ]
  },
  {
   "cell_type": "code",
   "execution_count": null,
   "metadata": {},
   "outputs": [],
   "source": [
    "D1.save('example1.gs1')"
   ]
  },
  {
   "cell_type": "markdown",
   "metadata": {},
   "source": [
    "or as a `csv` text file, - in which case, it is probably better to remove the imaginary part, not useful there.\n",
    "\n",
    "The file contains some basic informations in addition to the spectral data"
   ]
  },
  {
   "cell_type": "code",
   "execution_count": null,
   "metadata": {},
   "outputs": [],
   "source": [
    "D1.copy().real().save_csv('example.csv')"
   ]
  },
  {
   "cell_type": "markdown",
   "metadata": {},
   "source": [
    "### Save the peak list to a csv file"
   ]
  },
  {
   "cell_type": "code",
   "execution_count": null,
   "metadata": {},
   "outputs": [],
   "source": [
    "D1.pk2pandas().to_csv('peaklist.csv')"
   ]
  },
  {
   "cell_type": "markdown",
   "metadata": {},
   "source": [
    "### Save the integrals to a csv file"
   ]
  },
  {
   "cell_type": "code",
   "execution_count": null,
   "metadata": {},
   "outputs": [],
   "source": [
    "D1.integrals.to_pandas().to_csv('integrals.csv')"
   ]
  },
  {
   "cell_type": "markdown",
   "metadata": {},
   "source": [
    "---\n",
    "\n",
    "This part adds the bucket list tool \n",
    "\n",
    "## Export a buckelist"
   ]
  },
  {
   "cell_type": "code",
   "execution_count": null,
   "metadata": {},
   "outputs": [],
   "source": [
    "# adapt the parameters below\n",
    "Zoom = (0.5,8)                    # zone to bucket       - (start, end) in ppm\n",
    "BucketSize = 0.04                 # width of the buckets - in ppm\n",
    "Output = 'screen'                 # 'screen'  or  'file'  determines output\n",
    "BucketFileName = 'bucket.csv'     #  the filename if Output (above) is 'file'  - don't forget the .csv extension."
   ]
  },
  {
   "cell_type": "code",
   "execution_count": null,
   "metadata": {},
   "outputs": [],
   "source": [
    "# the following cell executes the bucketing\n",
    "if Output == 'file':\n",
    "    with open(BucketFileName,'w') as F:\n",
    "        D1.bucket1d(zoom=Zoom, bsize=BucketSize, pp=True, file=F)\n",
    "    print('buckets written to %s\\n'%op.realpath(BucketFileName))\n",
    "else:\n",
    "    D1.bucket1d(zoom=Zoom, bsize=BucketSize, pp=True);"
   ]
  },
  {
   "cell_type": "markdown",
   "metadata": {},
   "source": [
    "*Tools in this page is under intensive development - things are going to change rapidly.*\n",
    "\n",
    "to come/finish:\n",
    "\n",
    "- spectral superposition\n",
    "- annotations"
   ]
  },
  {
   "cell_type": "code",
   "execution_count": null,
   "metadata": {},
   "outputs": [],
   "source": []
  }
 ],
 "metadata": {
  "jupytext": {
   "encoding": "# -*- coding: utf-8 -*-",
   "formats": "ipynb,py:percent"
  },
  "kernelspec": {
   "display_name": "Python 3",
   "language": "python",
   "name": "python3"
  },
  "language_info": {
   "codemirror_mode": {
    "name": "ipython",
    "version": 3
   },
   "file_extension": ".py",
   "mimetype": "text/x-python",
   "name": "python",
   "nbconvert_exporter": "python",
   "pygments_lexer": "ipython3",
   "version": "3.7.3"
  },
  "varInspector": {
   "cols": {
    "lenName": 16,
    "lenType": 16,
    "lenVar": 40
   },
   "kernels_config": {
    "python": {
     "delete_cmd_postfix": "",
     "delete_cmd_prefix": "del ",
     "library": "var_list.py",
     "varRefreshCmd": "print(var_dic_list())"
    },
    "r": {
     "delete_cmd_postfix": ") ",
     "delete_cmd_prefix": "rm(",
     "library": "var_list.r",
     "varRefreshCmd": "cat(var_dic_list()) "
    }
   },
   "types_to_exclude": [
    "module",
    "function",
    "builtin_function_or_method",
    "instance",
    "_Feature"
   ],
   "window_display": false
  },
  "widgets": {
   "application/vnd.jupyter.widget-state+json": {
    "state": {
     "0018c3406ea340e7bfa8d990f42da727": {
      "model_module": "@jupyter-widgets/controls",
      "model_module_version": "1.5.0",
      "model_name": "ButtonModel",
      "state": {
       "button_style": "success",
       "description": "Done",
       "layout": "IPY_MODEL_385ef4626b2c42e9a393f21aef47b6ed",
       "style": "IPY_MODEL_9aa60213a02d45f0abc3bff501c242f8"
      }
     },
     "0068f0aa89b64904a484054fc36e252f": {
      "model_module": "@jupyter-widgets/controls",
      "model_module_version": "1.5.0",
      "model_name": "ButtonStyleModel",
      "state": {}
     },
     "0089f9c9601f4811b29c479d54d42082": {
      "model_module": "@jupyter-widgets/base",
      "model_module_version": "1.2.0",
      "model_name": "LayoutModel",
      "state": {
       "width": "80%"
      }
     },
     "0094485db9da4177ad4da8d797c6ec12": {
      "model_module": "@jupyter-widgets/base",
      "model_module_version": "1.2.0",
      "model_name": "LayoutModel",
      "state": {}
     },
     "025ec3d7ffeb43b3aa04453347810d92": {
      "model_module": "@jupyter-widgets/base",
      "model_module_version": "1.2.0",
      "model_name": "LayoutModel",
      "state": {}
     },
     "02c5670517f045df8ab59cb5f9f44ef2": {
      "model_module": "@jupyter-widgets/base",
      "model_module_version": "1.2.0",
      "model_name": "LayoutModel",
      "state": {
       "width": "70px"
      }
     },
     "036e9e1201cf428084301243a1bada53": {
      "model_module": "@jupyter-widgets/controls",
      "model_module_version": "1.5.0",
      "model_name": "ButtonModel",
      "state": {
       "button_style": "success",
       "description": "Done",
       "layout": "IPY_MODEL_6e884f90398944ce9e49ba1ab490ae13",
       "style": "IPY_MODEL_1357862cca3149cba26cd32c11717d38"
      }
     },
     "04d73c6df79440d0acfe11dce615bf74": {
      "model_module": "@jupyter-widgets/controls",
      "model_module_version": "1.5.0",
      "model_name": "HBoxModel",
      "state": {
       "children": [
        "IPY_MODEL_5d121360acf342b8976766d767c03bf6",
        "IPY_MODEL_9da015e1f2c044a48bc8982e17bfed41",
        "IPY_MODEL_1cf818bff09e4947aa9a744a96e187e9",
        "IPY_MODEL_5f4858b987a34694be6064366fc92b4d",
        "IPY_MODEL_59fadfb25a844ff1a31d653e07e1332f",
        "IPY_MODEL_8acb8361d1a947aa8dd91c80da0ed544"
       ],
       "layout": "IPY_MODEL_eb48c668fa814d8ab80f66c66707aab5"
      }
     },
     "05331af6be00451687585d553a710b38": {
      "model_module": "@jupyter-widgets/base",
      "model_module_version": "1.2.0",
      "model_name": "LayoutModel",
      "state": {}
     },
     "05eaf8014e494752ab50d153c0a8ace3": {
      "model_module": "@jupyter-widgets/controls",
      "model_module_version": "1.5.0",
      "model_name": "GridBoxModel",
      "state": {
       "children": [
        "IPY_MODEL_b07aa323eeb94b8ca9de28021916effb",
        "IPY_MODEL_f7d77347107347ef8eda62f468a174f0",
        "IPY_MODEL_e9accee3d74a463492fc7212ae78424f"
       ],
       "layout": "IPY_MODEL_e4a10652a5d7498ba04241d2996fc2bc"
      }
     },
     "05ecd39f7b62490d898bacac25dfefa3": {
      "model_module": "@jupyter-widgets/controls",
      "model_module_version": "1.5.0",
      "model_name": "HTMLModel",
      "state": {
       "layout": "IPY_MODEL_40dc53c684c4472bbdf64259a7f8c5cd",
       "style": "IPY_MODEL_1b3b966a75d445f499a47eb2d183e0a4",
       "value": "<b>7</b>"
      }
     },
     "05ef19d07715445b88ac31fb28f77784": {
      "model_module": "@jupyter-widgets/base",
      "model_module_version": "1.2.0",
      "model_name": "LayoutModel",
      "state": {}
     },
     "07af52ce85bb4825b891292050421b52": {
      "model_module": "@jupyter-widgets/base",
      "model_module_version": "1.2.0",
      "model_name": "LayoutModel",
      "state": {
       "width": "20%"
      }
     },
     "086c03b8860048d690c102025d5a6ae8": {
      "model_module": "@jupyter-widgets/base",
      "model_module_version": "1.2.0",
      "model_name": "LayoutModel",
      "state": {
       "width": "80px"
      }
     },
     "0874d82e408f49da80172dd4ddacfc77": {
      "model_module": "@jupyter-widgets/controls",
      "model_module_version": "1.5.0",
      "model_name": "DescriptionStyleModel",
      "state": {
       "description_width": ""
      }
     },
     "08a5aa2a47134762ae8b0c15497abfca": {
      "model_module": "@jupyter-widgets/controls",
      "model_module_version": "1.5.0",
      "model_name": "FloatTextModel",
      "state": {
       "layout": "IPY_MODEL_6d39be62597a41f9b039581a32469ff4",
       "step": null,
       "style": "IPY_MODEL_168e812970ad4933971faadc5a2373fc"
      }
     },
     "08e3eb9209b741a49fa8c670f7af1c4b": {
      "model_module": "@jupyter-widgets/controls",
      "model_module_version": "1.5.0",
      "model_name": "HBoxModel",
      "state": {
       "children": [
        "IPY_MODEL_b3a73b193e87478aa921541c1b92fb72",
        "IPY_MODEL_bfa4dfb8995746e8a37be5ebe92b6c17",
        "IPY_MODEL_21f4c236180c402c92058332d30afd7f",
        "IPY_MODEL_6e0715a109b4485c8f29aa038b98a5a4",
        "IPY_MODEL_6ad2e5b435e648d2bc8ce2cb81bac5d7"
       ],
       "layout": "IPY_MODEL_e7f1a7611a274c7d8402c0c7f84f68da"
      }
     },
     "08ff3041d42e4ef5a35b372a0f007ca5": {
      "model_module": "@jupyter-widgets/controls",
      "model_module_version": "1.5.0",
      "model_name": "DropdownModel",
      "state": {
       "_options_labels": [
        "up",
        "down",
        "off"
       ],
       "index": 2,
       "layout": "IPY_MODEL_0dd6731475f54bde87f1e6bd839c8835",
       "style": "IPY_MODEL_3d5feeeb47fa4669b715ff7d4c9225ae"
      }
     },
     "094a790c634a423ca69843959a745c81": {
      "model_module": "@jupyter-widgets/controls",
      "model_module_version": "1.5.0",
      "model_name": "DescriptionStyleModel",
      "state": {
       "description_width": ""
      }
     },
     "09ac6d48b8334b7589c4f0760982cacc": {
      "model_module": "@jupyter-widgets/controls",
      "model_module_version": "1.5.0",
      "model_name": "HTMLModel",
      "state": {
       "layout": "IPY_MODEL_44a18c305716419c9fc863ffc4e66ffa",
       "style": "IPY_MODEL_0d41694c544d495180950e918c1b6b12",
       "value": "<b>5</b>"
      }
     },
     "0a9163a4480c4a72bb6d9af3cf1f640a": {
      "model_module": "@jupyter-widgets/controls",
      "model_module_version": "1.5.0",
      "model_name": "FloatSliderModel",
      "state": {
       "description": "P1:",
       "layout": "IPY_MODEL_69cc9ea696524704a1fa0b3bde7f9b01",
       "max": 360,
       "min": -360,
       "style": "IPY_MODEL_a9c0cb1f520a4c6f9bda7ff0ec603995"
      }
     },
     "0b2d81dd52254d78a891d3f489cc4707": {
      "model_module": "@jupyter-widgets/controls",
      "model_module_version": "1.5.0",
      "model_name": "DescriptionStyleModel",
      "state": {
       "description_width": ""
      }
     },
     "0bc60f478f9e41acba74ad7d9cf225ae": {
      "model_module": "@jupyter-widgets/controls",
      "model_module_version": "1.5.0",
      "model_name": "SliderStyleModel",
      "state": {
       "description_width": ""
      }
     },
     "0c441325b0c5469a89da4f4f34b37920": {
      "model_module": "@jupyter-widgets/base",
      "model_module_version": "1.2.0",
      "model_name": "LayoutModel",
      "state": {
       "width": "auto"
      }
     },
     "0cc7b968bd3e4fe4920ffafdaee95752": {
      "model_module": "@jupyter-widgets/controls",
      "model_module_version": "1.5.0",
      "model_name": "ButtonModel",
      "state": {
       "button_style": "warning",
       "description": "Cancel",
       "layout": "IPY_MODEL_dc75c9f6dd0a4cdd92a9bd55752fb1c2",
       "style": "IPY_MODEL_4b54ddd705274ccbae82a998e01cb82e"
      }
     },
     "0ccf306cf99e42248f1505bd14f33b68": {
      "model_module": "@jupyter-widgets/controls",
      "model_module_version": "1.5.0",
      "model_name": "ButtonStyleModel",
      "state": {}
     },
     "0cec88999059442e8ab6902a8990b847": {
      "model_module": "@jupyter-widgets/base",
      "model_module_version": "1.2.0",
      "model_name": "LayoutModel",
      "state": {}
     },
     "0d41694c544d495180950e918c1b6b12": {
      "model_module": "@jupyter-widgets/controls",
      "model_module_version": "1.5.0",
      "model_name": "DescriptionStyleModel",
      "state": {
       "description_width": ""
      }
     },
     "0d546889b19f42e4b17ed9e85e340726": {
      "model_module": "@jupyter-widgets/controls",
      "model_module_version": "1.5.0",
      "model_name": "HBoxModel",
      "state": {
       "children": [
        "IPY_MODEL_43a1ef0abb3d4fa992642b191822becd",
        "IPY_MODEL_f20aae09d105477ca77455f7f6662f5e",
        "IPY_MODEL_2a87a251b5174f209a591ebc7c10d648"
       ],
       "layout": "IPY_MODEL_b75ba06fb6d54861a59369aa7b569040"
      }
     },
     "0da3b58fd8bc446aa568f2e0ddd04a39": {
      "model_module": "@jupyter-widgets/base",
      "model_module_version": "1.2.0",
      "model_name": "LayoutModel",
      "state": {}
     },
     "0dd6731475f54bde87f1e6bd839c8835": {
      "model_module": "@jupyter-widgets/base",
      "model_module_version": "1.2.0",
      "model_name": "LayoutModel",
      "state": {
       "width": "70px"
      }
     },
     "0e14dd4af1364c1b9e36617fa005e540": {
      "model_module": "@jupyter-widgets/controls",
      "model_module_version": "1.5.0",
      "model_name": "DescriptionStyleModel",
      "state": {
       "description_width": ""
      }
     },
     "0e4cacaf2daf46238bd5fac1b5e67412": {
      "model_module": "@jupyter-widgets/base",
      "model_module_version": "1.2.0",
      "model_name": "LayoutModel",
      "state": {
       "width": "70px"
      }
     },
     "0ee2905e83f84febae515d41a757f6c0": {
      "model_module": "@jupyter-widgets/base",
      "model_module_version": "1.2.0",
      "model_name": "LayoutModel",
      "state": {
       "width": "20%"
      }
     },
     "10eb527e17ca4db09d06ac09df0c239e": {
      "model_module": "@jupyter-widgets/controls",
      "model_module_version": "1.5.0",
      "model_name": "DescriptionStyleModel",
      "state": {
       "description_width": ""
      }
     },
     "113f3b21f835475c8da7bf6cc1532e4a": {
      "model_module": "@jupyter-widgets/controls",
      "model_module_version": "1.5.0",
      "model_name": "HBoxModel",
      "state": {
       "children": [
        "IPY_MODEL_2d7491deae8146d6bbac3f59b194e211",
        "IPY_MODEL_a1bf2000ce1741f2bf11ae39046a6380",
        "IPY_MODEL_1cc04684da42464f9157466fafe135ae",
        "IPY_MODEL_69c8a4dd3b4745d7ad30d9c1d1ad19d3",
        "IPY_MODEL_bcbb3777b377405299fc7c70d1029bcb"
       ],
       "layout": "IPY_MODEL_e9a937e757d44de7b41d9444d816f2f3"
      }
     },
     "1183e720e3d24c8caf8b95b2d4c197fb": {
      "model_module": "@jupyter-widgets/controls",
      "model_module_version": "1.5.0",
      "model_name": "ButtonStyleModel",
      "state": {}
     },
     "121de158df5d4b3d8d7d2ab40bc58905": {
      "model_module": "@jupyter-widgets/controls",
      "model_module_version": "1.5.0",
      "model_name": "VBoxModel",
      "state": {
       "children": [
        "IPY_MODEL_05eaf8014e494752ab50d153c0a8ace3",
        "IPY_MODEL_a3d53f2e2bd743daacfefa6f53612fd2"
       ],
       "layout": "IPY_MODEL_a21f7d18335d49f59c983645d850c1ec"
      }
     },
     "123325aab81d4a6eae997e8128d351ab": {
      "model_module": "@jupyter-widgets/controls",
      "model_module_version": "1.5.0",
      "model_name": "HTMLModel",
      "state": {
       "layout": "IPY_MODEL_7e9c489b5c974e899f7423335d0890e7",
       "style": "IPY_MODEL_e9053bdd792e4ac291215113b4fa9f33",
       "value": "<b>8</b>"
      }
     },
     "132e58a2b5ba422ab6ac6895c3895b6e": {
      "model_module": "@jupyter-widgets/controls",
      "model_module_version": "1.5.0",
      "model_name": "DescriptionStyleModel",
      "state": {
       "description_width": ""
      }
     },
     "1357862cca3149cba26cd32c11717d38": {
      "model_module": "@jupyter-widgets/controls",
      "model_module_version": "1.5.0",
      "model_name": "ButtonStyleModel",
      "state": {}
     },
     "13bee2a5efb9416e99c7640629a42d1d": {
      "model_module": "@jupyter-widgets/controls",
      "model_module_version": "1.5.0",
      "model_name": "DescriptionStyleModel",
      "state": {
       "description_width": ""
      }
     },
     "140df7fc72244e50ae2f1ca62ce801d8": {
      "model_module": "@jupyter-widgets/controls",
      "model_module_version": "1.5.0",
      "model_name": "VBoxModel",
      "state": {
       "children": [
        "IPY_MODEL_0d546889b19f42e4b17ed9e85e340726",
        "IPY_MODEL_c92f254cb6e7423e8d7101f56e8f68f1"
       ],
       "layout": "IPY_MODEL_33f864a43e3445c18d8155ce1cb847f5"
      }
     },
     "142cb6ba0f9347a0beffe819b60f42d3": {
      "model_module": "@jupyter-widgets/controls",
      "model_module_version": "1.5.0",
      "model_name": "ButtonStyleModel",
      "state": {}
     },
     "15298079d7b842bf98a1f86e388d10bc": {
      "model_module": "@jupyter-widgets/controls",
      "model_module_version": "1.5.0",
      "model_name": "TextModel",
      "state": {
       "layout": "IPY_MODEL_16a291d9b1d54e4a9a700f91feeb9c14",
       "placeholder": "output filename",
       "style": "IPY_MODEL_0b2d81dd52254d78a891d3f489cc4707",
       "value": "fid"
      }
     },
     "159262a422e14b31971b2a4a06e3de55": {
      "model_module": "@jupyter-widgets/output",
      "model_module_version": "1.0.0",
      "model_name": "OutputModel",
      "state": {
       "layout": "IPY_MODEL_370fac5f973d46ff890cd2647493f018",
       "outputs": [
        {
         "data": {
          "text/html": "<table border=\"1\" class=\"dataframe\">\n  <thead>\n    <tr style=\"text-align: right;\">\n      <th></th>\n      <th>Start</th>\n      <th>End</th>\n      <th>Value</th>\n      <th>Calibration</th>\n    </tr>\n  </thead>\n  <tbody>\n    <tr>\n      <th>0</th>\n      <td>5.364807</td>\n      <td>5.215547</td>\n      <td>232.805177</td>\n      <td>0.618664</td>\n    </tr>\n    <tr>\n      <th>1</th>\n      <td>4.901426</td>\n      <td>4.861800</td>\n      <td>11797.222656</td>\n      <td>31.350299</td>\n    </tr>\n    <tr>\n      <th>2</th>\n      <td>4.779893</td>\n      <td>4.747968</td>\n      <td>107.346950</td>\n      <td>0.285267</td>\n    </tr>\n    <tr>\n      <th>3</th>\n      <td>4.526099</td>\n      <td>4.452739</td>\n      <td>120.520438</td>\n      <td>0.320275</td>\n    </tr>\n    <tr>\n      <th>4</th>\n      <td>4.255451</td>\n      <td>4.218710</td>\n      <td>61.118079</td>\n      <td>0.162417</td>\n    </tr>\n    <tr>\n      <th>5</th>\n      <td>4.222530</td>\n      <td>4.157862</td>\n      <td>172.230920</td>\n      <td>0.457692</td>\n    </tr>\n    <tr>\n      <th>6</th>\n      <td>4.120226</td>\n      <td>4.036584</td>\n      <td>276.384743</td>\n      <td>0.734473</td>\n    </tr>\n    <tr>\n      <th>7</th>\n      <td>4.030903</td>\n      <td>3.965840</td>\n      <td>117.754752</td>\n      <td>0.312925</td>\n    </tr>\n    <tr>\n      <th>8</th>\n      <td>3.936848</td>\n      <td>3.865759</td>\n      <td>124.194429</td>\n      <td>0.330038</td>\n    </tr>\n    <tr>\n      <th>9</th>\n      <td>3.886549</td>\n      <td>3.621927</td>\n      <td>5998.210348</td>\n      <td>15.939827</td>\n    </tr>\n    <tr>\n      <th>10</th>\n      <td>3.630691</td>\n      <td>3.546038</td>\n      <td>312.855696</td>\n      <td>0.831392</td>\n    </tr>\n    <tr>\n      <th>11</th>\n      <td>3.536599</td>\n      <td>3.503353</td>\n      <td>57.850830</td>\n      <td>0.153735</td>\n    </tr>\n    <tr>\n      <th>12</th>\n      <td>3.471101</td>\n      <td>3.387009</td>\n      <td>210.582785</td>\n      <td>0.559609</td>\n    </tr>\n    <tr>\n      <th>13</th>\n      <td>3.387972</td>\n      <td>3.279854</td>\n      <td>2466.131455</td>\n      <td>6.553573</td>\n    </tr>\n    <tr>\n      <th>14</th>\n      <td>3.287957</td>\n      <td>3.262560</td>\n      <td>39.477643</td>\n      <td>0.104909</td>\n    </tr>\n    <tr>\n      <th>15</th>\n      <td>3.261188</td>\n      <td>3.226824</td>\n      <td>38.581195</td>\n      <td>0.102527</td>\n    </tr>\n    <tr>\n      <th>16</th>\n      <td>3.171784</td>\n      <td>3.132637</td>\n      <td>41.512185</td>\n      <td>0.110316</td>\n    </tr>\n    <tr>\n      <th>17</th>\n      <td>3.121806</td>\n      <td>3.069093</td>\n      <td>104.474181</td>\n      <td>0.277633</td>\n    </tr>\n    <tr>\n      <th>18</th>\n      <td>2.967317</td>\n      <td>2.904582</td>\n      <td>154.971708</td>\n      <td>0.411827</td>\n    </tr>\n    <tr>\n      <th>19</th>\n      <td>2.901866</td>\n      <td>2.886478</td>\n      <td>28.379498</td>\n      <td>0.075417</td>\n    </tr>\n    <tr>\n      <th>20</th>\n      <td>2.544180</td>\n      <td>2.496062</td>\n      <td>96.950514</td>\n      <td>0.257639</td>\n    </tr>\n    <tr>\n      <th>21</th>\n      <td>2.394475</td>\n      <td>2.286477</td>\n      <td>632.505049</td>\n      <td>1.680838</td>\n    </tr>\n    <tr>\n      <th>22</th>\n      <td>2.293846</td>\n      <td>2.222744</td>\n      <td>124.474677</td>\n      <td>0.330783</td>\n    </tr>\n    <tr>\n      <th>23</th>\n      <td>2.146466</td>\n      <td>1.986674</td>\n      <td>396.472418</td>\n      <td>1.053598</td>\n    </tr>\n    <tr>\n      <th>24</th>\n      <td>1.713786</td>\n      <td>1.343189</td>\n      <td>1990.821394</td>\n      <td>5.290470</td>\n    </tr>\n    <tr>\n      <th>25</th>\n      <td>1.352996</td>\n      <td>1.251773</td>\n      <td>6070.832323</td>\n      <td>16.132815</td>\n    </tr>\n    <tr>\n      <th>26</th>\n      <td>1.248576</td>\n      <td>1.185243</td>\n      <td>199.954953</td>\n      <td>0.531366</td>\n    </tr>\n    <tr>\n      <th>27</th>\n      <td>1.096337</td>\n      <td>1.073986</td>\n      <td>35.624939</td>\n      <td>0.094671</td>\n    </tr>\n    <tr>\n      <th>28</th>\n      <td>1.003362</td>\n      <td>0.831576</td>\n      <td>1128.910046</td>\n      <td>3.000000</td>\n    </tr>\n    <tr>\n      <th>29</th>\n      <td>0.013311</td>\n      <td>-0.010171</td>\n      <td>385.260068</td>\n      <td>1.023802</td>\n    </tr>\n  </tbody>\n</table>",
          "text/plain": "<IPython.core.display.HTML object>"
         },
         "metadata": {},
         "output_type": "display_data"
        }
       ]
      }
     },
     "15c4ca3a56d44e168f2e4fa287464dc3": {
      "model_module": "@jupyter-widgets/controls",
      "model_module_version": "1.5.0",
      "model_name": "DropdownModel",
      "state": {
       "_options_labels": [
        "/DATA/SM_ARTE_v3/SM_ARTE4_161123/1",
        "/DATA/SM_ARTE_v3/SM_ARTE4_161123",
        "/DATA/SM_ARTE_v3",
        "/DATA",
        "/"
       ],
       "index": 0,
       "layout": "IPY_MODEL_af6bc15d8b0d4814b2fb6740e526872d",
       "style": "IPY_MODEL_ad54e011f73a4715a53c79a9d6bc95d2"
      }
     },
     "1659b6218b52472aaee8231000855a3f": {
      "model_module": "@jupyter-widgets/controls",
      "model_module_version": "1.5.0",
      "model_name": "ButtonModel",
      "state": {
       "button_style": "success",
       "description": "Reset",
       "layout": "IPY_MODEL_d62c090f057c494daeadb01cb4deccb4",
       "style": "IPY_MODEL_d12be3ac986740bc9cc146bf02abd014",
       "tooltip": "Reset to full spectrum"
      }
     },
     "168e812970ad4933971faadc5a2373fc": {
      "model_module": "@jupyter-widgets/controls",
      "model_module_version": "1.5.0",
      "model_name": "DescriptionStyleModel",
      "state": {
       "description_width": ""
      }
     },
     "16a291d9b1d54e4a9a700f91feeb9c14": {
      "model_module": "@jupyter-widgets/base",
      "model_module_version": "1.2.0",
      "model_name": "LayoutModel",
      "state": {
       "grid_area": "filename",
       "width": "auto"
      }
     },
     "16f1f390f700400f89897392f15388e8": {
      "model_module": "@jupyter-widgets/base",
      "model_module_version": "1.2.0",
      "model_name": "LayoutModel",
      "state": {
       "height": "10.16cm",
       "width": "80px"
      }
     },
     "171f6c3aed3e4b7f8c5c491db40cd51e": {
      "model_module": "@jupyter-widgets/controls",
      "model_module_version": "1.5.0",
      "model_name": "DropdownModel",
      "state": {
       "_options_labels": [
        "black",
        "red",
        "blue",
        "green",
        "orange",
        "blueviolet",
        "crimson",
        "turquoise",
        "indigo",
        "magenta",
        "gold",
        "pink",
        "purple",
        "salmon",
        "darkblue",
        "sienna"
       ],
       "index": 5,
       "layout": "IPY_MODEL_c2e0d83eaddc454eaa7da8ffa5abef67",
       "style": "IPY_MODEL_af6e0466f6dc4f1097828c1e0b732829"
      }
     },
     "1900dcf9661c4fd78def1699c8bd9e97": {
      "model_module": "@jupyter-widgets/controls",
      "model_module_version": "1.5.0",
      "model_name": "ButtonStyleModel",
      "state": {}
     },
     "1ab986463780490c9d26457ec565999c": {
      "model_module": "@jupyter-widgets/base",
      "model_module_version": "1.2.0",
      "model_name": "LayoutModel",
      "state": {
       "width": "10%"
      }
     },
     "1ad7490a63164e3e9c3c06b102016c84": {
      "model_module": "@jupyter-widgets/controls",
      "model_module_version": "1.5.0",
      "model_name": "HTMLModel",
      "state": {
       "layout": "IPY_MODEL_45431e2db3cd493284b80ee80a2fc57d",
       "style": "IPY_MODEL_622d737505ce4570a765e576f9163727",
       "value": "<b>2</b>"
      }
     },
     "1b3b966a75d445f499a47eb2d183e0a4": {
      "model_module": "@jupyter-widgets/controls",
      "model_module_version": "1.5.0",
      "model_name": "DescriptionStyleModel",
      "state": {
       "description_width": ""
      }
     },
     "1b8894747a4846e7bf3f5b5b780c62a4": {
      "model_module": "@jupyter-widgets/controls",
      "model_module_version": "1.5.0",
      "model_name": "DescriptionStyleModel",
      "state": {
       "description_width": ""
      }
     },
     "1b93616b350a459197324d4d4c76a504": {
      "model_module": "@jupyter-widgets/controls",
      "model_module_version": "1.5.0",
      "model_name": "HBoxModel",
      "state": {
       "children": [
        "IPY_MODEL_1ad7490a63164e3e9c3c06b102016c84",
        "IPY_MODEL_711ddce44b5341fbb849239190ffb3eb",
        "IPY_MODEL_d68cf4b8534b4cdaa1d6a0f6d60558a4",
        "IPY_MODEL_ae304f127c8146a3bf534ce68e16f161",
        "IPY_MODEL_fcceef8c980a4a63b34bdeb7eb205604"
       ],
       "layout": "IPY_MODEL_85dfa2e111b9455c9963b0c58cf63a22"
      }
     },
     "1b9cee1849b74fbebfa390d0134a23a0": {
      "model_module": "@jupyter-widgets/controls",
      "model_module_version": "1.5.0",
      "model_name": "DescriptionStyleModel",
      "state": {
       "description_width": ""
      }
     },
     "1c2a8e2939c0498484d9845e17c61a23": {
      "model_module": "@jupyter-widgets/controls",
      "model_module_version": "1.5.0",
      "model_name": "DescriptionStyleModel",
      "state": {
       "description_width": ""
      }
     },
     "1cc04684da42464f9157466fafe135ae": {
      "model_module": "@jupyter-widgets/controls",
      "model_module_version": "1.5.0",
      "model_name": "FloatTextModel",
      "state": {
       "layout": "IPY_MODEL_f59d44e8ec8e46fb8dffe4b20dfd3ebe",
       "step": null,
       "style": "IPY_MODEL_6758deb064c74bb486c62ccb01d7cd71"
      }
     },
     "1cf818bff09e4947aa9a744a96e187e9": {
      "model_module": "@jupyter-widgets/controls",
      "model_module_version": "1.5.0",
      "model_name": "FloatTextModel",
      "state": {
       "description": "Value",
       "layout": "IPY_MODEL_6779fe82a6314ae48e466219a3c310d0",
       "step": null,
       "style": "IPY_MODEL_4290232627f4410fbf3d4300aa183ac2",
       "value": 3
      }
     },
     "1d1d2c0502e84d6195b84ee8326b3bf1": {
      "model_module": "@jupyter-widgets/base",
      "model_module_version": "1.2.0",
      "model_name": "LayoutModel",
      "state": {}
     },
     "1de0691e049545e6bf51d03ff5bab3be": {
      "model_module": "@jupyter-widgets/controls",
      "model_module_version": "1.5.0",
      "model_name": "VBoxModel",
      "state": {
       "children": [
        "IPY_MODEL_ffe28375aa344ea69e948224087e38d5",
        "IPY_MODEL_a8bca7695350476eaa3f2343b6c2219a"
       ],
       "layout": "IPY_MODEL_87ada72f739f48559703b719208962cb"
      }
     },
     "1e3ee020ff9943d1b551c1cd60901b54": {
      "model_module": "@jupyter-widgets/controls",
      "model_module_version": "1.5.0",
      "model_name": "DescriptionStyleModel",
      "state": {
       "description_width": ""
      }
     },
     "1ea05e0fa82f4b3ba0ffe300e0b7f23c": {
      "model_module": "@jupyter-widgets/base",
      "model_module_version": "1.2.0",
      "model_name": "LayoutModel",
      "state": {
       "display": "none",
       "width": "auto"
      }
     },
     "1eb1bdb7e68f424ebef07b2b5f63c05d": {
      "model_module": "@jupyter-widgets/base",
      "model_module_version": "1.2.0",
      "model_name": "LayoutModel",
      "state": {}
     },
     "1f60f94342f84a4f988531ce0051276e": {
      "model_module": "@jupyter-widgets/controls",
      "model_module_version": "1.5.0",
      "model_name": "ButtonModel",
      "state": {
       "button_style": "success",
       "description": "Add",
       "layout": "IPY_MODEL_e308804a1a6040cda772b52c127a421d",
       "style": "IPY_MODEL_bc9dcc0b168d408cac37c995d5b68a88"
      }
     },
     "208d10cfe7ae46babfb48cd96f477aaa": {
      "model_module": "@jupyter-widgets/base",
      "model_module_version": "1.2.0",
      "model_name": "LayoutModel",
      "state": {}
     },
     "2142da298cd4480282c532b43838b8c3": {
      "model_module": "@jupyter-widgets/controls",
      "model_module_version": "1.5.0",
      "model_name": "DescriptionStyleModel",
      "state": {
       "description_width": ""
      }
     },
     "21c62f98c8f14bcab2a4031c8248dd6a": {
      "model_module": "@jupyter-widgets/base",
      "model_module_version": "1.2.0",
      "model_name": "LayoutModel",
      "state": {
       "width": "40em"
      }
     },
     "2312009322ae4e3b922df45e2aeccc8d": {
      "model_module": "@jupyter-widgets/controls",
      "model_module_version": "1.5.0",
      "model_name": "ButtonModel",
      "state": {
       "button_style": "success",
       "description": "Reset",
       "layout": "IPY_MODEL_e308804a1a6040cda772b52c127a421d",
       "style": "IPY_MODEL_ad941abb775d48e1b516fa3ed258df9b",
       "tooltip": "Reset to full spectrum"
      }
     },
     "2385d32c890f49398bb822f9e385442c": {
      "model_module": "@jupyter-widgets/controls",
      "model_module_version": "1.5.0",
      "model_name": "DescriptionStyleModel",
      "state": {
       "description_width": ""
      }
     },
     "243995574dcc4a9881f724b63aaf58b7": {
      "model_module": "@jupyter-widgets/base",
      "model_module_version": "1.2.0",
      "model_name": "LayoutModel",
      "state": {}
     },
     "24b4dcfcfb07471a9315e083b23824c4": {
      "model_module": "jupyter-matplotlib",
      "model_module_version": "^0.7.2",
      "model_name": "MPLCanvasModel",
      "state": {
       "_figure_label": "Figure 4",
       "_height": 500,
       "_image_mode": "diff",
       "_width": 1000,
       "layout": "IPY_MODEL_b8b987a8e8de4975b3f68d756655f278",
       "toolbar": "IPY_MODEL_32ee4b59c32540139988d6cfbf51ce09",
       "toolbar_position": "left"
      }
     },
     "266ee4b752fc45d894b94aea0a3fd919": {
      "model_module": "@jupyter-widgets/controls",
      "model_module_version": "1.5.0",
      "model_name": "FloatSliderModel",
      "state": {
       "description": "scale:",
       "layout": "IPY_MODEL_e2059c937489460189ef61db4a999451",
       "max": 200,
       "min": 1,
       "orientation": "vertical",
       "step": 0.1,
       "style": "IPY_MODEL_0bc60f478f9e41acba74ad7d9cf225ae",
       "value": 200
      }
     },
     "27267d9fa19343a8832c76ba935cc86d": {
      "model_module": "@jupyter-widgets/controls",
      "model_module_version": "1.5.0",
      "model_name": "FloatSliderModel",
      "state": {
       "description": "scale:",
       "layout": "IPY_MODEL_16f1f390f700400f89897392f15388e8",
       "max": 200,
       "min": 1,
       "orientation": "vertical",
       "step": 0.1,
       "style": "IPY_MODEL_3c253f9bd15647fa915a6780623f391c",
       "value": 13.453135238626095
      }
     },
     "2773834bb19c45c9a8fbe119c525b48a": {
      "model_module": "@jupyter-widgets/controls",
      "model_module_version": "1.5.0",
      "model_name": "ButtonStyleModel",
      "state": {}
     },
     "28173aaa92c04140a6d5aaaf3c849012": {
      "model_module": "@jupyter-widgets/controls",
      "model_module_version": "1.5.0",
      "model_name": "LabelModel",
      "state": {
       "layout": "IPY_MODEL_b5ece940c2154762ad987b2cfebc7770",
       "style": "IPY_MODEL_0e14dd4af1364c1b9e36617fa005e540",
       "value": "integrals"
      }
     },
     "286463ca31fb4ac0bc81ed4f3c31eb1a": {
      "model_module": "@jupyter-widgets/base",
      "model_module_version": "1.2.0",
      "model_name": "LayoutModel",
      "state": {}
     },
     "28a8f25455f04d2dbd7e8ae700408647": {
      "model_module": "@jupyter-widgets/controls",
      "model_module_version": "1.5.0",
      "model_name": "DescriptionStyleModel",
      "state": {
       "description_width": ""
      }
     },
     "29d47967d9134eb4a94671c396f3c5af": {
      "model_module": "@jupyter-widgets/base",
      "model_module_version": "1.2.0",
      "model_name": "LayoutModel",
      "state": {}
     },
     "2a652f1cf81f4eb5805556e0b7a2ec96": {
      "model_module": "@jupyter-widgets/controls",
      "model_module_version": "1.5.0",
      "model_name": "HBoxModel",
      "state": {
       "children": [
        "IPY_MODEL_05ecd39f7b62490d898bacac25dfefa3",
        "IPY_MODEL_95d6c20674844c00a01105d3c7ebfab7",
        "IPY_MODEL_4adad186faf447f4a6da684809a9547b",
        "IPY_MODEL_b40d16f3c196481990a4040360671451",
        "IPY_MODEL_820da354f8974686a3eae3d5ffa79ba9"
       ],
       "layout": "IPY_MODEL_b2677b80376949349bf8f8c88497a05d"
      }
     },
     "2a87a251b5174f209a591ebc7c10d648": {
      "model_module": "@jupyter-widgets/controls",
      "model_module_version": "1.5.0",
      "model_name": "LabelModel",
      "state": {
       "layout": "IPY_MODEL_5f26653a6e88403eab9a2e2f13b06dfd",
       "style": "IPY_MODEL_50fb7a377e7e43d9911dd2838d664d7e",
       "value": "Use buttons to add and remove integrals in the current zoom window"
      }
     },
     "2b5995cea4394d7e834256c23e9773ed": {
      "model_module": "@jupyter-widgets/controls",
      "model_module_version": "1.5.0",
      "model_name": "DescriptionStyleModel",
      "state": {
       "description_width": ""
      }
     },
     "2bc236dbae824995917c060f9b8f709f": {
      "model_module": "@jupyter-widgets/controls",
      "model_module_version": "1.5.0",
      "model_name": "DescriptionStyleModel",
      "state": {
       "description_width": ""
      }
     },
     "2c13d392a32a458794203e270b9e34ed": {
      "model_module": "@jupyter-widgets/controls",
      "model_module_version": "1.5.0",
      "model_name": "DescriptionStyleModel",
      "state": {
       "description_width": ""
      }
     },
     "2c71ce4a87b0444e967084745be3ec6f": {
      "model_module": "@jupyter-widgets/base",
      "model_module_version": "1.2.0",
      "model_name": "LayoutModel",
      "state": {
       "width": "40em"
      }
     },
     "2c8de912ac12492c87290e2b303a21a1": {
      "model_module": "@jupyter-widgets/controls",
      "model_module_version": "1.5.0",
      "model_name": "HTMLModel",
      "state": {
       "layout": "IPY_MODEL_738e9a41d5a64c54a365c939f22c44ec",
       "style": "IPY_MODEL_63e605d3dd3040f980552466f8d615bb",
       "value": "<b>1</b>"
      }
     },
     "2ca0f26a406d49fc8ee07b225b060b9e": {
      "model_module": "@jupyter-widgets/controls",
      "model_module_version": "1.5.0",
      "model_name": "FloatSliderModel",
      "state": {
       "continuous_update": false,
       "description": "extension",
       "layout": "IPY_MODEL_d923c32df5534ec2bc190b705908ee35",
       "max": 20,
       "min": 0.5,
       "readout": false,
       "readout_format": ".1f",
       "step": 0.1,
       "style": "IPY_MODEL_9019956d73c0470aa9480d96c76c5e04",
       "value": 5
      }
     },
     "2d7491deae8146d6bbac3f59b194e211": {
      "model_module": "@jupyter-widgets/controls",
      "model_module_version": "1.5.0",
      "model_name": "HTMLModel",
      "state": {
       "layout": "IPY_MODEL_e770675e7ab54afda69dc1fa099b9d02",
       "style": "IPY_MODEL_dabb721536164b13ad9d15eac1d6e8f2",
       "value": "<b>9</b>"
      }
     },
     "2e2ce8f3ed964dd2bf0327b3bcce1373": {
      "model_module": "@jupyter-widgets/controls",
      "model_module_version": "1.5.0",
      "model_name": "DescriptionStyleModel",
      "state": {
       "description_width": ""
      }
     },
     "2ea7ef0f5f9e45ba9a59e16c75ebb391": {
      "model_module": "@jupyter-widgets/base",
      "model_module_version": "1.2.0",
      "model_name": "LayoutModel",
      "state": {}
     },
     "2eb954911c574fb09208aa8ce9118f3a": {
      "model_module": "@jupyter-widgets/controls",
      "model_module_version": "1.5.0",
      "model_name": "DescriptionStyleModel",
      "state": {
       "description_width": ""
      }
     },
     "2ed80f830e5047de8ec924d621551725": {
      "model_module": "@jupyter-widgets/base",
      "model_module_version": "1.2.0",
      "model_name": "LayoutModel",
      "state": {}
     },
     "2f34395d13e54acf8db2bf6f21bba5a8": {
      "model_module": "@jupyter-widgets/base",
      "model_module_version": "1.2.0",
      "model_name": "LayoutModel",
      "state": {}
     },
     "2f4caacdc61648c0be88d5461d4442af": {
      "model_module": "@jupyter-widgets/base",
      "model_module_version": "1.2.0",
      "model_name": "LayoutModel",
      "state": {
       "width": "40em"
      }
     },
     "304a8e5cdf0c43b69301a70a985a2ca8": {
      "model_module": "@jupyter-widgets/controls",
      "model_module_version": "1.5.0",
      "model_name": "DescriptionStyleModel",
      "state": {
       "description_width": ""
      }
     },
     "30689cf235a5493195a173b58c8fc001": {
      "model_module": "@jupyter-widgets/base",
      "model_module_version": "1.2.0",
      "model_name": "LayoutModel",
      "state": {
       "width": "70px"
      }
     },
     "30bf0647211245a0a1ac2868d5dbff92": {
      "model_module": "@jupyter-widgets/controls",
      "model_module_version": "1.5.0",
      "model_name": "LabelModel",
      "state": {
       "layout": "IPY_MODEL_f62a70cd075546a1925584f48b58b5d0",
       "style": "IPY_MODEL_28a8f25455f04d2dbd7e8ae700408647",
       "value": "Select a peak with mouse and set calibrated values"
      }
     },
     "313b723fb332451bb7f1478bbc6595e5": {
      "model_module": "@jupyter-widgets/controls",
      "model_module_version": "1.5.0",
      "model_name": "TextModel",
      "state": {
       "layout": "IPY_MODEL_2f4caacdc61648c0be88d5461d4442af",
       "style": "IPY_MODEL_8c2897ad0a6e4d728ad1930b763fc301",
       "value": "None"
      }
     },
     "316cefd243e64613a00c095bd19c8b8d": {
      "model_module": "@jupyter-widgets/controls",
      "model_module_version": "1.5.0",
      "model_name": "FloatSliderModel",
      "state": {
       "description": "P0:",
       "layout": "IPY_MODEL_afeb38015a0e49f2a52e071dcb65d550",
       "max": 180,
       "min": -180,
       "step": 0.1,
       "style": "IPY_MODEL_3a1c44b3f98d465c8fa106e347b75213"
      }
     },
     "31f699aac0774d56abec64ce741e4289": {
      "model_module": "@jupyter-widgets/controls",
      "model_module_version": "1.5.0",
      "model_name": "FloatSliderModel",
      "state": {
       "description": "pivot:",
       "layout": "IPY_MODEL_0089f9c9601f4811b29c479d54d42082",
       "max": 65536,
       "readout": false,
       "style": "IPY_MODEL_9b2c47c928104abaac69ffe1afe2272b",
       "value": 29187.74043008127
      }
     },
     "32e09935ce914924b4c6c3024ab29c8e": {
      "model_module": "@jupyter-widgets/controls",
      "model_module_version": "1.5.0",
      "model_name": "TextModel",
      "state": {
       "layout": "IPY_MODEL_2c71ce4a87b0444e967084745be3ec6f",
       "style": "IPY_MODEL_df8de11e30204b43bf3475713ce5aae9",
       "value": "None"
      }
     },
     "32ee4b59c32540139988d6cfbf51ce09": {
      "model_module": "jupyter-matplotlib",
      "model_module_version": "^0.7.2",
      "model_name": "ToolbarModel",
      "state": {
       "layout": "IPY_MODEL_286463ca31fb4ac0bc81ed4f3c31eb1a",
       "toolitems": [
        [
         "Home",
         "Reset original view",
         "home",
         "home"
        ],
        [
         "Back",
         "Back to previous view",
         "arrow-left",
         "back"
        ],
        [
         "Forward",
         "Forward to next view",
         "arrow-right",
         "forward"
        ],
        [
         "Pan",
         "Pan axes with left mouse, zoom with right",
         "arrows",
         "pan"
        ],
        [
         "Zoom",
         "Zoom to rectangle",
         "square-o",
         "zoom"
        ],
        [
         "Download",
         "Download plot",
         "floppy-o",
         "save_figure"
        ]
       ]
      }
     },
     "3388d8cb3429483f9f6700b5c2835904": {
      "model_module": "@jupyter-widgets/controls",
      "model_module_version": "1.5.0",
      "model_name": "DescriptionStyleModel",
      "state": {
       "description_width": ""
      }
     },
     "33cbe83344474f8fbd78f6aba61a30db": {
      "model_module": "@jupyter-widgets/controls",
      "model_module_version": "1.5.0",
      "model_name": "ButtonModel",
      "state": {
       "button_style": "warning",
       "description": "Cancel",
       "layout": "IPY_MODEL_e308804a1a6040cda772b52c127a421d",
       "style": "IPY_MODEL_7c3a76083f5b4c84a83fe3fa4d22037d"
      }
     },
     "33f864a43e3445c18d8155ce1cb847f5": {
      "model_module": "@jupyter-widgets/base",
      "model_module_version": "1.2.0",
      "model_name": "LayoutModel",
      "state": {}
     },
     "34e83b93d7574672a5796b9cd3372f26": {
      "model_module": "@jupyter-widgets/controls",
      "model_module_version": "1.5.0",
      "model_name": "VBoxModel",
      "state": {
       "children": [
        "IPY_MODEL_ba700805d58c42919a1f233256c03c7f",
        "IPY_MODEL_2312009322ae4e3b922df45e2aeccc8d",
        "IPY_MODEL_266ee4b752fc45d894b94aea0a3fd919"
       ],
       "layout": "IPY_MODEL_5ea52031d73b404b990705bc8a36c540"
      }
     },
     "355dc1682171493486ca04a2ca46cbfb": {
      "model_module": "@jupyter-widgets/controls",
      "model_module_version": "1.5.0",
      "model_name": "HBoxModel",
      "state": {
       "children": [
        "IPY_MODEL_c60a67c01fe948ea88a4c9005cbcfe01",
        "IPY_MODEL_5145ac49dc8e48489e3d3c0b88775d7f",
        "IPY_MODEL_31f699aac0774d56abec64ce741e4289",
        "IPY_MODEL_bb178e13a098475f9467aeee54ee7bfc"
       ],
       "layout": "IPY_MODEL_a78fb299cdc740b186bddf01e523703c"
      }
     },
     "3638a154558446dd9f97d58dc923018f": {
      "model_module": "@jupyter-widgets/base",
      "model_module_version": "1.2.0",
      "model_name": "LayoutModel",
      "state": {
       "width": "40em"
      }
     },
     "3666b57e78cd40818d2232f92ce10e4f": {
      "model_module": "@jupyter-widgets/base",
      "model_module_version": "1.2.0",
      "model_name": "LayoutModel",
      "state": {}
     },
     "36c8b2ad13fd4b09947e8a37501cf378": {
      "model_module": "@jupyter-widgets/base",
      "model_module_version": "1.2.0",
      "model_name": "LayoutModel",
      "state": {}
     },
     "370fac5f973d46ff890cd2647493f018": {
      "model_module": "@jupyter-widgets/base",
      "model_module_version": "1.2.0",
      "model_name": "LayoutModel",
      "state": {
       "border": "1px solid red"
      }
     },
     "371b6d4b11b4427dac51450311faae4b": {
      "model_module": "@jupyter-widgets/base",
      "model_module_version": "1.2.0",
      "model_name": "LayoutModel",
      "state": {}
     },
     "3813bc33c5484939a473f12b8cc81084": {
      "model_module": "@jupyter-widgets/base",
      "model_module_version": "1.2.0",
      "model_name": "LayoutModel",
      "state": {
       "width": "70px"
      }
     },
     "385ef4626b2c42e9a393f21aef47b6ed": {
      "model_module": "@jupyter-widgets/base",
      "model_module_version": "1.2.0",
      "model_name": "LayoutModel",
      "state": {
       "width": "80px"
      }
     },
     "39a52c607165496f86fbc2bedbbbc060": {
      "model_module": "@jupyter-widgets/controls",
      "model_module_version": "1.5.0",
      "model_name": "HBoxModel",
      "state": {
       "children": [
        "IPY_MODEL_ce592ff2be134df4a4bc871c0d1433cc",
        "IPY_MODEL_921ea8f6ecc94442a51a76fa90639c8e"
       ],
       "layout": "IPY_MODEL_54d3a8b16c094f93af13ef8ada3cd64a"
      }
     },
     "3a192f0a1d3b4d5086d36a0624e7709d": {
      "model_module": "@jupyter-widgets/base",
      "model_module_version": "1.2.0",
      "model_name": "LayoutModel",
      "state": {
       "width": "80px"
      }
     },
     "3a1c44b3f98d465c8fa106e347b75213": {
      "model_module": "@jupyter-widgets/controls",
      "model_module_version": "1.5.0",
      "model_name": "SliderStyleModel",
      "state": {
       "description_width": ""
      }
     },
     "3ae2beb5431242c094bf06648c06addd": {
      "model_module": "@jupyter-widgets/controls",
      "model_module_version": "1.5.0",
      "model_name": "SliderStyleModel",
      "state": {
       "description_width": ""
      }
     },
     "3b1ecd888a2e4863bd4806ca0a3ffc33": {
      "model_module": "@jupyter-widgets/controls",
      "model_module_version": "1.5.0",
      "model_name": "DescriptionStyleModel",
      "state": {
       "description_width": ""
      }
     },
     "3c253f9bd15647fa915a6780623f391c": {
      "model_module": "@jupyter-widgets/controls",
      "model_module_version": "1.5.0",
      "model_name": "SliderStyleModel",
      "state": {
       "description_width": ""
      }
     },
     "3d1b1685562b436ca729b0faeee79849": {
      "model_module": "@jupyter-widgets/controls",
      "model_module_version": "1.5.0",
      "model_name": "DescriptionStyleModel",
      "state": {
       "description_width": ""
      }
     },
     "3d5feeeb47fa4669b715ff7d4c9225ae": {
      "model_module": "@jupyter-widgets/controls",
      "model_module_version": "1.5.0",
      "model_name": "DescriptionStyleModel",
      "state": {
       "description_width": ""
      }
     },
     "3d8df43e1a4842fca73ada21d68a35c1": {
      "model_module": "@jupyter-widgets/controls",
      "model_module_version": "1.5.0",
      "model_name": "FloatTextModel",
      "state": {
       "description": "selection",
       "disabled": true,
       "layout": "IPY_MODEL_0ee2905e83f84febae515d41a757f6c0",
       "step": 0.001,
       "style": "IPY_MODEL_132e58a2b5ba422ab6ac6895c3895b6e"
      }
     },
     "3dfb46fcae944119bae41faa3aab0e74": {
      "model_module": "@jupyter-widgets/base",
      "model_module_version": "1.2.0",
      "model_name": "LayoutModel",
      "state": {}
     },
     "3e97f14fdf8042d1a928f38a2d208734": {
      "model_module": "@jupyter-widgets/controls",
      "model_module_version": "1.5.0",
      "model_name": "ButtonStyleModel",
      "state": {}
     },
     "3f2deedbc8434d5b874d934aa15aa36c": {
      "model_module": "@jupyter-widgets/controls",
      "model_module_version": "1.5.0",
      "model_name": "DescriptionStyleModel",
      "state": {
       "description_width": ""
      }
     },
     "3f57e226c06d41029b45cd966016fe0d": {
      "model_module": "@jupyter-widgets/controls",
      "model_module_version": "1.5.0",
      "model_name": "GridBoxModel",
      "state": {
       "children": [
        "IPY_MODEL_eb0228abb758418fb6770d70fb68f310",
        "IPY_MODEL_b54210b2a0dd44dda02e4b60d51757a0",
        "IPY_MODEL_ff5a816f8da3432182ab8d2be9e416a5"
       ],
       "layout": "IPY_MODEL_80a2438ecc2b4547a8880a2c9cf79f11"
      }
     },
     "3f6a74cbbaaa4a89b1b3d31481b5a963": {
      "model_module": "@jupyter-widgets/controls",
      "model_module_version": "1.5.0",
      "model_name": "HBoxModel",
      "state": {
       "children": [
        "IPY_MODEL_e8270e6d857540d3ab604e9bbf72fe2d",
        "IPY_MODEL_446fc61b9f5048cb85c7869ecfb5f871",
        "IPY_MODEL_4dfcde38529f48e0a8f6f2be5e5528d3",
        "IPY_MODEL_a41a46a36df848b780a49dd818e1ce28"
       ],
       "layout": "IPY_MODEL_7ae31f1a09014a1fa0e1de2a17e37209"
      }
     },
     "3f6c4c1500e84e2bad3628ac77d18681": {
      "model_module": "@jupyter-widgets/base",
      "model_module_version": "1.2.0",
      "model_name": "LayoutModel",
      "state": {}
     },
     "3fbf3b5abe174e8cba43bf9b9e25b936": {
      "model_module": "@jupyter-widgets/controls",
      "model_module_version": "1.5.0",
      "model_name": "DescriptionStyleModel",
      "state": {
       "description_width": ""
      }
     },
     "402fa43ccafb4f8a8361b9f22df8e577": {
      "model_module": "@jupyter-widgets/controls",
      "model_module_version": "1.5.0",
      "model_name": "ButtonStyleModel",
      "state": {}
     },
     "404b709dd2474e9eb55554bd16a8e379": {
      "model_module": "@jupyter-widgets/controls",
      "model_module_version": "1.5.0",
      "model_name": "HBoxModel",
      "state": {
       "children": [
        "IPY_MODEL_4bc88614fb43446aa5471cbe27f715a7",
        "IPY_MODEL_ae0fafc35d404745a80bc3f85d846e3c",
        "IPY_MODEL_6189e10d66df48cc9570ccc82c1cdc04",
        "IPY_MODEL_e6bc7de25004458394c099a65fd0ef3c"
       ],
       "layout": "IPY_MODEL_1d1d2c0502e84d6195b84ee8326b3bf1"
      }
     },
     "40c1d1d51e0c477eaa3e5f05c165910f": {
      "model_module": "@jupyter-widgets/controls",
      "model_module_version": "1.5.0",
      "model_name": "ButtonModel",
      "state": {
       "button_style": "success",
       "description": "Compute",
       "layout": "IPY_MODEL_6e884f90398944ce9e49ba1ab490ae13",
       "style": "IPY_MODEL_0068f0aa89b64904a484054fc36e252f",
       "tooltip": "Automatic definition of integrals"
      }
     },
     "40dc53c684c4472bbdf64259a7f8c5cd": {
      "model_module": "@jupyter-widgets/base",
      "model_module_version": "1.2.0",
      "model_name": "LayoutModel",
      "state": {}
     },
     "4229f086c9c24d79bd84b703ffc4d68b": {
      "model_module": "@jupyter-widgets/base",
      "model_module_version": "1.2.0",
      "model_name": "LayoutModel",
      "state": {
       "width": "80px"
      }
     },
     "4290232627f4410fbf3d4300aa183ac2": {
      "model_module": "@jupyter-widgets/controls",
      "model_module_version": "1.5.0",
      "model_name": "DescriptionStyleModel",
      "state": {
       "description_width": ""
      }
     },
     "429f1d38bc624883a63c10a77099ca5d": {
      "model_module": "@jupyter-widgets/base",
      "model_module_version": "1.2.0",
      "model_name": "LayoutModel",
      "state": {
       "display": "none",
       "width": "auto"
      }
     },
     "43a1ef0abb3d4fa992642b191822becd": {
      "model_module": "@jupyter-widgets/controls",
      "model_module_version": "1.5.0",
      "model_name": "ButtonModel",
      "state": {
       "button_style": "success",
       "description": "Add",
       "layout": "IPY_MODEL_6e884f90398944ce9e49ba1ab490ae13",
       "style": "IPY_MODEL_cfc92761bbcc447e8917df36e1b7f84e",
       "tooltip": "Add an entry from current zoom"
      }
     },
     "444cd60da12648178ed69db5bedfb682": {
      "model_module": "@jupyter-widgets/controls",
      "model_module_version": "1.5.0",
      "model_name": "DescriptionStyleModel",
      "state": {
       "description_width": ""
      }
     },
     "446fc61b9f5048cb85c7869ecfb5f871": {
      "model_module": "@jupyter-widgets/controls",
      "model_module_version": "1.5.0",
      "model_name": "FloatSliderModel",
      "state": {
       "layout": "IPY_MODEL_78a116a286014fd5a7b3dc7dd43f2ded",
       "max": 10,
       "min": 0.1,
       "step": 0.05,
       "style": "IPY_MODEL_96bb51f9800e4ca8867c2e56639c1d73",
       "value": 0.5
      }
     },
     "44a18c305716419c9fc863ffc4e66ffa": {
      "model_module": "@jupyter-widgets/base",
      "model_module_version": "1.2.0",
      "model_name": "LayoutModel",
      "state": {}
     },
     "44a62ff156a8484c86bd7510f86ca7b7": {
      "model_module": "jupyter-matplotlib",
      "model_module_version": "^0.7.2",
      "model_name": "ToolbarModel",
      "state": {
       "_current_action": "zoom",
       "layout": "IPY_MODEL_9ec4324c141044dd989f8b1d2e1beac0",
       "toolitems": [
        [
         "Home",
         "Reset original view",
         "home",
         "home"
        ],
        [
         "Back",
         "Back to previous view",
         "arrow-left",
         "back"
        ],
        [
         "Forward",
         "Forward to next view",
         "arrow-right",
         "forward"
        ],
        [
         "Pan",
         "Pan axes with left mouse, zoom with right",
         "arrows",
         "pan"
        ],
        [
         "Zoom",
         "Zoom to rectangle",
         "square-o",
         "zoom"
        ],
        [
         "Download",
         "Download plot",
         "floppy-o",
         "save_figure"
        ]
       ]
      }
     },
     "44db0206fba847b789f9fbb077d0d90f": {
      "model_module": "@jupyter-widgets/base",
      "model_module_version": "1.2.0",
      "model_name": "LayoutModel",
      "state": {}
     },
     "45431e2db3cd493284b80ee80a2fc57d": {
      "model_module": "@jupyter-widgets/base",
      "model_module_version": "1.2.0",
      "model_name": "LayoutModel",
      "state": {}
     },
     "455b9419a85f4315936bd5bfdfc73139": {
      "model_module": "jupyter-matplotlib",
      "model_module_version": "^0.7.2",
      "model_name": "MPLCanvasModel",
      "state": {
       "_cursor": "default",
       "_figure_label": "Figure 3",
       "_height": 500,
       "_image_mode": "diff",
       "_message": "zoom rect",
       "_rubberband_y": 500,
       "_width": 1000,
       "layout": "IPY_MODEL_da9685a3d0bf4caca8fb77ac099c943d",
       "toolbar": "IPY_MODEL_44a62ff156a8484c86bd7510f86ca7b7",
       "toolbar_position": "left"
      }
     },
     "472ef9796bd8446db39c4a111b758733": {
      "model_module": "@jupyter-widgets/controls",
      "model_module_version": "1.5.0",
      "model_name": "DescriptionStyleModel",
      "state": {
       "description_width": ""
      }
     },
     "482d106950db4187a96865a88b31cf81": {
      "model_module": "@jupyter-widgets/controls",
      "model_module_version": "1.5.0",
      "model_name": "VBoxModel",
      "state": {
       "children": [
        "IPY_MODEL_ba700805d58c42919a1f233256c03c7f",
        "IPY_MODEL_2312009322ae4e3b922df45e2aeccc8d",
        "IPY_MODEL_266ee4b752fc45d894b94aea0a3fd919",
        "IPY_MODEL_557cf3c2edc84b7dbb410d9efe414a1e"
       ],
       "layout": "IPY_MODEL_b54836b0931a433698f7e5612848b2a7"
      }
     },
     "48ffca90df1b472a917f75f4c24023b0": {
      "model_module": "@jupyter-widgets/controls",
      "model_module_version": "1.5.0",
      "model_name": "DescriptionStyleModel",
      "state": {
       "description_width": ""
      }
     },
     "4a2d8e3ef4a7483ca7d0008d06f91fbd": {
      "model_module": "@jupyter-widgets/controls",
      "model_module_version": "1.5.0",
      "model_name": "HBoxModel",
      "state": {
       "children": [
        "IPY_MODEL_09ac6d48b8334b7589c4f0760982cacc",
        "IPY_MODEL_534c906ee5eb4c31b6f7a6d70bc66831",
        "IPY_MODEL_9a78167770ae4a2db1bd61604c05ac6e",
        "IPY_MODEL_171f6c3aed3e4b7f8c5c491db40cd51e",
        "IPY_MODEL_6953e94100ae4b7d96c8e8e6c13e0a38"
       ],
       "layout": "IPY_MODEL_64501473dfa24262b3d25edd28b59e1b"
      }
     },
     "4adad186faf447f4a6da684809a9547b": {
      "model_module": "@jupyter-widgets/controls",
      "model_module_version": "1.5.0",
      "model_name": "FloatTextModel",
      "state": {
       "layout": "IPY_MODEL_30689cf235a5493195a173b58c8fc001",
       "step": null,
       "style": "IPY_MODEL_2142da298cd4480282c532b43838b8c3"
      }
     },
     "4b0508b49e894e1ba6a87239e57f67e3": {
      "model_module": "@jupyter-widgets/base",
      "model_module_version": "1.2.0",
      "model_name": "LayoutModel",
      "state": {}
     },
     "4b54ddd705274ccbae82a998e01cb82e": {
      "model_module": "@jupyter-widgets/controls",
      "model_module_version": "1.5.0",
      "model_name": "ButtonStyleModel",
      "state": {}
     },
     "4bc88614fb43446aa5471cbe27f715a7": {
      "model_module": "@jupyter-widgets/controls",
      "model_module_version": "1.5.0",
      "model_name": "ButtonModel",
      "state": {
       "button_style": "success",
       "description": "Done",
       "layout": "IPY_MODEL_58b6249fb5214aa1b133621980483b00",
       "style": "IPY_MODEL_1183e720e3d24c8caf8b95b2d4c197fb"
      }
     },
     "4bffb22c92414876a0b4a0219a5509e3": {
      "model_module": "@jupyter-widgets/base",
      "model_module_version": "1.2.0",
      "model_name": "LayoutModel",
      "state": {
       "width": "80px"
      }
     },
     "4ccd2c50e75b4a45841d25478cb73bf6": {
      "model_module": "@jupyter-widgets/base",
      "model_module_version": "1.2.0",
      "model_name": "LayoutModel",
      "state": {}
     },
     "4dfcde38529f48e0a8f6f2be5e5528d3": {
      "model_module": "@jupyter-widgets/controls",
      "model_module_version": "1.5.0",
      "model_name": "LabelModel",
      "state": {
       "layout": "IPY_MODEL_fb053362d0534c0cb724078a5465708f",
       "style": "IPY_MODEL_55373e1fd49b4678b68d34d44b2e9674",
       "value": "offset:"
      }
     },
     "4f5876ff8e464025a2e9810e10423339": {
      "model_module": "@jupyter-widgets/base",
      "model_module_version": "1.2.0",
      "model_name": "LayoutModel",
      "state": {
       "width": "10%"
      }
     },
     "4fe81dd3a12b42db9feb2647f6ee248d": {
      "model_module": "@jupyter-widgets/controls",
      "model_module_version": "1.5.0",
      "model_name": "DropdownModel",
      "state": {
       "_options_labels": [
        "up",
        "down",
        "off"
       ],
       "index": 2,
       "layout": "IPY_MODEL_02c5670517f045df8ab59cb5f9f44ef2",
       "style": "IPY_MODEL_2b5995cea4394d7e834256c23e9773ed"
      }
     },
     "500debc2a0ae454ebe7ff4c28aae0fbe": {
      "model_module": "jupyter-matplotlib",
      "model_module_version": "^0.7.2",
      "model_name": "ToolbarModel",
      "state": {
       "layout": "IPY_MODEL_0da3b58fd8bc446aa568f2e0ddd04a39",
       "toolitems": [
        [
         "Home",
         "Reset original view",
         "home",
         "home"
        ],
        [
         "Back",
         "Back to previous view",
         "arrow-left",
         "back"
        ],
        [
         "Forward",
         "Forward to next view",
         "arrow-right",
         "forward"
        ],
        [
         "Pan",
         "Pan axes with left mouse, zoom with right",
         "arrows",
         "pan"
        ],
        [
         "Zoom",
         "Zoom to rectangle",
         "square-o",
         "zoom"
        ],
        [
         "Download",
         "Download plot",
         "floppy-o",
         "save_figure"
        ]
       ]
      }
     },
     "503fd24def8543f09a5b2419a5a0f3db": {
      "model_module": "@jupyter-widgets/base",
      "model_module_version": "1.2.0",
      "model_name": "LayoutModel",
      "state": {
       "width": "30%"
      }
     },
     "50ad0de35d8f4412a29a1186cf10ec53": {
      "model_module": "jupyter-matplotlib",
      "model_module_version": "^0.7.2",
      "model_name": "ToolbarModel",
      "state": {
       "_current_action": "zoom",
       "layout": "IPY_MODEL_bf8b1047bf8b4a9cb13f36ee34eb3ff3",
       "toolitems": [
        [
         "Home",
         "Reset original view",
         "home",
         "home"
        ],
        [
         "Back",
         "Back to previous view",
         "arrow-left",
         "back"
        ],
        [
         "Forward",
         "Forward to next view",
         "arrow-right",
         "forward"
        ],
        [
         "Pan",
         "Pan axes with left mouse, zoom with right",
         "arrows",
         "pan"
        ],
        [
         "Zoom",
         "Zoom to rectangle",
         "square-o",
         "zoom"
        ],
        [
         "Download",
         "Download plot",
         "floppy-o",
         "save_figure"
        ]
       ]
      }
     },
     "50fb7a377e7e43d9911dd2838d664d7e": {
      "model_module": "@jupyter-widgets/controls",
      "model_module_version": "1.5.0",
      "model_name": "DescriptionStyleModel",
      "state": {
       "description_width": ""
      }
     },
     "50ff71276b164c8b8a48f692392d4396": {
      "model_module": "@jupyter-widgets/controls",
      "model_module_version": "1.5.0",
      "model_name": "ButtonStyleModel",
      "state": {}
     },
     "51244b4357144021b81dfaeda42c6177": {
      "model_module": "@jupyter-widgets/controls",
      "model_module_version": "1.5.0",
      "model_name": "DescriptionStyleModel",
      "state": {
       "description_width": ""
      }
     },
     "512d26d2e66c40aaaecf569b7bffe5a5": {
      "model_module": "@jupyter-widgets/base",
      "model_module_version": "1.2.0",
      "model_name": "LayoutModel",
      "state": {
       "width": "auto"
      }
     },
     "5145ac49dc8e48489e3d3c0b88775d7f": {
      "model_module": "@jupyter-widgets/controls",
      "model_module_version": "1.5.0",
      "model_name": "ButtonModel",
      "state": {
       "button_style": "warning",
       "description": "Cancel",
       "layout": "IPY_MODEL_600210018dc347ecb928ed50ecd8f06c",
       "style": "IPY_MODEL_50ff71276b164c8b8a48f692392d4396"
      }
     },
     "5160b456c485411da7ab4989964af26b": {
      "model_module": "@jupyter-widgets/controls",
      "model_module_version": "1.5.0",
      "model_name": "DescriptionStyleModel",
      "state": {
       "description_width": ""
      }
     },
     "51dea7832ee141d2acfe53e93ace5e6b": {
      "model_module": "@jupyter-widgets/controls",
      "model_module_version": "1.5.0",
      "model_name": "HBoxModel",
      "state": {
       "children": [
        "IPY_MODEL_dbc48968702544f6b636ba2dfca6a2c7",
        "IPY_MODEL_aa96f7bd735c47ee8483477ebf111517",
        "IPY_MODEL_28173aaa92c04140a6d5aaaf3c849012",
        "IPY_MODEL_fa5f84523af244f080777014f33f5841"
       ],
       "layout": "IPY_MODEL_60f2f677a4044ab9a642592f9b66669a"
      }
     },
     "52648a9ca40c4c0ead1cf0f3bba4107d": {
      "model_module": "@jupyter-widgets/controls",
      "model_module_version": "1.5.0",
      "model_name": "HBoxModel",
      "state": {
       "children": [
        "IPY_MODEL_1f60f94342f84a4f988531ce0051276e",
        "IPY_MODEL_b8b3e8ea05104c588cae8407e603783a",
        "IPY_MODEL_a51c5561bfb046399685252bec764de7",
        "IPY_MODEL_6fd921b5a52341c5918c631b5c2ff51e",
        "IPY_MODEL_dd16d12961ee41a9abbe7af59a86f23e"
       ],
       "layout": "IPY_MODEL_0cec88999059442e8ab6902a8990b847"
      }
     },
     "534c906ee5eb4c31b6f7a6d70bc66831": {
      "model_module": "@jupyter-widgets/controls",
      "model_module_version": "1.5.0",
      "model_name": "TextModel",
      "state": {
       "layout": "IPY_MODEL_dd019363291f40fdb9ed21e4afc05713",
       "style": "IPY_MODEL_b61895bb30b84327a90c0c79715cae73",
       "value": "None"
      }
     },
     "53f443e1b3774010be2d5648c816a2f8": {
      "model_module": "@jupyter-widgets/base",
      "model_module_version": "1.2.0",
      "model_name": "LayoutModel",
      "state": {}
     },
     "54d3a8b16c094f93af13ef8ada3cd64a": {
      "model_module": "@jupyter-widgets/base",
      "model_module_version": "1.2.0",
      "model_name": "LayoutModel",
      "state": {}
     },
     "55373e1fd49b4678b68d34d44b2e9674": {
      "model_module": "@jupyter-widgets/controls",
      "model_module_version": "1.5.0",
      "model_name": "DescriptionStyleModel",
      "state": {
       "description_width": ""
      }
     },
     "557cf3c2edc84b7dbb410d9efe414a1e": {
      "model_module": "@jupyter-widgets/controls",
      "model_module_version": "1.5.0",
      "model_name": "ButtonModel",
      "state": {
       "button_style": "success",
       "description": "Done",
       "layout": "IPY_MODEL_e308804a1a6040cda772b52c127a421d",
       "style": "IPY_MODEL_402fa43ccafb4f8a8361b9f22df8e577"
      }
     },
     "570ee511cd7848869d1eaede2a9e0ca1": {
      "model_module": "@jupyter-widgets/base",
      "model_module_version": "1.2.0",
      "model_name": "LayoutModel",
      "state": {
       "width": "20%"
      }
     },
     "583e87a74a4f4579801fc8cd233e3644": {
      "model_module": "@jupyter-widgets/base",
      "model_module_version": "1.2.0",
      "model_name": "LayoutModel",
      "state": {}
     },
     "58b3f958e2b54bfeacfaa7ae2ec1f316": {
      "model_module": "@jupyter-widgets/controls",
      "model_module_version": "1.5.0",
      "model_name": "VBoxModel",
      "state": {
       "children": [
        "IPY_MODEL_9e6f35a6f1094a87bc1c908e88eb9177",
        "IPY_MODEL_fe597743545f4e7fa3856db25cab2ae5",
        "IPY_MODEL_c3b91d8b5d30466d89258c1acc253cc2",
        "IPY_MODEL_0018c3406ea340e7bfa8d990f42da727"
       ],
       "layout": "IPY_MODEL_f7e01043c17645699bbfaaf9a0ab78cc"
      }
     },
     "58b6249fb5214aa1b133621980483b00": {
      "model_module": "@jupyter-widgets/base",
      "model_module_version": "1.2.0",
      "model_name": "LayoutModel",
      "state": {
       "width": "80px"
      }
     },
     "59433d2a171d45e78c211cb764d513e2": {
      "model_module": "@jupyter-widgets/base",
      "model_module_version": "1.2.0",
      "model_name": "LayoutModel",
      "state": {
       "width": "70px"
      }
     },
     "59fadfb25a844ff1a31d653e07e1332f": {
      "model_module": "@jupyter-widgets/controls",
      "model_module_version": "1.5.0",
      "model_name": "HTMLModel",
      "state": {
       "layout": "IPY_MODEL_6e884f90398944ce9e49ba1ab490ae13",
       "style": "IPY_MODEL_9f164acf521948b2b9229f3ed1b4cdad",
       "value": "&nbsp;"
      }
     },
     "5bf2b8aa21444924b2b35beb91f0194a": {
      "model_module": "@jupyter-widgets/controls",
      "model_module_version": "1.5.0",
      "model_name": "DescriptionStyleModel",
      "state": {
       "description_width": ""
      }
     },
     "5c2c25aad1c84d56908f8a595b2b8cba": {
      "model_module": "@jupyter-widgets/base",
      "model_module_version": "1.2.0",
      "model_name": "LayoutModel",
      "state": {}
     },
     "5c885653c24c4633b4165b4f3b662cf7": {
      "model_module": "@jupyter-widgets/base",
      "model_module_version": "1.2.0",
      "model_name": "LayoutModel",
      "state": {
       "width": "100%"
      }
     },
     "5ce53c81c4b1458ca99fc766f51b27ca": {
      "model_module": "@jupyter-widgets/controls",
      "model_module_version": "1.5.0",
      "model_name": "ButtonStyleModel",
      "state": {}
     },
     "5d121360acf342b8976766d767c03bf6": {
      "model_module": "@jupyter-widgets/controls",
      "model_module_version": "1.5.0",
      "model_name": "LabelModel",
      "state": {
       "layout": "IPY_MODEL_955390d3d9c546acaff5a8f36c531e35",
       "style": "IPY_MODEL_5160b456c485411da7ab4989964af26b",
       "value": "Choose an integral for calibration"
      }
     },
     "5d5fccf3094e4689988e0ec03e034937": {
      "model_module": "jupyter-matplotlib",
      "model_module_version": "^0.7.2",
      "model_name": "ToolbarModel",
      "state": {
       "layout": "IPY_MODEL_bee2846a351b4ba4bf5a6efcb94a6635",
       "toolitems": [
        [
         "Home",
         "Reset original view",
         "home",
         "home"
        ],
        [
         "Back",
         "Back to previous view",
         "arrow-left",
         "back"
        ],
        [
         "Forward",
         "Forward to next view",
         "arrow-right",
         "forward"
        ],
        [
         "Pan",
         "Pan axes with left mouse, zoom with right",
         "arrows",
         "pan"
        ],
        [
         "Zoom",
         "Zoom to rectangle",
         "square-o",
         "zoom"
        ],
        [
         "Download",
         "Download plot",
         "floppy-o",
         "save_figure"
        ]
       ]
      }
     },
     "5d8476b42f5e4f66af053f3b4d55f0f4": {
      "model_module": "@jupyter-widgets/controls",
      "model_module_version": "1.5.0",
      "model_name": "HBoxModel",
      "state": {
       "children": [
        "IPY_MODEL_6cb4c62ed9eb4496b545367cf9bfc796",
        "IPY_MODEL_d001487b37344806aac005b33ed11465",
        "IPY_MODEL_c1582ef155774f0e95d1cd0d511ad3c0",
        "IPY_MODEL_d6c4bde1038641f9abdfeeb03ad5c6ae",
        "IPY_MODEL_4fe81dd3a12b42db9feb2647f6ee248d"
       ],
       "layout": "IPY_MODEL_05331af6be00451687585d553a710b38"
      }
     },
     "5e15622f64c847c9a3f20b787913e66c": {
      "model_module": "@jupyter-widgets/controls",
      "model_module_version": "1.5.0",
      "model_name": "HBoxModel",
      "state": {
       "children": [
        "IPY_MODEL_40c1d1d51e0c477eaa3e5f05c165910f",
        "IPY_MODEL_d6f2dd7662cc4332b74874a36e8a9307"
       ],
       "layout": "IPY_MODEL_208d10cfe7ae46babfb48cd96f477aaa"
      }
     },
     "5ea52031d73b404b990705bc8a36c540": {
      "model_module": "@jupyter-widgets/base",
      "model_module_version": "1.2.0",
      "model_name": "LayoutModel",
      "state": {}
     },
     "5f26653a6e88403eab9a2e2f13b06dfd": {
      "model_module": "@jupyter-widgets/base",
      "model_module_version": "1.2.0",
      "model_name": "LayoutModel",
      "state": {}
     },
     "5f3341c9ef0e404b898938b5cd92c64d": {
      "model_module": "@jupyter-widgets/controls",
      "model_module_version": "1.5.0",
      "model_name": "DescriptionStyleModel",
      "state": {
       "description_width": ""
      }
     },
     "5f43bbe77a7b4133812ac5bb55c4b38d": {
      "model_module": "@jupyter-widgets/base",
      "model_module_version": "1.2.0",
      "model_name": "LayoutModel",
      "state": {
       "width": "auto"
      }
     },
     "5f4858b987a34694be6064366fc92b4d": {
      "model_module": "@jupyter-widgets/controls",
      "model_module_version": "1.5.0",
      "model_name": "ButtonModel",
      "state": {
       "button_style": "success",
       "description": "Set",
       "layout": "IPY_MODEL_c10c1060cb28452a8728bdbf71c84f73",
       "style": "IPY_MODEL_c9d9d7f66fb443f9983dee117e759d43"
      }
     },
     "5f99c3376a5d4ef5a1b09f0ae2cf5ae4": {
      "model_module": "@jupyter-widgets/base",
      "model_module_version": "1.2.0",
      "model_name": "LayoutModel",
      "state": {
       "width": "30%"
      }
     },
     "600210018dc347ecb928ed50ecd8f06c": {
      "model_module": "@jupyter-widgets/base",
      "model_module_version": "1.2.0",
      "model_name": "LayoutModel",
      "state": {}
     },
     "6089c9684c104ed083e563a27ed4f0e9": {
      "model_module": "@jupyter-widgets/base",
      "model_module_version": "1.2.0",
      "model_name": "LayoutModel",
      "state": {}
     },
     "60ab0803ec86431e8cd0145eeb0dfd14": {
      "model_module": "@jupyter-widgets/controls",
      "model_module_version": "1.5.0",
      "model_name": "DescriptionStyleModel",
      "state": {
       "description_width": ""
      }
     },
     "60f2f677a4044ab9a642592f9b66669a": {
      "model_module": "@jupyter-widgets/base",
      "model_module_version": "1.2.0",
      "model_name": "LayoutModel",
      "state": {}
     },
     "6115b9d259cc4134abdb5bb9ec57f918": {
      "model_module": "@jupyter-widgets/base",
      "model_module_version": "1.2.0",
      "model_name": "LayoutModel",
      "state": {}
     },
     "622d737505ce4570a765e576f9163727": {
      "model_module": "@jupyter-widgets/controls",
      "model_module_version": "1.5.0",
      "model_name": "DescriptionStyleModel",
      "state": {
       "description_width": ""
      }
     },
     "624b88aaa2bc4e058e79080295f6797f": {
      "model_module": "@jupyter-widgets/base",
      "model_module_version": "1.2.0",
      "model_name": "LayoutModel",
      "state": {}
     },
     "63118efb1b5848bf8d0860fd65d6e210": {
      "model_module": "@jupyter-widgets/base",
      "model_module_version": "1.2.0",
      "model_name": "LayoutModel",
      "state": {
       "width": "40em"
      }
     },
     "634797bd89b44eccab0dbd323ca16d11": {
      "model_module": "@jupyter-widgets/base",
      "model_module_version": "1.2.0",
      "model_name": "LayoutModel",
      "state": {}
     },
     "6391ed63e88e461d9ab699680a7fc16d": {
      "model_module": "@jupyter-widgets/base",
      "model_module_version": "1.2.0",
      "model_name": "LayoutModel",
      "state": {
       "border": "1px solid red"
      }
     },
     "63e605d3dd3040f980552466f8d615bb": {
      "model_module": "@jupyter-widgets/controls",
      "model_module_version": "1.5.0",
      "model_name": "DescriptionStyleModel",
      "state": {
       "description_width": ""
      }
     },
     "64284de98b9e420caece01ae8421731e": {
      "model_module": "@jupyter-widgets/base",
      "model_module_version": "1.2.0",
      "model_name": "LayoutModel",
      "state": {}
     },
     "64501473dfa24262b3d25edd28b59e1b": {
      "model_module": "@jupyter-widgets/base",
      "model_module_version": "1.2.0",
      "model_name": "LayoutModel",
      "state": {}
     },
     "64b52ca3c98b4c45886a925a4a157015": {
      "model_module": "@jupyter-widgets/controls",
      "model_module_version": "1.5.0",
      "model_name": "SliderStyleModel",
      "state": {
       "description_width": ""
      }
     },
     "654d965c327943fab741396f4eb431f2": {
      "model_module": "@jupyter-widgets/controls",
      "model_module_version": "1.5.0",
      "model_name": "TextModel",
      "state": {
       "layout": "IPY_MODEL_21c62f98c8f14bcab2a4031c8248dd6a",
       "style": "IPY_MODEL_f78a9569829944c8a4fbffb184dd9ef3",
       "value": "None"
      }
     },
     "664006c5444a42a4ad7ac08d7764dbd6": {
      "model_module": "@jupyter-widgets/controls",
      "model_module_version": "1.5.0",
      "model_name": "ButtonStyleModel",
      "state": {}
     },
     "66d425db38d447b2960083e3ecf23811": {
      "model_module": "jupyter-matplotlib",
      "model_module_version": "^0.7.2",
      "model_name": "ToolbarModel",
      "state": {
       "layout": "IPY_MODEL_6089c9684c104ed083e563a27ed4f0e9",
       "toolitems": [
        [
         "Home",
         "Reset original view",
         "home",
         "home"
        ],
        [
         "Back",
         "Back to previous view",
         "arrow-left",
         "back"
        ],
        [
         "Forward",
         "Forward to next view",
         "arrow-right",
         "forward"
        ],
        [
         "Pan",
         "Pan axes with left mouse, zoom with right",
         "arrows",
         "pan"
        ],
        [
         "Zoom",
         "Zoom to rectangle",
         "square-o",
         "zoom"
        ],
        [
         "Download",
         "Download plot",
         "floppy-o",
         "save_figure"
        ]
       ]
      }
     },
     "6758deb064c74bb486c62ccb01d7cd71": {
      "model_module": "@jupyter-widgets/controls",
      "model_module_version": "1.5.0",
      "model_name": "DescriptionStyleModel",
      "state": {
       "description_width": ""
      }
     },
     "6779fe82a6314ae48e466219a3c310d0": {
      "model_module": "@jupyter-widgets/base",
      "model_module_version": "1.2.0",
      "model_name": "LayoutModel",
      "state": {
       "width": "15%"
      }
     },
     "6953e94100ae4b7d96c8e8e6c13e0a38": {
      "model_module": "@jupyter-widgets/controls",
      "model_module_version": "1.5.0",
      "model_name": "DropdownModel",
      "state": {
       "_options_labels": [
        "up",
        "down",
        "off"
       ],
       "index": 2,
       "layout": "IPY_MODEL_a13b55abd59443af9740be61561087d8",
       "style": "IPY_MODEL_eb59d632c3da4521b11ed4d491943038"
      }
     },
     "699b6e3394d24b5e8cd299981904cda1": {
      "model_module": "@jupyter-widgets/controls",
      "model_module_version": "1.5.0",
      "model_name": "ButtonModel",
      "state": {
       "button_style": "warning",
       "description": "Cancel",
       "layout": "IPY_MODEL_429f1d38bc624883a63c10a77099ca5d",
       "style": "IPY_MODEL_2773834bb19c45c9a8fbe119c525b48a"
      }
     },
     "69c8a4dd3b4745d7ad30d9c1d1ad19d3": {
      "model_module": "@jupyter-widgets/controls",
      "model_module_version": "1.5.0",
      "model_name": "DropdownModel",
      "state": {
       "_options_labels": [
        "black",
        "red",
        "blue",
        "green",
        "orange",
        "blueviolet",
        "crimson",
        "turquoise",
        "indigo",
        "magenta",
        "gold",
        "pink",
        "purple",
        "salmon",
        "darkblue",
        "sienna"
       ],
       "index": 9,
       "layout": "IPY_MODEL_3a192f0a1d3b4d5086d36a0624e7709d",
       "style": "IPY_MODEL_472ef9796bd8446db39c4a111b758733"
      }
     },
     "69cc9ea696524704a1fa0b3bde7f9b01": {
      "model_module": "@jupyter-widgets/base",
      "model_module_version": "1.2.0",
      "model_name": "LayoutModel",
      "state": {
       "width": "100%"
      }
     },
     "6a5bbab925c540dabe0b939f7dcfbf51": {
      "model_module": "@jupyter-widgets/base",
      "model_module_version": "1.2.0",
      "model_name": "LayoutModel",
      "state": {
       "width": "70px"
      }
     },
     "6b69025d5c5f4448885a5c6f358546fc": {
      "model_module": "@jupyter-widgets/base",
      "model_module_version": "1.2.0",
      "model_name": "LayoutModel",
      "state": {}
     },
     "6cb4c62ed9eb4496b545367cf9bfc796": {
      "model_module": "@jupyter-widgets/controls",
      "model_module_version": "1.5.0",
      "model_name": "HTMLModel",
      "state": {
       "layout": "IPY_MODEL_2f34395d13e54acf8db2bf6f21bba5a8",
       "style": "IPY_MODEL_ee59b1fd64724d238d58fdd768369807",
       "value": "<b>4</b>"
      }
     },
     "6d39be62597a41f9b039581a32469ff4": {
      "model_module": "@jupyter-widgets/base",
      "model_module_version": "1.2.0",
      "model_name": "LayoutModel",
      "state": {
       "width": "70px"
      }
     },
     "6e0a72db313a41bb8a980d38e39166ca": {
      "model_module": "@jupyter-widgets/controls",
      "model_module_version": "1.5.0",
      "model_name": "SliderStyleModel",
      "state": {
       "description_width": ""
      }
     },
     "6e14ea2fb0bb470db126ad773aaeb94f": {
      "model_module": "@jupyter-widgets/controls",
      "model_module_version": "1.5.0",
      "model_name": "DescriptionStyleModel",
      "state": {
       "description_width": ""
      }
     },
     "6e884f90398944ce9e49ba1ab490ae13": {
      "model_module": "@jupyter-widgets/base",
      "model_module_version": "1.2.0",
      "model_name": "LayoutModel",
      "state": {
       "width": "80px"
      }
     },
     "6e8f9e30939e47aa8539bb7fdba4eec5": {
      "model_module": "@jupyter-widgets/base",
      "model_module_version": "1.2.0",
      "model_name": "LayoutModel",
      "state": {
       "width": "70px"
      }
     },
     "6f6a6a5111f54a898997a1d8fd0e1d78": {
      "model_module": "@jupyter-widgets/base",
      "model_module_version": "1.2.0",
      "model_name": "LayoutModel",
      "state": {}
     },
     "6fd921b5a52341c5918c631b5c2ff51e": {
      "model_module": "@jupyter-widgets/controls",
      "model_module_version": "1.5.0",
      "model_name": "FloatLogSliderModel",
      "state": {
       "continuous_update": false,
       "layout": "IPY_MODEL_b0eb61b9e22a4d3fb9535726bf4c1d81",
       "max": 2,
       "min": -1,
       "readout_format": ".2f",
       "step": 0.01,
       "style": "IPY_MODEL_cac7e99e5ab046e686f1d96bfd7a71f0",
       "value": 0.20892961308540392
      }
     },
     "703f91e7eb77477d9b5b3ad3f9f88247": {
      "model_module": "@jupyter-widgets/base",
      "model_module_version": "1.2.0",
      "model_name": "LayoutModel",
      "state": {
       "width": "40em"
      }
     },
     "70b765a01c7144cfa187789bc49c95c5": {
      "model_module": "@jupyter-widgets/base",
      "model_module_version": "1.2.0",
      "model_name": "LayoutModel",
      "state": {
       "height": "10.16cm",
       "width": "80px"
      }
     },
     "70fc0371b5934b57b71b0d07182da0e9": {
      "model_module": "@jupyter-widgets/base",
      "model_module_version": "1.2.0",
      "model_name": "LayoutModel",
      "state": {
       "display": "none",
       "grid_gap": "0px 0px",
       "grid_template_areas": "\n                    'pathlist filename'\n                    'dircontent dircontent'\n                    ",
       "grid_template_columns": "60% 40%",
       "grid_template_rows": "auto auto",
       "width": "500px"
      }
     },
     "711ddce44b5341fbb849239190ffb3eb": {
      "model_module": "@jupyter-widgets/controls",
      "model_module_version": "1.5.0",
      "model_name": "TextModel",
      "state": {
       "layout": "IPY_MODEL_703f91e7eb77477d9b5b3ad3f9f88247",
       "style": "IPY_MODEL_5bf2b8aa21444924b2b35beb91f0194a",
       "value": "None"
      }
     },
     "7144950c03434de39be6deb7c73a3861": {
      "model_module": "@jupyter-widgets/base",
      "model_module_version": "1.2.0",
      "model_name": "LayoutModel",
      "state": {
       "width": "70px"
      }
     },
     "720266e38174468cad374c0e931f8f73": {
      "model_module": "@jupyter-widgets/base",
      "model_module_version": "1.2.0",
      "model_name": "LayoutModel",
      "state": {
       "width": "15%"
      }
     },
     "738e9a41d5a64c54a365c939f22c44ec": {
      "model_module": "@jupyter-widgets/base",
      "model_module_version": "1.2.0",
      "model_name": "LayoutModel",
      "state": {}
     },
     "73c9126568cc4dbabd20fc69432e366f": {
      "model_module": "@jupyter-widgets/base",
      "model_module_version": "1.2.0",
      "model_name": "LayoutModel",
      "state": {}
     },
     "742e148428214f718bd1c7d23368a8ff": {
      "model_module": "@jupyter-widgets/controls",
      "model_module_version": "1.5.0",
      "model_name": "ButtonStyleModel",
      "state": {}
     },
     "74a6b026cf2b402ab2615b3821e83edf": {
      "model_module": "@jupyter-widgets/controls",
      "model_module_version": "1.5.0",
      "model_name": "SelectModel",
      "state": {
       "_options_labels": [
        "..",
        "pdata",
        "acqu",
        "acqus",
        "audita.txt",
        "fid",
        "format.temp",
        "processed.gs1",
        "pulseprogram",
        "scon2",
        "shimvalues",
        "uxnmr.par"
       ],
       "index": 5,
       "layout": "IPY_MODEL_94bdc8043e9a4bdfa3337cd8d869e8ea",
       "rows": 8,
       "style": "IPY_MODEL_3fbf3b5abe174e8cba43bf9b9e25b936"
      }
     },
     "74c28c98fe584f36b0de66f1cd86adba": {
      "model_module": "@jupyter-widgets/controls",
      "model_module_version": "1.5.0",
      "model_name": "ButtonModel",
      "state": {
       "button_style": "success",
       "description": "Change",
       "layout": "IPY_MODEL_5f43bbe77a7b4133812ac5bb55c4b38d",
       "style": "IPY_MODEL_ffea2bd2d6414610826e691267dc853c"
      }
     },
     "75ebac3e976f4f08b5ce22a3787771b2": {
      "model_module": "@jupyter-widgets/base",
      "model_module_version": "1.2.0",
      "model_name": "LayoutModel",
      "state": {}
     },
     "75f550bf43f244d7859216ec50de3633": {
      "model_module": "@jupyter-widgets/base",
      "model_module_version": "1.2.0",
      "model_name": "LayoutModel",
      "state": {}
     },
     "76312298b31c4ae59222cc2b41e13aa3": {
      "model_module": "@jupyter-widgets/base",
      "model_module_version": "1.2.0",
      "model_name": "LayoutModel",
      "state": {}
     },
     "767c69348b41414da4107293ba51cd0c": {
      "model_module": "@jupyter-widgets/controls",
      "model_module_version": "1.5.0",
      "model_name": "VBoxModel",
      "state": {
       "children": [
        "IPY_MODEL_adb9caaa5fc3433f9be3f146b6de5757",
        "IPY_MODEL_b857d40a36e345b9a672d6ff64d4af55"
       ],
       "layout": "IPY_MODEL_d6be33e9d6154a7186e11e047141992e"
      }
     },
     "76cc28d6723844cd89ab839b4d91f05d": {
      "model_module": "@jupyter-widgets/controls",
      "model_module_version": "1.5.0",
      "model_name": "ButtonStyleModel",
      "state": {}
     },
     "76dd7c93fe284c8182dc3fea0b1756d5": {
      "model_module": "@jupyter-widgets/base",
      "model_module_version": "1.2.0",
      "model_name": "LayoutModel",
      "state": {}
     },
     "7777a9ba606c41ec9fe62a095445bae5": {
      "model_module": "@jupyter-widgets/base",
      "model_module_version": "1.2.0",
      "model_name": "LayoutModel",
      "state": {}
     },
     "777eb10335484350ac8fffb47fd05ac3": {
      "model_module": "@jupyter-widgets/base",
      "model_module_version": "1.2.0",
      "model_name": "LayoutModel",
      "state": {
       "width": "70px"
      }
     },
     "77fc443050bd4252ad603745f77e4757": {
      "model_module": "@jupyter-widgets/base",
      "model_module_version": "1.2.0",
      "model_name": "LayoutModel",
      "state": {
       "width": "40em"
      }
     },
     "78a116a286014fd5a7b3dc7dd43f2ded": {
      "model_module": "@jupyter-widgets/base",
      "model_module_version": "1.2.0",
      "model_name": "LayoutModel",
      "state": {
       "width": "20%"
      }
     },
     "79b908da4e5b47dc8b05f3017af41b9b": {
      "model_module": "@jupyter-widgets/controls",
      "model_module_version": "1.5.0",
      "model_name": "VBoxModel",
      "state": {
       "children": [
        "IPY_MODEL_ba700805d58c42919a1f233256c03c7f",
        "IPY_MODEL_2312009322ae4e3b922df45e2aeccc8d",
        "IPY_MODEL_266ee4b752fc45d894b94aea0a3fd919"
       ],
       "layout": "IPY_MODEL_6b69025d5c5f4448885a5c6f358546fc"
      }
     },
     "7ad80cd723d2440f859ba1a4cf5924b4": {
      "model_module": "@jupyter-widgets/controls",
      "model_module_version": "1.5.0",
      "model_name": "DescriptionStyleModel",
      "state": {
       "description_width": ""
      }
     },
     "7ae31f1a09014a1fa0e1de2a17e37209": {
      "model_module": "@jupyter-widgets/base",
      "model_module_version": "1.2.0",
      "model_name": "LayoutModel",
      "state": {}
     },
     "7b076b13f9754c82b150030e59e4d30d": {
      "model_module": "@jupyter-widgets/controls",
      "model_module_version": "1.5.0",
      "model_name": "SliderStyleModel",
      "state": {
       "description_width": ""
      }
     },
     "7b07fdcb03cc43759c5281301639eee4": {
      "model_module": "@jupyter-widgets/controls",
      "model_module_version": "1.5.0",
      "model_name": "VBoxModel",
      "state": {
       "children": [
        "IPY_MODEL_3f6a74cbbaaa4a89b1b3d31481b5a963",
        "IPY_MODEL_51dea7832ee141d2acfe53e93ace5e6b",
        "IPY_MODEL_39a52c607165496f86fbc2bedbbbc060"
       ],
       "layout": "IPY_MODEL_b3229f0f360f4ab089d85d62a24d9268"
      }
     },
     "7be27f1286c043bc8fce7fc3e5623149": {
      "model_module": "@jupyter-widgets/controls",
      "model_module_version": "1.5.0",
      "model_name": "VBoxModel",
      "state": {
       "children": [
        "IPY_MODEL_59fadfb25a844ff1a31d653e07e1332f",
        "IPY_MODEL_a37083c33c5e4b9b9de86cdf5112e381",
        "IPY_MODEL_cca613eaf3e3418685f2f46812408f86"
       ],
       "layout": "IPY_MODEL_f47fc024ec014621a8a0ee101e3892a1"
      }
     },
     "7c3a76083f5b4c84a83fe3fa4d22037d": {
      "model_module": "@jupyter-widgets/controls",
      "model_module_version": "1.5.0",
      "model_name": "ButtonStyleModel",
      "state": {}
     },
     "7d2590c01c81476bb1ce0757799083f4": {
      "model_module": "@jupyter-widgets/controls",
      "model_module_version": "1.5.0",
      "model_name": "FloatTextModel",
      "state": {
       "layout": "IPY_MODEL_e78e7ffa06b3480593c327f2b0e84366",
       "step": null,
       "style": "IPY_MODEL_cee16a6a026f4b55b84f458faa6f1042"
      }
     },
     "7d52036388cd4b489a9d7b57f1bc8bcb": {
      "model_module": "@jupyter-widgets/controls",
      "model_module_version": "1.5.0",
      "model_name": "HTMLModel",
      "state": {
       "layout": "IPY_MODEL_36c8b2ad13fd4b09947e8a37501cf378",
       "placeholder": "",
       "style": "IPY_MODEL_2bc236dbae824995917c060f9b8f709f",
       "value": "<span style=\"margin-left:10px; color:orange;\">/DATA/SM_ARTE_v3/ARTEref_161123/1/fid</span>"
      }
     },
     "7d71afb0752740b2b0fa8d7b089a9826": {
      "model_module": "@jupyter-widgets/base",
      "model_module_version": "1.2.0",
      "model_name": "LayoutModel",
      "state": {
       "width": "auto"
      }
     },
     "7e2557b75d384a4c8c5693b06db899d1": {
      "model_module": "@jupyter-widgets/controls",
      "model_module_version": "1.5.0",
      "model_name": "HBoxModel",
      "state": {
       "children": [
        "IPY_MODEL_aee850ebb11741d6b5415abdaadc3562",
        "IPY_MODEL_455b9419a85f4315936bd5bfdfc73139"
       ],
       "layout": "IPY_MODEL_29d47967d9134eb4a94671c396f3c5af"
      }
     },
     "7e771c9b16584306b61aaf778063b14f": {
      "model_module": "@jupyter-widgets/controls",
      "model_module_version": "1.5.0",
      "model_name": "HBoxModel",
      "state": {
       "children": [
        "IPY_MODEL_d15383248e574ffda6da7b3b73dfd22d",
        "IPY_MODEL_c5bc8cba8c5d40ec90288ecf9c9556ed"
       ],
       "layout": "IPY_MODEL_3dfb46fcae944119bae41faa3aab0e74"
      }
     },
     "7e9c489b5c974e899f7423335d0890e7": {
      "model_module": "@jupyter-widgets/base",
      "model_module_version": "1.2.0",
      "model_name": "LayoutModel",
      "state": {}
     },
     "7fa0c872f37149bf9e34040fa51b11fc": {
      "model_module": "@jupyter-widgets/controls",
      "model_module_version": "1.5.0",
      "model_name": "DropdownModel",
      "state": {
       "_options_labels": [
        "black",
        "red",
        "blue",
        "green",
        "orange",
        "blueviolet",
        "crimson",
        "turquoise",
        "indigo",
        "magenta",
        "gold",
        "pink",
        "purple",
        "salmon",
        "darkblue",
        "sienna"
       ],
       "index": 1,
       "layout": "IPY_MODEL_4bffb22c92414876a0b4a0219a5509e3",
       "style": "IPY_MODEL_fa9303cfb55f4e47972800fdef9b3c6e"
      }
     },
     "80a2438ecc2b4547a8880a2c9cf79f11": {
      "model_module": "@jupyter-widgets/base",
      "model_module_version": "1.2.0",
      "model_name": "LayoutModel",
      "state": {
       "display": "none",
       "grid_gap": "0px 0px",
       "grid_template_areas": "\n                    'pathlist filename'\n                    'dircontent dircontent'\n                    ",
       "grid_template_columns": "60% 40%",
       "grid_template_rows": "auto auto",
       "width": "500px"
      }
     },
     "812f5b748fd84209861d17df3e52a5ce": {
      "model_module": "@jupyter-widgets/base",
      "model_module_version": "1.2.0",
      "model_name": "LayoutModel",
      "state": {}
     },
     "815c2377680842ec8e7cfc30bb54f486": {
      "model_module": "@jupyter-widgets/base",
      "model_module_version": "1.2.0",
      "model_name": "LayoutModel",
      "state": {
       "width": "auto"
      }
     },
     "81f0840efa2a4c5292109afb1f72973c": {
      "model_module": "@jupyter-widgets/base",
      "model_module_version": "1.2.0",
      "model_name": "LayoutModel",
      "state": {
       "grid_area": "dircontent",
       "width": "auto"
      }
     },
     "820da354f8974686a3eae3d5ffa79ba9": {
      "model_module": "@jupyter-widgets/controls",
      "model_module_version": "1.5.0",
      "model_name": "DropdownModel",
      "state": {
       "_options_labels": [
        "up",
        "down",
        "off"
       ],
       "index": 2,
       "layout": "IPY_MODEL_59433d2a171d45e78c211cb764d513e2",
       "style": "IPY_MODEL_d843bd87cc42493085a635a5adae22c6"
      }
     },
     "823b118e6a3148b59694b0d221d3eddd": {
      "model_module": "@jupyter-widgets/controls",
      "model_module_version": "1.5.0",
      "model_name": "VBoxModel",
      "state": {
       "children": [
        "IPY_MODEL_a993019dc3d641a9acd25c3d946b91b9",
        "IPY_MODEL_fb4ce1a2829a4944962869f0bfec06a6"
       ],
       "layout": "IPY_MODEL_0094485db9da4177ad4da8d797c6ec12"
      }
     },
     "839f780f8cce43dfae17db3a6bb94333": {
      "model_module": "@jupyter-widgets/controls",
      "model_module_version": "1.5.0",
      "model_name": "HBoxModel",
      "state": {
       "children": [
        "IPY_MODEL_f450dea406df4273beb577062ffcc46a",
        "IPY_MODEL_654d965c327943fab741396f4eb431f2",
        "IPY_MODEL_08a5aa2a47134762ae8b0c15497abfca",
        "IPY_MODEL_917adb0b4e01486895755e372d11545a",
        "IPY_MODEL_ce6738e53ebc487eaf7e614ec56a7330"
       ],
       "layout": "IPY_MODEL_6115b9d259cc4134abdb5bb9ec57f918"
      }
     },
     "85c62aec68c442ecbf35cf2db560abe2": {
      "model_module": "@jupyter-widgets/controls",
      "model_module_version": "1.5.0",
      "model_name": "ButtonStyleModel",
      "state": {}
     },
     "85dfa2e111b9455c9963b0c58cf63a22": {
      "model_module": "@jupyter-widgets/base",
      "model_module_version": "1.2.0",
      "model_name": "LayoutModel",
      "state": {}
     },
     "86a65b8dd61d4f6a9c3a78b8057e32df": {
      "model_module": "jupyter-matplotlib",
      "model_module_version": "^0.7.2",
      "model_name": "MPLCanvasModel",
      "state": {
       "_figure_label": "Figure 5",
       "_height": 500,
       "_image_mode": "diff",
       "_width": 1000,
       "layout": "IPY_MODEL_c7f8d47aa1fa4f91b2be7805282f1935",
       "toolbar": "IPY_MODEL_5d5fccf3094e4689988e0ec03e034937",
       "toolbar_position": "left"
      }
     },
     "86f55627a8f14ca5ab84c2e25baa8de9": {
      "model_module": "@jupyter-widgets/base",
      "model_module_version": "1.2.0",
      "model_name": "LayoutModel",
      "state": {}
     },
     "87ada72f739f48559703b719208962cb": {
      "model_module": "@jupyter-widgets/base",
      "model_module_version": "1.2.0",
      "model_name": "LayoutModel",
      "state": {}
     },
     "8945586a14164d0ba69aff708c04d1ac": {
      "model_module": "jupyter-matplotlib",
      "model_module_version": "^0.7.2",
      "model_name": "ToolbarModel",
      "state": {
       "layout": "IPY_MODEL_977124a4f0d042f7ba367f40454ec89b",
       "toolitems": [
        [
         "Home",
         "Reset original view",
         "home",
         "home"
        ],
        [
         "Back",
         "Back to previous view",
         "arrow-left",
         "back"
        ],
        [
         "Forward",
         "Forward to next view",
         "arrow-right",
         "forward"
        ],
        [
         "Pan",
         "Pan axes with left mouse, zoom with right",
         "arrows",
         "pan"
        ],
        [
         "Zoom",
         "Zoom to rectangle",
         "square-o",
         "zoom"
        ],
        [
         "Download",
         "Download plot",
         "floppy-o",
         "save_figure"
        ]
       ]
      }
     },
     "89a0077d64f345158688219e00f3c9c9": {
      "model_module": "@jupyter-widgets/controls",
      "model_module_version": "1.5.0",
      "model_name": "ButtonModel",
      "state": {
       "button_style": "info",
       "description": "Copy",
       "layout": "IPY_MODEL_385ef4626b2c42e9a393f21aef47b6ed",
       "style": "IPY_MODEL_b31262acc4ff4d83858cc921d8e31230",
       "tooltip": "copy selected data-set to entry below"
      }
     },
     "8a3ce06047334fb1bb8d4d3b52a0bbd6": {
      "model_module": "@jupyter-widgets/controls",
      "model_module_version": "1.5.0",
      "model_name": "HBoxModel",
      "state": {
       "children": [
        "IPY_MODEL_123325aab81d4a6eae997e8128d351ab",
        "IPY_MODEL_313b723fb332451bb7f1478bbc6595e5",
        "IPY_MODEL_7d2590c01c81476bb1ce0757799083f4",
        "IPY_MODEL_d03f91a643c54e61bbfb985022a9030c",
        "IPY_MODEL_bf4b1b08549c4b5da5ec9fe078e9e447"
       ],
       "layout": "IPY_MODEL_bc27e3b22b3e42e684e609a9ce5db6b1"
      }
     },
     "8acb8361d1a947aa8dd91c80da0ed544": {
      "model_module": "@jupyter-widgets/controls",
      "model_module_version": "1.5.0",
      "model_name": "ButtonModel",
      "state": {
       "button_style": "success",
       "description": "Print",
       "layout": "IPY_MODEL_6e884f90398944ce9e49ba1ab490ae13",
       "style": "IPY_MODEL_b0e5a24c36864f7083594357acf1aa99",
       "tooltip": "Print to screen"
      }
     },
     "8ae2ce461cf64607a2d023d96ba41f8f": {
      "model_module": "@jupyter-widgets/controls",
      "model_module_version": "1.5.0",
      "model_name": "FloatTextModel",
      "state": {
       "description": "calibration",
       "disabled": true,
       "layout": "IPY_MODEL_f2b1ecc005184d6a993c0bd0f1c6fc38",
       "step": 0.001,
       "style": "IPY_MODEL_2385d32c890f49398bb822f9e385442c"
      }
     },
     "8b997e15cf654007ad1b16ad8270d426": {
      "model_module": "jupyter-matplotlib",
      "model_module_version": "^0.7.2",
      "model_name": "ToolbarModel",
      "state": {
       "layout": "IPY_MODEL_75f550bf43f244d7859216ec50de3633",
       "toolitems": [
        [
         "Home",
         "Reset original view",
         "home",
         "home"
        ],
        [
         "Back",
         "Back to previous view",
         "arrow-left",
         "back"
        ],
        [
         "Forward",
         "Forward to next view",
         "arrow-right",
         "forward"
        ],
        [
         "Pan",
         "Pan axes with left mouse, zoom with right",
         "arrows",
         "pan"
        ],
        [
         "Zoom",
         "Zoom to rectangle",
         "square-o",
         "zoom"
        ],
        [
         "Download",
         "Download plot",
         "floppy-o",
         "save_figure"
        ]
       ]
      }
     },
     "8bc95cae32f54bbcb977119728b36b06": {
      "model_module": "@jupyter-widgets/controls",
      "model_module_version": "1.5.0",
      "model_name": "DescriptionStyleModel",
      "state": {
       "description_width": ""
      }
     },
     "8bda77d9f3334138a57172adb65bf9f0": {
      "model_module": "@jupyter-widgets/base",
      "model_module_version": "1.2.0",
      "model_name": "LayoutModel",
      "state": {}
     },
     "8c09d7e004224455bc2cfb6e60e9c900": {
      "model_module": "@jupyter-widgets/controls",
      "model_module_version": "1.5.0",
      "model_name": "ButtonModel",
      "state": {
       "button_style": "success",
       "description": "Set",
       "layout": "IPY_MODEL_4f5876ff8e464025a2e9810e10423339",
       "style": "IPY_MODEL_8d4e9abef33c4c4680e7046cd22e7bb3",
       "tooltip": "Set spectrum calibration"
      }
     },
     "8c2897ad0a6e4d728ad1930b763fc301": {
      "model_module": "@jupyter-widgets/controls",
      "model_module_version": "1.5.0",
      "model_name": "DescriptionStyleModel",
      "state": {
       "description_width": ""
      }
     },
     "8d4e9abef33c4c4680e7046cd22e7bb3": {
      "model_module": "@jupyter-widgets/controls",
      "model_module_version": "1.5.0",
      "model_name": "ButtonStyleModel",
      "state": {}
     },
     "8d64f50fc2e04cb1b8a1e35a101390ee": {
      "model_module": "@jupyter-widgets/controls",
      "model_module_version": "1.5.0",
      "model_name": "DescriptionStyleModel",
      "state": {
       "description_width": ""
      }
     },
     "8d7d3e3f58ee49179b1b8eb0c90a55a1": {
      "model_module": "jupyter-matplotlib",
      "model_module_version": "^0.7.2",
      "model_name": "ToolbarModel",
      "state": {
       "layout": "IPY_MODEL_b75f1c40dd574f08884fb194080bea1f",
       "toolitems": [
        [
         "Home",
         "Reset original view",
         "home",
         "home"
        ],
        [
         "Back",
         "Back to previous view",
         "arrow-left",
         "back"
        ],
        [
         "Forward",
         "Forward to next view",
         "arrow-right",
         "forward"
        ],
        [
         "Pan",
         "Pan axes with left mouse, zoom with right",
         "arrows",
         "pan"
        ],
        [
         "Zoom",
         "Zoom to rectangle",
         "square-o",
         "zoom"
        ],
        [
         "Download",
         "Download plot",
         "floppy-o",
         "save_figure"
        ]
       ]
      }
     },
     "8e0708b497f74ad895ddc841787e8472": {
      "model_module": "@jupyter-widgets/controls",
      "model_module_version": "1.5.0",
      "model_name": "HTMLModel",
      "state": {
       "layout": "IPY_MODEL_58b6249fb5214aa1b133621980483b00",
       "style": "IPY_MODEL_c1f3fb249db346329ac686cb1b923e32",
       "value": "&nbsp;"
      }
     },
     "8e2c28cedc9e41d3bf99c3fcf13fb8f3": {
      "model_module": "@jupyter-widgets/controls",
      "model_module_version": "1.5.0",
      "model_name": "DescriptionStyleModel",
      "state": {
       "description_width": ""
      }
     },
     "8e7fbc3bb8804a788dfe2a4d9285c8d9": {
      "model_module": "@jupyter-widgets/controls",
      "model_module_version": "1.5.0",
      "model_name": "HTMLModel",
      "state": {
       "layout": "IPY_MODEL_243995574dcc4a9881f724b63aaf58b7",
       "placeholder": "",
       "style": "IPY_MODEL_9df933caf22942aca7e2f6bb3e5c6b6e",
       "value": "<span style=\"margin-left:10px; color:black;\">No file selected</span>"
      }
     },
     "8f66c3eb7d1843cf9c5ac512e8a1ff06": {
      "model_module": "@jupyter-widgets/base",
      "model_module_version": "1.2.0",
      "model_name": "LayoutModel",
      "state": {
       "width": "15%"
      }
     },
     "9019956d73c0470aa9480d96c76c5e04": {
      "model_module": "@jupyter-widgets/controls",
      "model_module_version": "1.5.0",
      "model_name": "SliderStyleModel",
      "state": {
       "description_width": ""
      }
     },
     "9144f99157f3428b9734e2c2907cf884": {
      "model_module": "@jupyter-widgets/base",
      "model_module_version": "1.2.0",
      "model_name": "LayoutModel",
      "state": {
       "width": "auto"
      }
     },
     "917adb0b4e01486895755e372d11545a": {
      "model_module": "@jupyter-widgets/controls",
      "model_module_version": "1.5.0",
      "model_name": "DropdownModel",
      "state": {
       "_options_labels": [
        "black",
        "red",
        "blue",
        "green",
        "orange",
        "blueviolet",
        "crimson",
        "turquoise",
        "indigo",
        "magenta",
        "gold",
        "pink",
        "purple",
        "salmon",
        "darkblue",
        "sienna"
       ],
       "index": 3,
       "layout": "IPY_MODEL_9dc741bd41314bcfbd4f09efcc79034c",
       "style": "IPY_MODEL_304a8e5cdf0c43b69301a70a985a2ca8"
      }
     },
     "91cec237e2a348749be14cd62c40f1a6": {
      "model_module": "@jupyter-widgets/controls",
      "model_module_version": "1.5.0",
      "model_name": "SliderStyleModel",
      "state": {
       "description_width": ""
      }
     },
     "91d8e532638944309ded3e54f41ad1db": {
      "model_module": "@jupyter-widgets/controls",
      "model_module_version": "1.5.0",
      "model_name": "TextModel",
      "state": {
       "layout": "IPY_MODEL_63118efb1b5848bf8d0860fd65d6e210",
       "style": "IPY_MODEL_1c2a8e2939c0498484d9845e17c61a23",
       "value": "None"
      }
     },
     "921ea8f6ecc94442a51a76fa90639c8e": {
      "model_module": "jupyter-matplotlib",
      "model_module_version": "^0.7.2",
      "model_name": "MPLCanvasModel",
      "state": {
       "_cursor": "default",
       "_figure_label": "Figure 7",
       "_height": 500,
       "_image_mode": "diff",
       "_message": "zoom rect",
       "_rubberband_y": 500,
       "_width": 1000,
       "layout": "IPY_MODEL_c5bed30fb0c64a6d96d22babc4d2c60c",
       "toolbar": "IPY_MODEL_50ad0de35d8f4412a29a1186cf10ec53",
       "toolbar_position": "left"
      }
     },
     "93f8b360ed8b45a2a18b7e7f12fe8cbd": {
      "model_module": "@jupyter-widgets/base",
      "model_module_version": "1.2.0",
      "model_name": "LayoutModel",
      "state": {
       "height": "10.16cm",
       "width": "80px"
      }
     },
     "94bdc8043e9a4bdfa3337cd8d869e8ea": {
      "model_module": "@jupyter-widgets/base",
      "model_module_version": "1.2.0",
      "model_name": "LayoutModel",
      "state": {
       "grid_area": "dircontent",
       "width": "auto"
      }
     },
     "955390d3d9c546acaff5a8f36c531e35": {
      "model_module": "@jupyter-widgets/base",
      "model_module_version": "1.2.0",
      "model_name": "LayoutModel",
      "state": {}
     },
     "95d6c20674844c00a01105d3c7ebfab7": {
      "model_module": "@jupyter-widgets/controls",
      "model_module_version": "1.5.0",
      "model_name": "TextModel",
      "state": {
       "layout": "IPY_MODEL_f6533e8c04ae46fa9a6099f6006324b0",
       "style": "IPY_MODEL_0874d82e408f49da80172dd4ddacfc77",
       "value": "None"
      }
     },
     "96bb51f9800e4ca8867c2e56639c1d73": {
      "model_module": "@jupyter-widgets/controls",
      "model_module_version": "1.5.0",
      "model_name": "SliderStyleModel",
      "state": {
       "description_width": ""
      }
     },
     "977124a4f0d042f7ba367f40454ec89b": {
      "model_module": "@jupyter-widgets/base",
      "model_module_version": "1.2.0",
      "model_name": "LayoutModel",
      "state": {}
     },
     "983e405fc5924eaf9ae23984274423b7": {
      "model_module": "@jupyter-widgets/base",
      "model_module_version": "1.2.0",
      "model_name": "LayoutModel",
      "state": {}
     },
     "983e71c9738940b58f0204dd841b0fe9": {
      "model_module": "@jupyter-widgets/controls",
      "model_module_version": "1.5.0",
      "model_name": "VBoxModel",
      "state": {
       "children": [
        "IPY_MODEL_3f57e226c06d41029b45cd966016fe0d",
        "IPY_MODEL_e42f702cfe814aeb81dbb42274890537"
       ],
       "layout": "IPY_MODEL_0c441325b0c5469a89da4f4f34b37920"
      }
     },
     "98c9751a182f46fabaa32d5d33baed31": {
      "model_module": "@jupyter-widgets/controls",
      "model_module_version": "1.5.0",
      "model_name": "DescriptionStyleModel",
      "state": {
       "description_width": ""
      }
     },
     "99ecb8cba7a0441aa7b5af63a6234c85": {
      "model_module": "@jupyter-widgets/controls",
      "model_module_version": "1.5.0",
      "model_name": "DescriptionStyleModel",
      "state": {
       "description_width": ""
      }
     },
     "9a78167770ae4a2db1bd61604c05ac6e": {
      "model_module": "@jupyter-widgets/controls",
      "model_module_version": "1.5.0",
      "model_name": "FloatTextModel",
      "state": {
       "layout": "IPY_MODEL_a1dfe37fa71d4ba5a9672f278e456c80",
       "step": null,
       "style": "IPY_MODEL_a62b2100eee44094a71bca97031f35f5"
      }
     },
     "9aa60213a02d45f0abc3bff501c242f8": {
      "model_module": "@jupyter-widgets/controls",
      "model_module_version": "1.5.0",
      "model_name": "ButtonStyleModel",
      "state": {}
     },
     "9accd7e782874349a946a168e561cf33": {
      "model_module": "@jupyter-widgets/base",
      "model_module_version": "1.2.0",
      "model_name": "LayoutModel",
      "state": {}
     },
     "9b2c47c928104abaac69ffe1afe2272b": {
      "model_module": "@jupyter-widgets/controls",
      "model_module_version": "1.5.0",
      "model_name": "SliderStyleModel",
      "state": {
       "description_width": ""
      }
     },
     "9b965bb80cbb43fcaa08d573fc2c1086": {
      "model_module": "jupyter-matplotlib",
      "model_module_version": "^0.7.2",
      "model_name": "MPLCanvasModel",
      "state": {
       "_figure_label": "Figure 1",
       "_height": 480,
       "_image_mode": "diff",
       "_message": "x=0.968385     y=25697.7     ",
       "_width": 640,
       "layout": "IPY_MODEL_53f443e1b3774010be2d5648c816a2f8",
       "toolbar": "IPY_MODEL_be89fcbd61ab428a912dbe33fabc3ced",
       "toolbar_position": "left"
      }
     },
     "9ced57391f5d42d08264b35845ff7fe5": {
      "model_module": "@jupyter-widgets/base",
      "model_module_version": "1.2.0",
      "model_name": "LayoutModel",
      "state": {
       "grid_area": "filename",
       "width": "auto"
      }
     },
     "9d384ab2f333416883bbcf3e8debab85": {
      "model_module": "@jupyter-widgets/base",
      "model_module_version": "1.2.0",
      "model_name": "LayoutModel",
      "state": {
       "width": "70px"
      }
     },
     "9da015e1f2c044a48bc8982e17bfed41": {
      "model_module": "@jupyter-widgets/controls",
      "model_module_version": "1.5.0",
      "model_name": "IntTextModel",
      "state": {
       "description": "Entry",
       "layout": "IPY_MODEL_c20384acd1354015b9f231b52418522a",
       "step": 1,
       "style": "IPY_MODEL_1b9cee1849b74fbebfa390d0134a23a0",
       "value": 28
      }
     },
     "9dc741bd41314bcfbd4f09efcc79034c": {
      "model_module": "@jupyter-widgets/base",
      "model_module_version": "1.2.0",
      "model_name": "LayoutModel",
      "state": {
       "width": "80px"
      }
     },
     "9df933caf22942aca7e2f6bb3e5c6b6e": {
      "model_module": "@jupyter-widgets/controls",
      "model_module_version": "1.5.0",
      "model_name": "DescriptionStyleModel",
      "state": {
       "description_width": ""
      }
     },
     "9e6f35a6f1094a87bc1c908e88eb9177": {
      "model_module": "@jupyter-widgets/controls",
      "model_module_version": "1.5.0",
      "model_name": "HTMLModel",
      "state": {
       "layout": "IPY_MODEL_385ef4626b2c42e9a393f21aef47b6ed",
       "style": "IPY_MODEL_2c13d392a32a458794203e270b9e34ed",
       "value": "&nbsp;"
      }
     },
     "9ec4324c141044dd989f8b1d2e1beac0": {
      "model_module": "@jupyter-widgets/base",
      "model_module_version": "1.2.0",
      "model_name": "LayoutModel",
      "state": {}
     },
     "9f164acf521948b2b9229f3ed1b4cdad": {
      "model_module": "@jupyter-widgets/controls",
      "model_module_version": "1.5.0",
      "model_name": "DescriptionStyleModel",
      "state": {
       "description_width": ""
      }
     },
     "9fd56529c6f34ab491458405f7357928": {
      "model_module": "@jupyter-widgets/base",
      "model_module_version": "1.2.0",
      "model_name": "LayoutModel",
      "state": {
       "width": "80px"
      }
     },
     "a0857ad006e84dc8a8bc549eb63f2978": {
      "model_module": "@jupyter-widgets/base",
      "model_module_version": "1.2.0",
      "model_name": "LayoutModel",
      "state": {}
     },
     "a0a5110f589a4b2583c33df547fee997": {
      "model_module": "@jupyter-widgets/controls",
      "model_module_version": "1.5.0",
      "model_name": "VBoxModel",
      "state": {
       "children": [
        "IPY_MODEL_8e0708b497f74ad895ddc841787e8472",
        "IPY_MODEL_abe9d41e2ab6471ea4d9d1397130fae6",
        "IPY_MODEL_d7c311eec4de483189842e51ad622809",
        "IPY_MODEL_4bc88614fb43446aa5471cbe27f715a7"
       ],
       "layout": "IPY_MODEL_f0343ccdbeca43a980b1da356c14bb0c"
      }
     },
     "a11b5777c45c408f8d61f1ec3c5d6390": {
      "model_module": "@jupyter-widgets/base",
      "model_module_version": "1.2.0",
      "model_name": "LayoutModel",
      "state": {}
     },
     "a13b55abd59443af9740be61561087d8": {
      "model_module": "@jupyter-widgets/base",
      "model_module_version": "1.2.0",
      "model_name": "LayoutModel",
      "state": {
       "width": "70px"
      }
     },
     "a1bf2000ce1741f2bf11ae39046a6380": {
      "model_module": "@jupyter-widgets/controls",
      "model_module_version": "1.5.0",
      "model_name": "TextModel",
      "state": {
       "layout": "IPY_MODEL_3638a154558446dd9f97d58dc923018f",
       "style": "IPY_MODEL_99ecb8cba7a0441aa7b5af63a6234c85",
       "value": "None"
      }
     },
     "a1dfe37fa71d4ba5a9672f278e456c80": {
      "model_module": "@jupyter-widgets/base",
      "model_module_version": "1.2.0",
      "model_name": "LayoutModel",
      "state": {
       "width": "70px"
      }
     },
     "a21f7d18335d49f59c983645d850c1ec": {
      "model_module": "@jupyter-widgets/base",
      "model_module_version": "1.2.0",
      "model_name": "LayoutModel",
      "state": {
       "width": "auto"
      }
     },
     "a278abf75d7b4138a96903799c0e3214": {
      "model_module": "@jupyter-widgets/base",
      "model_module_version": "1.2.0",
      "model_name": "LayoutModel",
      "state": {
       "grid_area": "pathlist",
       "width": "auto"
      }
     },
     "a2da8d71197f4a27b2f5a82ce7e2c5a1": {
      "model_module": "@jupyter-widgets/controls",
      "model_module_version": "1.5.0",
      "model_name": "DescriptionStyleModel",
      "state": {
       "description_width": ""
      }
     },
     "a2e31c34eabb454ca769813382decf65": {
      "model_module": "@jupyter-widgets/controls",
      "model_module_version": "1.5.0",
      "model_name": "VBoxModel",
      "state": {
       "children": [
        "IPY_MODEL_ec23e43c23294b448734fdac6cb0971e",
        "IPY_MODEL_bf1c0ea678444cceae298da19f0c79bc"
       ],
       "layout": "IPY_MODEL_d230168c012941aea0517924455d3df9"
      }
     },
     "a37083c33c5e4b9b9de86cdf5112e381": {
      "model_module": "@jupyter-widgets/controls",
      "model_module_version": "1.5.0",
      "model_name": "ButtonModel",
      "state": {
       "button_style": "success",
       "description": "Reset",
       "layout": "IPY_MODEL_6e884f90398944ce9e49ba1ab490ae13",
       "style": "IPY_MODEL_bb6c2a7aa3f849838eaea8ec8823c12d",
       "tooltip": "Reset to full spectrum"
      }
     },
     "a3d53f2e2bd743daacfefa6f53612fd2": {
      "model_module": "@jupyter-widgets/controls",
      "model_module_version": "1.5.0",
      "model_name": "HBoxModel",
      "state": {
       "children": [
        "IPY_MODEL_74c28c98fe584f36b0de66f1cd86adba",
        "IPY_MODEL_0cc7b968bd3e4fe4920ffafdaee95752",
        "IPY_MODEL_7d52036388cd4b489a9d7b57f1bc8bcb"
       ],
       "layout": "IPY_MODEL_815c2377680842ec8e7cfc30bb54f486"
      }
     },
     "a41a46a36df848b780a49dd818e1ce28": {
      "model_module": "@jupyter-widgets/controls",
      "model_module_version": "1.5.0",
      "model_name": "FloatSliderModel",
      "state": {
       "layout": "IPY_MODEL_07af52ce85bb4825b891292050421b52",
       "max": 1,
       "step": 0.01,
       "style": "IPY_MODEL_c0a5b3fca1224f6caed8ef2adeeafa01",
       "value": 0.3
      }
     },
     "a4bfa1b108d54a72bee3b35a664077e6": {
      "model_module": "@jupyter-widgets/base",
      "model_module_version": "1.2.0",
      "model_name": "LayoutModel",
      "state": {
       "width": "10%"
      }
     },
     "a51c5561bfb046399685252bec764de7": {
      "model_module": "@jupyter-widgets/controls",
      "model_module_version": "1.5.0",
      "model_name": "LabelModel",
      "state": {
       "layout": "IPY_MODEL_64284de98b9e420caece01ae8421731e",
       "style": "IPY_MODEL_13bee2a5efb9416e99c7640629a42d1d",
       "value": "threshold - % largest signal"
      }
     },
     "a5e0595ba5934f1d8200a64def6c29ff": {
      "model_module": "@jupyter-widgets/base",
      "model_module_version": "1.2.0",
      "model_name": "LayoutModel",
      "state": {}
     },
     "a62b2100eee44094a71bca97031f35f5": {
      "model_module": "@jupyter-widgets/controls",
      "model_module_version": "1.5.0",
      "model_name": "DescriptionStyleModel",
      "state": {
       "description_width": ""
      }
     },
     "a6749a1d93924f4f8d1c9df91a2edb70": {
      "model_module": "@jupyter-widgets/controls",
      "model_module_version": "1.5.0",
      "model_name": "HBoxModel",
      "state": {
       "children": [
        "IPY_MODEL_983e71c9738940b58f0204dd841b0fe9",
        "IPY_MODEL_89a0077d64f345158688219e00f3c9c9",
        "IPY_MODEL_d86f5b0e90564de0b55874b3e2c0ca1f"
       ],
       "layout": "IPY_MODEL_de2a2ae09165461bb4f6f2ce16c74f5f"
      }
     },
     "a7838ba1abe7438b91bce89489fa5d56": {
      "model_module": "@jupyter-widgets/output",
      "model_module_version": "1.0.0",
      "model_name": "OutputModel",
      "state": {
       "layout": "IPY_MODEL_6391ed63e88e461d9ab699680a7fc16d",
       "outputs": [
        {
         "data": {
          "text/html": "<table border=\"1\" class=\"dataframe\">\n  <thead>\n    <tr style=\"text-align: right;\">\n      <th></th>\n      <th>Label</th>\n      <th>Position</th>\n      <th>Intensity</th>\n      <th>Width</th>\n    </tr>\n    <tr>\n      <th>Id</th>\n      <th></th>\n      <th></th>\n      <th></th>\n      <th></th>\n    </tr>\n  </thead>\n  <tbody>\n    <tr>\n      <th>0</th>\n      <td>5.3484</td>\n      <td>5.348360</td>\n      <td>4.348596e+04</td>\n      <td>4.606094</td>\n    </tr>\n    <tr>\n      <th>1</th>\n      <td>5.3417</td>\n      <td>5.341734</td>\n      <td>7.184966e+04</td>\n      <td>3.681060</td>\n    </tr>\n    <tr>\n      <th>2</th>\n      <td>5.3350</td>\n      <td>5.334997</td>\n      <td>4.189486e+04</td>\n      <td>5.340791</td>\n    </tr>\n    <tr>\n      <th>3</th>\n      <td>5.3177</td>\n      <td>5.317748</td>\n      <td>4.330909e+04</td>\n      <td>10.476216</td>\n    </tr>\n    <tr>\n      <th>4</th>\n      <td>5.3131</td>\n      <td>5.313059</td>\n      <td>4.600839e+04</td>\n      <td>8.606673</td>\n    </tr>\n    <tr>\n      <th>5</th>\n      <td>5.3096</td>\n      <td>5.309587</td>\n      <td>4.310497e+04</td>\n      <td>26.336539</td>\n    </tr>\n    <tr>\n      <th>6</th>\n      <td>4.8816</td>\n      <td>4.881613</td>\n      <td>1.955067e+07</td>\n      <td>5.548722</td>\n    </tr>\n    <tr>\n      <th>7</th>\n      <td>4.7664</td>\n      <td>4.766436</td>\n      <td>1.324085e+05</td>\n      <td>3.768584</td>\n    </tr>\n    <tr>\n      <th>8</th>\n      <td>4.7611</td>\n      <td>4.761119</td>\n      <td>1.250912e+05</td>\n      <td>3.683045</td>\n    </tr>\n    <tr>\n      <th>9</th>\n      <td>4.5023</td>\n      <td>4.502270</td>\n      <td>5.247387e+04</td>\n      <td>4.996311</td>\n    </tr>\n    <tr>\n      <th>10</th>\n      <td>4.4889</td>\n      <td>4.488909</td>\n      <td>4.509191e+04</td>\n      <td>5.877753</td>\n    </tr>\n    <tr>\n      <th>11</th>\n      <td>4.4851</td>\n      <td>4.485082</td>\n      <td>5.876138e+04</td>\n      <td>5.066126</td>\n    </tr>\n    <tr>\n      <th>12</th>\n      <td>4.2025</td>\n      <td>4.202507</td>\n      <td>7.245457e+04</td>\n      <td>5.607799</td>\n    </tr>\n    <tr>\n      <th>13</th>\n      <td>4.1924</td>\n      <td>4.192449</td>\n      <td>7.816612e+04</td>\n      <td>4.575915</td>\n    </tr>\n    <tr>\n      <th>14</th>\n      <td>4.1850</td>\n      <td>4.185033</td>\n      <td>6.809884e+04</td>\n      <td>5.626519</td>\n    </tr>\n    <tr>\n      <th>15</th>\n      <td>4.1752</td>\n      <td>4.175162</td>\n      <td>6.741748e+04</td>\n      <td>4.845042</td>\n    </tr>\n    <tr>\n      <th>16</th>\n      <td>4.1071</td>\n      <td>4.107107</td>\n      <td>7.125682e+04</td>\n      <td>3.674085</td>\n    </tr>\n    <tr>\n      <th>17</th>\n      <td>4.0996</td>\n      <td>4.099596</td>\n      <td>7.938518e+04</td>\n      <td>3.493545</td>\n    </tr>\n    <tr>\n      <th>18</th>\n      <td>4.0917</td>\n      <td>4.091671</td>\n      <td>9.706022e+04</td>\n      <td>3.929852</td>\n    </tr>\n    <tr>\n      <th>19</th>\n      <td>4.0842</td>\n      <td>4.084230</td>\n      <td>1.152996e+05</td>\n      <td>3.674478</td>\n    </tr>\n    <tr>\n      <th>20</th>\n      <td>4.0705</td>\n      <td>4.070521</td>\n      <td>8.042869e+04</td>\n      <td>5.780534</td>\n    </tr>\n    <tr>\n      <th>21</th>\n      <td>4.0685</td>\n      <td>4.068491</td>\n      <td>7.661194e+04</td>\n      <td>10.233039</td>\n    </tr>\n    <tr>\n      <th>22</th>\n      <td>4.0574</td>\n      <td>4.057413</td>\n      <td>5.759074e+04</td>\n      <td>4.550022</td>\n    </tr>\n    <tr>\n      <th>23</th>\n      <td>4.0544</td>\n      <td>4.054421</td>\n      <td>4.921771e+04</td>\n      <td>4.995492</td>\n    </tr>\n    <tr>\n      <th>24</th>\n      <td>4.0035</td>\n      <td>4.003505</td>\n      <td>4.182722e+04</td>\n      <td>7.781900</td>\n    </tr>\n    <tr>\n      <th>25</th>\n      <td>3.9990</td>\n      <td>3.999030</td>\n      <td>4.751163e+04</td>\n      <td>7.326429</td>\n    </tr>\n    <tr>\n      <th>26</th>\n      <td>3.8910</td>\n      <td>3.891021</td>\n      <td>4.351407e+04</td>\n      <td>7.074809</td>\n    </tr>\n    <tr>\n      <th>27</th>\n      <td>3.8382</td>\n      <td>3.838174</td>\n      <td>4.285607e+04</td>\n      <td>6.030011</td>\n    </tr>\n    <tr>\n      <th>28</th>\n      <td>3.8359</td>\n      <td>3.835928</td>\n      <td>4.407221e+04</td>\n      <td>5.429410</td>\n    </tr>\n    <tr>\n      <th>29</th>\n      <td>3.8251</td>\n      <td>3.825104</td>\n      <td>5.257572e+04</td>\n      <td>5.613489</td>\n    </tr>\n    <tr>\n      <th>30</th>\n      <td>3.8235</td>\n      <td>3.823464</td>\n      <td>5.047226e+04</td>\n      <td>7.739030</td>\n    </tr>\n    <tr>\n      <th>31</th>\n      <td>3.8106</td>\n      <td>3.810645</td>\n      <td>1.185928e+06</td>\n      <td>2.976299</td>\n    </tr>\n    <tr>\n      <th>32</th>\n      <td>3.8051</td>\n      <td>3.805135</td>\n      <td>1.674566e+06</td>\n      <td>4.276308</td>\n    </tr>\n    <tr>\n      <th>33</th>\n      <td>3.8029</td>\n      <td>3.802942</td>\n      <td>1.533577e+06</td>\n      <td>5.648007</td>\n    </tr>\n    <tr>\n      <th>34</th>\n      <td>3.7946</td>\n      <td>3.794568</td>\n      <td>1.779503e+06</td>\n      <td>3.919826</td>\n    </tr>\n    <tr>\n      <th>35</th>\n      <td>3.7898</td>\n      <td>3.789775</td>\n      <td>2.304654e+06</td>\n      <td>3.851295</td>\n    </tr>\n    <tr>\n      <th>36</th>\n      <td>3.7784</td>\n      <td>3.778386</td>\n      <td>7.751989e+04</td>\n      <td>5.044158</td>\n    </tr>\n    <tr>\n      <th>37</th>\n      <td>3.7744</td>\n      <td>3.774437</td>\n      <td>6.176049e+04</td>\n      <td>9.414273</td>\n    </tr>\n    <tr>\n      <th>38</th>\n      <td>3.7694</td>\n      <td>3.769424</td>\n      <td>7.338621e+04</td>\n      <td>3.975763</td>\n    </tr>\n    <tr>\n      <th>39</th>\n      <td>3.7637</td>\n      <td>3.763715</td>\n      <td>4.146346e+04</td>\n      <td>6.595297</td>\n    </tr>\n    <tr>\n      <th>40</th>\n      <td>3.7561</td>\n      <td>3.756071</td>\n      <td>4.250501e+04</td>\n      <td>5.263114</td>\n    </tr>\n    <tr>\n      <th>41</th>\n      <td>3.7480</td>\n      <td>3.747999</td>\n      <td>4.698374e+04</td>\n      <td>12.278724</td>\n    </tr>\n    <tr>\n      <th>42</th>\n      <td>3.7459</td>\n      <td>3.745877</td>\n      <td>4.986263e+04</td>\n      <td>6.949779</td>\n    </tr>\n    <tr>\n      <th>43</th>\n      <td>3.7400</td>\n      <td>3.740026</td>\n      <td>5.382394e+04</td>\n      <td>10.694675</td>\n    </tr>\n    <tr>\n      <th>44</th>\n      <td>3.7340</td>\n      <td>3.733967</td>\n      <td>5.057539e+04</td>\n      <td>10.005332</td>\n    </tr>\n    <tr>\n      <th>45</th>\n      <td>3.7308</td>\n      <td>3.730783</td>\n      <td>5.385324e+04</td>\n      <td>14.453853</td>\n    </tr>\n    <tr>\n      <th>46</th>\n      <td>3.7260</td>\n      <td>3.726033</td>\n      <td>6.881352e+04</td>\n      <td>19.408770</td>\n    </tr>\n    <tr>\n      <th>47</th>\n      <td>3.7161</td>\n      <td>3.716062</td>\n      <td>5.555715e+05</td>\n      <td>3.547344</td>\n    </tr>\n    <tr>\n      <th>48</th>\n      <td>3.7104</td>\n      <td>3.710377</td>\n      <td>5.814861e+05</td>\n      <td>6.958847</td>\n    </tr>\n    <tr>\n      <th>49</th>\n      <td>3.7079</td>\n      <td>3.707851</td>\n      <td>7.913386e+05</td>\n      <td>3.970163</td>\n    </tr>\n    <tr>\n      <th>50</th>\n      <td>3.7027</td>\n      <td>3.702714</td>\n      <td>7.600141e+05</td>\n      <td>4.794050</td>\n    </tr>\n    <tr>\n      <th>51</th>\n      <td>3.6998</td>\n      <td>3.699766</td>\n      <td>5.074084e+05</td>\n      <td>6.521486</td>\n    </tr>\n    <tr>\n      <th>52</th>\n      <td>3.6966</td>\n      <td>3.696634</td>\n      <td>6.053844e+05</td>\n      <td>3.988575</td>\n    </tr>\n    <tr>\n      <th>53</th>\n      <td>3.6912</td>\n      <td>3.691234</td>\n      <td>5.105433e+05</td>\n      <td>3.504669</td>\n    </tr>\n    <tr>\n      <th>54</th>\n      <td>3.6858</td>\n      <td>3.685772</td>\n      <td>7.675680e+04</td>\n      <td>5.885354</td>\n    </tr>\n    <tr>\n      <th>55</th>\n      <td>3.6797</td>\n      <td>3.679704</td>\n      <td>6.112833e+04</td>\n      <td>6.585968</td>\n    </tr>\n    <tr>\n      <th>56</th>\n      <td>3.6761</td>\n      <td>3.676087</td>\n      <td>4.648135e+04</td>\n      <td>8.843753</td>\n    </tr>\n    <tr>\n      <th>57</th>\n      <td>3.6692</td>\n      <td>3.669223</td>\n      <td>7.568534e+04</td>\n      <td>6.289796</td>\n    </tr>\n    <tr>\n      <th>58</th>\n      <td>3.6571</td>\n      <td>3.657149</td>\n      <td>1.433348e+06</td>\n      <td>3.000622</td>\n    </tr>\n    <tr>\n      <th>59</th>\n      <td>3.6488</td>\n      <td>3.648842</td>\n      <td>1.120141e+06</td>\n      <td>3.149115</td>\n    </tr>\n    <tr>\n      <th>60</th>\n      <td>3.6412</td>\n      <td>3.641152</td>\n      <td>1.173541e+06</td>\n      <td>3.026709</td>\n    </tr>\n    <tr>\n      <th>61</th>\n      <td>3.6329</td>\n      <td>3.632874</td>\n      <td>9.438731e+05</td>\n      <td>3.065920</td>\n    </tr>\n    <tr>\n      <th>62</th>\n      <td>3.6176</td>\n      <td>3.617601</td>\n      <td>8.321931e+04</td>\n      <td>3.665813</td>\n    </tr>\n    <tr>\n      <th>63</th>\n      <td>3.5840</td>\n      <td>3.584028</td>\n      <td>8.864343e+04</td>\n      <td>3.694766</td>\n    </tr>\n    <tr>\n      <th>64</th>\n      <td>3.5752</td>\n      <td>3.575199</td>\n      <td>8.361691e+04</td>\n      <td>4.042354</td>\n    </tr>\n    <tr>\n      <th>65</th>\n      <td>3.5688</td>\n      <td>3.568786</td>\n      <td>7.939370e+04</td>\n      <td>3.650313</td>\n    </tr>\n    <tr>\n      <th>66</th>\n      <td>3.5598</td>\n      <td>3.559790</td>\n      <td>7.108112e+04</td>\n      <td>3.851444</td>\n    </tr>\n    <tr>\n      <th>67</th>\n      <td>3.4478</td>\n      <td>3.447784</td>\n      <td>4.216393e+04</td>\n      <td>6.530202</td>\n    </tr>\n    <tr>\n      <th>68</th>\n      <td>3.4426</td>\n      <td>3.442608</td>\n      <td>4.510044e+04</td>\n      <td>4.113421</td>\n    </tr>\n    <tr>\n      <th>69</th>\n      <td>3.4176</td>\n      <td>3.417636</td>\n      <td>8.668028e+04</td>\n      <td>3.361415</td>\n    </tr>\n    <tr>\n      <th>70</th>\n      <td>3.4123</td>\n      <td>3.412338</td>\n      <td>9.081222e+04</td>\n      <td>3.587306</td>\n    </tr>\n    <tr>\n      <th>71</th>\n      <td>3.4037</td>\n      <td>3.403667</td>\n      <td>8.737366e+04</td>\n      <td>3.785466</td>\n    </tr>\n    <tr>\n      <th>72</th>\n      <td>3.3984</td>\n      <td>3.398406</td>\n      <td>7.615378e+04</td>\n      <td>3.191977</td>\n    </tr>\n    <tr>\n      <th>73</th>\n      <td>3.3698</td>\n      <td>3.369750</td>\n      <td>7.180156e+04</td>\n      <td>5.103056</td>\n    </tr>\n    <tr>\n      <th>74</th>\n      <td>3.3674</td>\n      <td>3.367380</td>\n      <td>7.220322e+04</td>\n      <td>5.274814</td>\n    </tr>\n    <tr>\n      <th>75</th>\n      <td>3.3490</td>\n      <td>3.349019</td>\n      <td>9.273022e+04</td>\n      <td>6.174294</td>\n    </tr>\n    <tr>\n      <th>76</th>\n      <td>3.3473</td>\n      <td>3.347348</td>\n      <td>9.465098e+04</td>\n      <td>6.646837</td>\n    </tr>\n    <tr>\n      <th>77</th>\n      <td>3.3269</td>\n      <td>3.326874</td>\n      <td>4.233787e+04</td>\n      <td>4.922259</td>\n    </tr>\n    <tr>\n      <th>78</th>\n      <td>3.3225</td>\n      <td>3.322526</td>\n      <td>6.319016e+04</td>\n      <td>4.965101</td>\n    </tr>\n    <tr>\n      <th>79</th>\n      <td>3.3100</td>\n      <td>3.309964</td>\n      <td>1.627937e+06</td>\n      <td>2.979492</td>\n    </tr>\n    <tr>\n      <th>80</th>\n      <td>3.3077</td>\n      <td>3.307749</td>\n      <td>2.870889e+06</td>\n      <td>2.832763</td>\n    </tr>\n    <tr>\n      <th>81</th>\n      <td>3.3055</td>\n      <td>3.305510</td>\n      <td>3.817222e+06</td>\n      <td>2.747098</td>\n    </tr>\n    <tr>\n      <th>82</th>\n      <td>3.3033</td>\n      <td>3.303288</td>\n      <td>2.745771e+06</td>\n      <td>2.924610</td>\n    </tr>\n    <tr>\n      <th>83</th>\n      <td>3.3011</td>\n      <td>3.301113</td>\n      <td>1.421097e+06</td>\n      <td>5.953597</td>\n    </tr>\n    <tr>\n      <th>84</th>\n      <td>3.1522</td>\n      <td>3.152211</td>\n      <td>6.245716e+04</td>\n      <td>5.481694</td>\n    </tr>\n    <tr>\n      <th>85</th>\n      <td>3.1090</td>\n      <td>3.109018</td>\n      <td>5.764684e+04</td>\n      <td>3.581131</td>\n    </tr>\n    <tr>\n      <th>86</th>\n      <td>3.0958</td>\n      <td>3.095787</td>\n      <td>8.519656e+04</td>\n      <td>6.116503</td>\n    </tr>\n    <tr>\n      <th>87</th>\n      <td>3.0822</td>\n      <td>3.082208</td>\n      <td>5.825673e+04</td>\n      <td>3.672690</td>\n    </tr>\n    <tr>\n      <th>88</th>\n      <td>2.9534</td>\n      <td>2.953417</td>\n      <td>6.017846e+04</td>\n      <td>3.892933</td>\n    </tr>\n    <tr>\n      <th>89</th>\n      <td>2.9403</td>\n      <td>2.940297</td>\n      <td>6.639245e+04</td>\n      <td>4.179462</td>\n    </tr>\n    <tr>\n      <th>90</th>\n      <td>2.9329</td>\n      <td>2.932888</td>\n      <td>7.543779e+04</td>\n      <td>4.508775</td>\n    </tr>\n    <tr>\n      <th>91</th>\n      <td>2.9273</td>\n      <td>2.927339</td>\n      <td>4.569922e+04</td>\n      <td>7.199359</td>\n    </tr>\n    <tr>\n      <th>92</th>\n      <td>2.9199</td>\n      <td>2.919894</td>\n      <td>6.577030e+04</td>\n      <td>4.143495</td>\n    </tr>\n    <tr>\n      <th>93</th>\n      <td>2.9151</td>\n      <td>2.915122</td>\n      <td>4.197673e+04</td>\n      <td>2.951786</td>\n    </tr>\n    <tr>\n      <th>94</th>\n      <td>2.8942</td>\n      <td>2.894172</td>\n      <td>1.327678e+05</td>\n      <td>2.154699</td>\n    </tr>\n    <tr>\n      <th>95</th>\n      <td>2.5201</td>\n      <td>2.520121</td>\n      <td>1.087617e+05</td>\n      <td>6.737846</td>\n    </tr>\n    <tr>\n      <th>96</th>\n      <td>2.3709</td>\n      <td>2.370922</td>\n      <td>4.655375e+04</td>\n      <td>5.452259</td>\n    </tr>\n    <tr>\n      <th>97</th>\n      <td>2.3654</td>\n      <td>2.365351</td>\n      <td>6.286932e+04</td>\n      <td>4.902760</td>\n    </tr>\n    <tr>\n      <th>98</th>\n      <td>2.3590</td>\n      <td>2.359048</td>\n      <td>8.808812e+04</td>\n      <td>4.933075</td>\n    </tr>\n    <tr>\n      <th>99</th>\n      <td>2.3543</td>\n      <td>2.354346</td>\n      <td>7.064850e+04</td>\n      <td>8.828053</td>\n    </tr>\n    <tr>\n      <th>100</th>\n      <td>2.3488</td>\n      <td>2.348783</td>\n      <td>1.572950e+05</td>\n      <td>5.477979</td>\n    </tr>\n    <tr>\n      <th>101</th>\n      <td>2.3394</td>\n      <td>2.339375</td>\n      <td>1.743196e+05</td>\n      <td>5.541165</td>\n    </tr>\n    <tr>\n      <th>102</th>\n      <td>2.3286</td>\n      <td>2.328623</td>\n      <td>1.651007e+05</td>\n      <td>6.197469</td>\n    </tr>\n    <tr>\n      <th>103</th>\n      <td>2.3172</td>\n      <td>2.317219</td>\n      <td>1.848574e+05</td>\n      <td>5.333368</td>\n    </tr>\n    <tr>\n      <th>104</th>\n      <td>2.3065</td>\n      <td>2.306495</td>\n      <td>1.027659e+05</td>\n      <td>5.606206</td>\n    </tr>\n    <tr>\n      <th>105</th>\n      <td>2.2540</td>\n      <td>2.254007</td>\n      <td>4.455738e+04</td>\n      <td>8.755534</td>\n    </tr>\n    <tr>\n      <th>106</th>\n      <td>2.0425</td>\n      <td>2.042462</td>\n      <td>5.790660e+04</td>\n      <td>9.032217</td>\n    </tr>\n    <tr>\n      <th>107</th>\n      <td>2.0340</td>\n      <td>2.034045</td>\n      <td>9.600114e+04</td>\n      <td>18.189875</td>\n    </tr>\n    <tr>\n      <th>108</th>\n      <td>2.0257</td>\n      <td>2.025694</td>\n      <td>8.660091e+04</td>\n      <td>10.928056</td>\n    </tr>\n    <tr>\n      <th>109</th>\n      <td>1.6380</td>\n      <td>1.638011</td>\n      <td>4.423255e+04</td>\n      <td>26.240118</td>\n    </tr>\n    <tr>\n      <th>110</th>\n      <td>1.6028</td>\n      <td>1.602822</td>\n      <td>2.055044e+05</td>\n      <td>13.519730</td>\n    </tr>\n    <tr>\n      <th>111</th>\n      <td>1.5988</td>\n      <td>1.598802</td>\n      <td>1.958751e+05</td>\n      <td>27.694234</td>\n    </tr>\n    <tr>\n      <th>112</th>\n      <td>1.5936</td>\n      <td>1.593601</td>\n      <td>2.022957e+05</td>\n      <td>18.527893</td>\n    </tr>\n    <tr>\n      <th>113</th>\n      <td>1.5839</td>\n      <td>1.583900</td>\n      <td>1.308446e+05</td>\n      <td>15.178744</td>\n    </tr>\n    <tr>\n      <th>114</th>\n      <td>1.4395</td>\n      <td>1.439520</td>\n      <td>5.839417e+04</td>\n      <td>7.267443</td>\n    </tr>\n    <tr>\n      <th>115</th>\n      <td>1.4339</td>\n      <td>1.433917</td>\n      <td>5.109109e+04</td>\n      <td>14.752646</td>\n    </tr>\n    <tr>\n      <th>116</th>\n      <td>1.4296</td>\n      <td>1.429563</td>\n      <td>6.270292e+04</td>\n      <td>9.127178</td>\n    </tr>\n    <tr>\n      <th>117</th>\n      <td>1.4245</td>\n      <td>1.424531</td>\n      <td>5.158117e+04</td>\n      <td>24.720003</td>\n    </tr>\n    <tr>\n      <th>118</th>\n      <td>1.4205</td>\n      <td>1.420476</td>\n      <td>4.947768e+04</td>\n      <td>11.227207</td>\n    </tr>\n    <tr>\n      <th>119</th>\n      <td>1.4131</td>\n      <td>1.413123</td>\n      <td>5.708449e+04</td>\n      <td>18.263653</td>\n    </tr>\n    <tr>\n      <th>120</th>\n      <td>1.4117</td>\n      <td>1.411722</td>\n      <td>5.787642e+04</td>\n      <td>11.891096</td>\n    </tr>\n    <tr>\n      <th>121</th>\n      <td>1.4007</td>\n      <td>1.400654</td>\n      <td>7.425809e+04</td>\n      <td>8.198565</td>\n    </tr>\n    <tr>\n      <th>122</th>\n      <td>1.3949</td>\n      <td>1.394950</td>\n      <td>7.829040e+04</td>\n      <td>13.790337</td>\n    </tr>\n    <tr>\n      <th>123</th>\n      <td>1.3852</td>\n      <td>1.385197</td>\n      <td>8.567701e+04</td>\n      <td>24.107053</td>\n    </tr>\n    <tr>\n      <th>124</th>\n      <td>1.3808</td>\n      <td>1.380760</td>\n      <td>9.729362e+04</td>\n      <td>10.960274</td>\n    </tr>\n    <tr>\n      <th>125</th>\n      <td>1.3795</td>\n      <td>1.379510</td>\n      <td>9.657861e+04</td>\n      <td>18.622865</td>\n    </tr>\n    <tr>\n      <th>126</th>\n      <td>1.3711</td>\n      <td>1.371074</td>\n      <td>1.197692e+05</td>\n      <td>7.809472</td>\n    </tr>\n    <tr>\n      <th>127</th>\n      <td>1.3342</td>\n      <td>1.334162</td>\n      <td>4.970532e+05</td>\n      <td>5.274852</td>\n    </tr>\n    <tr>\n      <th>128</th>\n      <td>1.3175</td>\n      <td>1.317500</td>\n      <td>7.829622e+05</td>\n      <td>19.484916</td>\n    </tr>\n    <tr>\n      <th>129</th>\n      <td>1.3094</td>\n      <td>1.309425</td>\n      <td>7.308020e+05</td>\n      <td>54.144949</td>\n    </tr>\n    <tr>\n      <th>130</th>\n      <td>1.3072</td>\n      <td>1.307152</td>\n      <td>7.264125e+05</td>\n      <td>23.600092</td>\n    </tr>\n    <tr>\n      <th>131</th>\n      <td>1.3035</td>\n      <td>1.303476</td>\n      <td>8.264444e+05</td>\n      <td>6.283409</td>\n    </tr>\n    <tr>\n      <th>132</th>\n      <td>1.2858</td>\n      <td>1.285756</td>\n      <td>3.434272e+06</td>\n      <td>8.677081</td>\n    </tr>\n    <tr>\n      <th>133</th>\n      <td>1.2720</td>\n      <td>1.272027</td>\n      <td>4.703014e+05</td>\n      <td>5.672197</td>\n    </tr>\n    <tr>\n      <th>134</th>\n      <td>1.2339</td>\n      <td>1.233850</td>\n      <td>5.700152e+04</td>\n      <td>4.124077</td>\n    </tr>\n    <tr>\n      <th>135</th>\n      <td>1.2291</td>\n      <td>1.229138</td>\n      <td>5.419344e+04</td>\n      <td>4.859426</td>\n    </tr>\n    <tr>\n      <th>136</th>\n      <td>1.2249</td>\n      <td>1.224916</td>\n      <td>5.442450e+04</td>\n      <td>4.260391</td>\n    </tr>\n    <tr>\n      <th>137</th>\n      <td>1.2161</td>\n      <td>1.216106</td>\n      <td>4.931620e+04</td>\n      <td>4.788837</td>\n    </tr>\n    <tr>\n      <th>138</th>\n      <td>0.9726</td>\n      <td>0.972627</td>\n      <td>5.264115e+04</td>\n      <td>4.691572</td>\n    </tr>\n    <tr>\n      <th>139</th>\n      <td>0.9064</td>\n      <td>0.906437</td>\n      <td>4.101932e+05</td>\n      <td>4.767596</td>\n    </tr>\n    <tr>\n      <th>140</th>\n      <td>0.8966</td>\n      <td>0.896603</td>\n      <td>7.082192e+05</td>\n      <td>3.970098</td>\n    </tr>\n    <tr>\n      <th>141</th>\n      <td>0.8863</td>\n      <td>0.886350</td>\n      <td>3.746612e+05</td>\n      <td>4.035561</td>\n    </tr>\n    <tr>\n      <th>142</th>\n      <td>0.8730</td>\n      <td>0.872974</td>\n      <td>6.900813e+04</td>\n      <td>10.312412</td>\n    </tr>\n    <tr>\n      <th>143</th>\n      <td>0.8677</td>\n      <td>0.867673</td>\n      <td>5.850057e+04</td>\n      <td>19.891202</td>\n    </tr>\n    <tr>\n      <th>144</th>\n      <td>0.8621</td>\n      <td>0.862149</td>\n      <td>7.057265e+04</td>\n      <td>7.253293</td>\n    </tr>\n    <tr>\n      <th>145</th>\n      <td>0.8527</td>\n      <td>0.852672</td>\n      <td>4.577133e+04</td>\n      <td>5.907911</td>\n    </tr>\n    <tr>\n      <th>146</th>\n      <td>0.0071</td>\n      <td>0.007143</td>\n      <td>4.376208e+04</td>\n      <td>1.412642</td>\n    </tr>\n    <tr>\n      <th>147</th>\n      <td>0.0056</td>\n      <td>0.005639</td>\n      <td>6.480552e+04</td>\n      <td>1.558008</td>\n    </tr>\n    <tr>\n      <th>148</th>\n      <td>0.0041</td>\n      <td>0.004081</td>\n      <td>1.258839e+05</td>\n      <td>1.965843</td>\n    </tr>\n    <tr>\n      <th>149</th>\n      <td>0.0027</td>\n      <td>0.002700</td>\n      <td>1.404108e+05</td>\n      <td>1.893431</td>\n    </tr>\n    <tr>\n      <th>150</th>\n      <td>-0.0007</td>\n      <td>-0.000719</td>\n      <td>1.965013e+06</td>\n      <td>1.940414</td>\n    </tr>\n    <tr>\n      <th>151</th>\n      <td>-0.0037</td>\n      <td>-0.003681</td>\n      <td>8.187281e+04</td>\n      <td>1.872310</td>\n    </tr>\n    <tr>\n      <th>152</th>\n      <td>-0.0055</td>\n      <td>-0.005467</td>\n      <td>6.706985e+04</td>\n      <td>1.317563</td>\n    </tr>\n  </tbody>\n</table>",
          "text/plain": "<IPython.core.display.HTML object>"
         },
         "metadata": {},
         "output_type": "display_data"
        }
       ]
      }
     },
     "a78fb299cdc740b186bddf01e523703c": {
      "model_module": "@jupyter-widgets/base",
      "model_module_version": "1.2.0",
      "model_name": "LayoutModel",
      "state": {}
     },
     "a84eebf777844f60bb775c5f6ee65f0c": {
      "model_module": "@jupyter-widgets/controls",
      "model_module_version": "1.5.0",
      "model_name": "HTMLModel",
      "state": {
       "layout": "IPY_MODEL_d62c090f057c494daeadb01cb4deccb4",
       "style": "IPY_MODEL_444cd60da12648178ed69db5bedfb682",
       "value": "&nbsp;"
      }
     },
     "a8bca7695350476eaa3f2343b6c2219a": {
      "model_module": "@jupyter-widgets/controls",
      "model_module_version": "1.5.0",
      "model_name": "HBoxModel",
      "state": {
       "children": [
        "IPY_MODEL_34e83b93d7574672a5796b9cd3372f26",
        "IPY_MODEL_86a65b8dd61d4f6a9c3a78b8057e32df"
       ],
       "layout": "IPY_MODEL_76dd7c93fe284c8182dc3fea0b1756d5"
      }
     },
     "a993019dc3d641a9acd25c3d946b91b9": {
      "model_module": "@jupyter-widgets/controls",
      "model_module_version": "1.5.0",
      "model_name": "HBoxModel",
      "state": {
       "children": [
        "IPY_MODEL_557cf3c2edc84b7dbb410d9efe414a1e",
        "IPY_MODEL_33cbe83344474f8fbd78f6aba61a30db"
       ],
       "layout": "IPY_MODEL_e154627dd2684ed3a0087f24345f4026"
      }
     },
     "a9c0cb1f520a4c6f9bda7ff0ec603995": {
      "model_module": "@jupyter-widgets/controls",
      "model_module_version": "1.5.0",
      "model_name": "SliderStyleModel",
      "state": {
       "description_width": ""
      }
     },
     "aa0b44aac0e440e2bc82a487218efec2": {
      "model_module": "@jupyter-widgets/base",
      "model_module_version": "1.2.0",
      "model_name": "LayoutModel",
      "state": {
       "width": "80px"
      }
     },
     "aa96f7bd735c47ee8483477ebf111517": {
      "model_module": "@jupyter-widgets/controls",
      "model_module_version": "1.5.0",
      "model_name": "CheckboxModel",
      "state": {
       "disabled": false,
       "layout": "IPY_MODEL_ce0ebce6a56241b7a70c76d815701574",
       "style": "IPY_MODEL_d005aac1c79c4a6da7625014a3769d7e",
       "value": true
      }
     },
     "abad509919ef40618b10657fc5181f79": {
      "model_module": "@jupyter-widgets/base",
      "model_module_version": "1.2.0",
      "model_name": "LayoutModel",
      "state": {}
     },
     "abbc213d69984a468861148c97bd0a93": {
      "model_module": "@jupyter-widgets/controls",
      "model_module_version": "1.5.0",
      "model_name": "DescriptionStyleModel",
      "state": {
       "description_width": ""
      }
     },
     "abe9d41e2ab6471ea4d9d1397130fae6": {
      "model_module": "@jupyter-widgets/controls",
      "model_module_version": "1.5.0",
      "model_name": "ButtonModel",
      "state": {
       "button_style": "success",
       "description": "Reset",
       "layout": "IPY_MODEL_58b6249fb5214aa1b133621980483b00",
       "style": "IPY_MODEL_c4d357d23b654e2a9d8bdb148a4b0b71",
       "tooltip": "Reset to full spectrum"
      }
     },
     "ac598ea43e124317b2436afebb50a175": {
      "model_module": "@jupyter-widgets/base",
      "model_module_version": "1.2.0",
      "model_name": "LayoutModel",
      "state": {}
     },
     "accf2236d43e48e48d056d2a718bf612": {
      "model_module": "@jupyter-widgets/controls",
      "model_module_version": "1.5.0",
      "model_name": "DescriptionStyleModel",
      "state": {
       "description_width": ""
      }
     },
     "ad54e011f73a4715a53c79a9d6bc95d2": {
      "model_module": "@jupyter-widgets/controls",
      "model_module_version": "1.5.0",
      "model_name": "DescriptionStyleModel",
      "state": {
       "description_width": ""
      }
     },
     "ad941abb775d48e1b516fa3ed258df9b": {
      "model_module": "@jupyter-widgets/controls",
      "model_module_version": "1.5.0",
      "model_name": "ButtonStyleModel",
      "state": {}
     },
     "adb9caaa5fc3433f9be3f146b6de5757": {
      "model_module": "@jupyter-widgets/controls",
      "model_module_version": "1.5.0",
      "model_name": "GridBoxModel",
      "state": {
       "children": [
        "IPY_MODEL_15c4ca3a56d44e168f2e4fa287464dc3",
        "IPY_MODEL_15298079d7b842bf98a1f86e388d10bc",
        "IPY_MODEL_74a6b026cf2b402ab2615b3821e83edf"
       ],
       "layout": "IPY_MODEL_70fc0371b5934b57b71b0d07182da0e9"
      }
     },
     "adfa7447275340869cb829701a256cd7": {
      "model_module": "@jupyter-widgets/base",
      "model_module_version": "1.2.0",
      "model_name": "LayoutModel",
      "state": {
       "grid_area": "filename",
       "width": "auto"
      }
     },
     "ae304f127c8146a3bf534ce68e16f161": {
      "model_module": "@jupyter-widgets/controls",
      "model_module_version": "1.5.0",
      "model_name": "DropdownModel",
      "state": {
       "_options_labels": [
        "black",
        "red",
        "blue",
        "green",
        "orange",
        "blueviolet",
        "crimson",
        "turquoise",
        "indigo",
        "magenta",
        "gold",
        "pink",
        "purple",
        "salmon",
        "darkblue",
        "sienna"
       ],
       "index": 2,
       "layout": "IPY_MODEL_aa0b44aac0e440e2bc82a487218efec2",
       "style": "IPY_MODEL_db35fc78025f4f3c93275b0d13d1ef7f"
      }
     },
     "ae6fc09c2df1429cb5e8abcc24d91290": {
      "model_module": "@jupyter-widgets/base",
      "model_module_version": "1.2.0",
      "model_name": "LayoutModel",
      "state": {
       "width": "70px"
      }
     },
     "aee850ebb11741d6b5415abdaadc3562": {
      "model_module": "@jupyter-widgets/controls",
      "model_module_version": "1.5.0",
      "model_name": "VBoxModel",
      "state": {
       "children": [
        "IPY_MODEL_a84eebf777844f60bb775c5f6ee65f0c",
        "IPY_MODEL_1659b6218b52472aaee8231000855a3f",
        "IPY_MODEL_27267d9fa19343a8832c76ba935cc86d"
       ],
       "layout": "IPY_MODEL_bd14b2ec375c4ab28bf44911cd96dc9a"
      }
     },
     "af6bc15d8b0d4814b2fb6740e526872d": {
      "model_module": "@jupyter-widgets/base",
      "model_module_version": "1.2.0",
      "model_name": "LayoutModel",
      "state": {
       "grid_area": "pathlist",
       "width": "auto"
      }
     },
     "af6e0466f6dc4f1097828c1e0b732829": {
      "model_module": "@jupyter-widgets/controls",
      "model_module_version": "1.5.0",
      "model_name": "DescriptionStyleModel",
      "state": {
       "description_width": ""
      }
     },
     "af71e66edc04468cb606162be879ecf1": {
      "model_module": "@jupyter-widgets/base",
      "model_module_version": "1.2.0",
      "model_name": "LayoutModel",
      "state": {}
     },
     "afeb38015a0e49f2a52e071dcb65d550": {
      "model_module": "@jupyter-widgets/base",
      "model_module_version": "1.2.0",
      "model_name": "LayoutModel",
      "state": {
       "width": "100%"
      }
     },
     "b07aa323eeb94b8ca9de28021916effb": {
      "model_module": "@jupyter-widgets/controls",
      "model_module_version": "1.5.0",
      "model_name": "DropdownModel",
      "state": {
       "_options_labels": [
        "/DATA/SM_ARTE_v3/ARTEref_161123/1",
        "/DATA/SM_ARTE_v3/ARTEref_161123",
        "/DATA/SM_ARTE_v3",
        "/DATA",
        "/"
       ],
       "index": 0,
       "layout": "IPY_MODEL_a278abf75d7b4138a96903799c0e3214",
       "style": "IPY_MODEL_1b8894747a4846e7bf3f5b5b780c62a4"
      }
     },
     "b0e5a24c36864f7083594357acf1aa99": {
      "model_module": "@jupyter-widgets/controls",
      "model_module_version": "1.5.0",
      "model_name": "ButtonStyleModel",
      "state": {}
     },
     "b0eb61b9e22a4d3fb9535726bf4c1d81": {
      "model_module": "@jupyter-widgets/base",
      "model_module_version": "1.2.0",
      "model_name": "LayoutModel",
      "state": {
       "width": "30%"
      }
     },
     "b1e2bc35d3b44ab6a71dba08994a3099": {
      "model_module": "@jupyter-widgets/controls",
      "model_module_version": "1.5.0",
      "model_name": "ButtonStyleModel",
      "state": {}
     },
     "b2677b80376949349bf8f8c88497a05d": {
      "model_module": "@jupyter-widgets/base",
      "model_module_version": "1.2.0",
      "model_name": "LayoutModel",
      "state": {}
     },
     "b31262acc4ff4d83858cc921d8e31230": {
      "model_module": "@jupyter-widgets/controls",
      "model_module_version": "1.5.0",
      "model_name": "ButtonStyleModel",
      "state": {}
     },
     "b3229f0f360f4ab089d85d62a24d9268": {
      "model_module": "@jupyter-widgets/base",
      "model_module_version": "1.2.0",
      "model_name": "LayoutModel",
      "state": {}
     },
     "b40d16f3c196481990a4040360671451": {
      "model_module": "@jupyter-widgets/controls",
      "model_module_version": "1.5.0",
      "model_name": "DropdownModel",
      "state": {
       "_options_labels": [
        "black",
        "red",
        "blue",
        "green",
        "orange",
        "blueviolet",
        "crimson",
        "turquoise",
        "indigo",
        "magenta",
        "gold",
        "pink",
        "purple",
        "salmon",
        "darkblue",
        "sienna"
       ],
       "index": 7,
       "layout": "IPY_MODEL_086c03b8860048d690c102025d5a6ae8",
       "style": "IPY_MODEL_3388d8cb3429483f9f6700b5c2835904"
      }
     },
     "b4591255a9c24a63802577e11f2f4636": {
      "model_module": "@jupyter-widgets/base",
      "model_module_version": "1.2.0",
      "model_name": "LayoutModel",
      "state": {}
     },
     "b4ef66eb82e346569bba2005197e58f1": {
      "model_module": "@jupyter-widgets/base",
      "model_module_version": "1.2.0",
      "model_name": "LayoutModel",
      "state": {}
     },
     "b54210b2a0dd44dda02e4b60d51757a0": {
      "model_module": "@jupyter-widgets/controls",
      "model_module_version": "1.5.0",
      "model_name": "TextModel",
      "state": {
       "layout": "IPY_MODEL_adfa7447275340869cb829701a256cd7",
       "placeholder": "output filename",
       "style": "IPY_MODEL_da480a0070b6436fa2594ef85c897343"
      }
     },
     "b54836b0931a433698f7e5612848b2a7": {
      "model_module": "@jupyter-widgets/base",
      "model_module_version": "1.2.0",
      "model_name": "LayoutModel",
      "state": {}
     },
     "b5ece940c2154762ad987b2cfebc7770": {
      "model_module": "@jupyter-widgets/base",
      "model_module_version": "1.2.0",
      "model_name": "LayoutModel",
      "state": {}
     },
     "b5efbfbf26d547ffb79b8bb242e1f61f": {
      "model_module": "@jupyter-widgets/base",
      "model_module_version": "1.2.0",
      "model_name": "LayoutModel",
      "state": {}
     },
     "b61895bb30b84327a90c0c79715cae73": {
      "model_module": "@jupyter-widgets/controls",
      "model_module_version": "1.5.0",
      "model_name": "DescriptionStyleModel",
      "state": {
       "description_width": ""
      }
     },
     "b63f4c8749ed4838b3592dfd48868699": {
      "model_module": "@jupyter-widgets/controls",
      "model_module_version": "1.5.0",
      "model_name": "VBoxModel",
      "state": {
       "children": [
        "IPY_MODEL_52648a9ca40c4c0ead1cf0f3bba4107d",
        "IPY_MODEL_e1ccc9c9fe844388b4b65a956e9548a4"
       ],
       "layout": "IPY_MODEL_1eb1bdb7e68f424ebef07b2b5f63c05d"
      }
     },
     "b75ba06fb6d54861a59369aa7b569040": {
      "model_module": "@jupyter-widgets/base",
      "model_module_version": "1.2.0",
      "model_name": "LayoutModel",
      "state": {}
     },
     "b75f1c40dd574f08884fb194080bea1f": {
      "model_module": "@jupyter-widgets/base",
      "model_module_version": "1.2.0",
      "model_name": "LayoutModel",
      "state": {}
     },
     "b857d40a36e345b9a672d6ff64d4af55": {
      "model_module": "@jupyter-widgets/controls",
      "model_module_version": "1.5.0",
      "model_name": "HBoxModel",
      "state": {
       "children": [
        "IPY_MODEL_bd111c68aaec4be78f4d60e71a3ea16a",
        "IPY_MODEL_699b6e3394d24b5e8cd299981904cda1",
        "IPY_MODEL_dbf8d8fb037945e288e9660f26207be7"
       ],
       "layout": "IPY_MODEL_512d26d2e66c40aaaecf569b7bffe5a5"
      }
     },
     "b8b3e8ea05104c588cae8407e603783a": {
      "model_module": "@jupyter-widgets/controls",
      "model_module_version": "1.5.0",
      "model_name": "ButtonModel",
      "state": {
       "button_style": "warning",
       "description": "Rem",
       "layout": "IPY_MODEL_e308804a1a6040cda772b52c127a421d",
       "style": "IPY_MODEL_76cc28d6723844cd89ab839b4d91f05d"
      }
     },
     "b8b987a8e8de4975b3f68d756655f278": {
      "model_module": "@jupyter-widgets/base",
      "model_module_version": "1.2.0",
      "model_name": "LayoutModel",
      "state": {}
     },
     "ba040b14431541caa1f7732d3ae2054c": {
      "model_module": "@jupyter-widgets/base",
      "model_module_version": "1.2.0",
      "model_name": "LayoutModel",
      "state": {
       "grid_area": "dircontent",
       "width": "auto"
      }
     },
     "ba700805d58c42919a1f233256c03c7f": {
      "model_module": "@jupyter-widgets/controls",
      "model_module_version": "1.5.0",
      "model_name": "HTMLModel",
      "state": {
       "layout": "IPY_MODEL_e308804a1a6040cda772b52c127a421d",
       "style": "IPY_MODEL_98c9751a182f46fabaa32d5d33baed31",
       "value": "&nbsp;"
      }
     },
     "ba8898bdfcc04693a71de6fd18080148": {
      "model_module": "@jupyter-widgets/controls",
      "model_module_version": "1.5.0",
      "model_name": "VBoxModel",
      "state": {
       "children": [
        "IPY_MODEL_59fadfb25a844ff1a31d653e07e1332f",
        "IPY_MODEL_a37083c33c5e4b9b9de86cdf5112e381",
        "IPY_MODEL_cca613eaf3e3418685f2f46812408f86",
        "IPY_MODEL_036e9e1201cf428084301243a1bada53"
       ],
       "layout": "IPY_MODEL_73c9126568cc4dbabd20fc69432e366f"
      }
     },
     "bb178e13a098475f9467aeee54ee7bfc": {
      "model_module": "@jupyter-widgets/controls",
      "model_module_version": "1.5.0",
      "model_name": "HTMLModel",
      "state": {
       "layout": "IPY_MODEL_9accd7e782874349a946a168e561cf33",
       "style": "IPY_MODEL_60ab0803ec86431e8cd0145eeb0dfd14",
       "value": "<i>set by clicking on spectrum</i>"
      }
     },
     "bb6c2a7aa3f849838eaea8ec8823c12d": {
      "model_module": "@jupyter-widgets/controls",
      "model_module_version": "1.5.0",
      "model_name": "ButtonStyleModel",
      "state": {}
     },
     "bc27e3b22b3e42e684e609a9ce5db6b1": {
      "model_module": "@jupyter-widgets/base",
      "model_module_version": "1.2.0",
      "model_name": "LayoutModel",
      "state": {}
     },
     "bc36ff4035a0452e9c9bce1908f26be9": {
      "model_module": "@jupyter-widgets/base",
      "model_module_version": "1.2.0",
      "model_name": "LayoutModel",
      "state": {}
     },
     "bc9dcc0b168d408cac37c995d5b68a88": {
      "model_module": "@jupyter-widgets/controls",
      "model_module_version": "1.5.0",
      "model_name": "ButtonStyleModel",
      "state": {}
     },
     "bcbb3777b377405299fc7c70d1029bcb": {
      "model_module": "@jupyter-widgets/controls",
      "model_module_version": "1.5.0",
      "model_name": "DropdownModel",
      "state": {
       "_options_labels": [
        "up",
        "down",
        "off"
       ],
       "index": 2,
       "layout": "IPY_MODEL_7144950c03434de39be6deb7c73a3861",
       "style": "IPY_MODEL_6e14ea2fb0bb470db126ad773aaeb94f"
      }
     },
     "bd111c68aaec4be78f4d60e71a3ea16a": {
      "model_module": "@jupyter-widgets/controls",
      "model_module_version": "1.5.0",
      "model_name": "ButtonModel",
      "state": {
       "button_style": "success",
       "description": "Change",
       "layout": "IPY_MODEL_7d71afb0752740b2b0fa8d7b089a9826",
       "style": "IPY_MODEL_1900dcf9661c4fd78def1699c8bd9e97"
      }
     },
     "bd14b2ec375c4ab28bf44911cd96dc9a": {
      "model_module": "@jupyter-widgets/base",
      "model_module_version": "1.2.0",
      "model_name": "LayoutModel",
      "state": {}
     },
     "be89fcbd61ab428a912dbe33fabc3ced": {
      "model_module": "jupyter-matplotlib",
      "model_module_version": "^0.7.2",
      "model_name": "ToolbarModel",
      "state": {
       "layout": "IPY_MODEL_371b6d4b11b4427dac51450311faae4b",
       "toolitems": [
        [
         "Home",
         "Reset original view",
         "home",
         "home"
        ],
        [
         "Back",
         "Back to previous view",
         "arrow-left",
         "back"
        ],
        [
         "Forward",
         "Forward to next view",
         "arrow-right",
         "forward"
        ],
        [
         "Pan",
         "Pan axes with left mouse, zoom with right",
         "arrows",
         "pan"
        ],
        [
         "Zoom",
         "Zoom to rectangle",
         "square-o",
         "zoom"
        ],
        [
         "Download",
         "Download plot",
         "floppy-o",
         "save_figure"
        ]
       ]
      }
     },
     "bee2846a351b4ba4bf5a6efcb94a6635": {
      "model_module": "@jupyter-widgets/base",
      "model_module_version": "1.2.0",
      "model_name": "LayoutModel",
      "state": {}
     },
     "bf1c0ea678444cceae298da19f0c79bc": {
      "model_module": "@jupyter-widgets/controls",
      "model_module_version": "1.5.0",
      "model_name": "TabModel",
      "state": {
       "_titles": {
        "0": "Manual integration",
        "1": "Automatic",
        "2": "Integral Table & Calibration"
       },
       "children": [
        "IPY_MODEL_140df7fc72244e50ae2f1ca62ce801d8",
        "IPY_MODEL_df20714781a345b5a7cc10849db617b1",
        "IPY_MODEL_dfd91faa4906431982695b319a8c3d19"
       ],
       "layout": "IPY_MODEL_3f6c4c1500e84e2bad3628ac77d18681"
      }
     },
     "bf4b1b08549c4b5da5ec9fe078e9e447": {
      "model_module": "@jupyter-widgets/controls",
      "model_module_version": "1.5.0",
      "model_name": "DropdownModel",
      "state": {
       "_options_labels": [
        "up",
        "down",
        "off"
       ],
       "index": 2,
       "layout": "IPY_MODEL_777eb10335484350ac8fffb47fd05ac3",
       "style": "IPY_MODEL_1e3ee020ff9943d1b551c1cd60901b54"
      }
     },
     "bf5f5c98fe6f41a8a6e41874544181ac": {
      "model_module": "@jupyter-widgets/controls",
      "model_module_version": "1.5.0",
      "model_name": "SliderStyleModel",
      "state": {
       "description_width": ""
      }
     },
     "bf8b1047bf8b4a9cb13f36ee34eb3ff3": {
      "model_module": "@jupyter-widgets/base",
      "model_module_version": "1.2.0",
      "model_name": "LayoutModel",
      "state": {}
     },
     "c00d3f781b7641dab2e070f937edaab5": {
      "model_module": "@jupyter-widgets/base",
      "model_module_version": "1.2.0",
      "model_name": "LayoutModel",
      "state": {}
     },
     "c063e9ab524a4725a7fc25c774f13f31": {
      "model_module": "@jupyter-widgets/base",
      "model_module_version": "1.2.0",
      "model_name": "LayoutModel",
      "state": {}
     },
     "c0a5b3fca1224f6caed8ef2adeeafa01": {
      "model_module": "@jupyter-widgets/controls",
      "model_module_version": "1.5.0",
      "model_name": "SliderStyleModel",
      "state": {
       "description_width": ""
      }
     },
     "c10c1060cb28452a8728bdbf71c84f73": {
      "model_module": "@jupyter-widgets/base",
      "model_module_version": "1.2.0",
      "model_name": "LayoutModel",
      "state": {
       "width": "10%"
      }
     },
     "c129a8625c5144b5b645418e77e3e83d": {
      "model_module": "@jupyter-widgets/base",
      "model_module_version": "1.2.0",
      "model_name": "LayoutModel",
      "state": {}
     },
     "c1378385616444978461869aab8ae4cf": {
      "model_module": "@jupyter-widgets/controls",
      "model_module_version": "1.5.0",
      "model_name": "HTMLModel",
      "state": {
       "layout": "IPY_MODEL_3666b57e78cd40818d2232f92ce10e4f",
       "style": "IPY_MODEL_094a790c634a423ca69843959a745c81",
       "value": "<b>6</b>"
      }
     },
     "c1582ef155774f0e95d1cd0d511ad3c0": {
      "model_module": "@jupyter-widgets/controls",
      "model_module_version": "1.5.0",
      "model_name": "FloatTextModel",
      "state": {
       "layout": "IPY_MODEL_cd27499091fc4e04aa0242cada7f4159",
       "step": null,
       "style": "IPY_MODEL_3f2deedbc8434d5b874d934aa15aa36c"
      }
     },
     "c1f3fb249db346329ac686cb1b923e32": {
      "model_module": "@jupyter-widgets/controls",
      "model_module_version": "1.5.0",
      "model_name": "DescriptionStyleModel",
      "state": {
       "description_width": ""
      }
     },
     "c20384acd1354015b9f231b52418522a": {
      "model_module": "@jupyter-widgets/base",
      "model_module_version": "1.2.0",
      "model_name": "LayoutModel",
      "state": {
       "width": "15%"
      }
     },
     "c2e0d83eaddc454eaa7da8ffa5abef67": {
      "model_module": "@jupyter-widgets/base",
      "model_module_version": "1.2.0",
      "model_name": "LayoutModel",
      "state": {
       "width": "80px"
      }
     },
     "c3b91d8b5d30466d89258c1acc253cc2": {
      "model_module": "@jupyter-widgets/controls",
      "model_module_version": "1.5.0",
      "model_name": "FloatSliderModel",
      "state": {
       "description": "scale:",
       "layout": "IPY_MODEL_70b765a01c7144cfa187789bc49c95c5",
       "max": 200,
       "min": 1,
       "orientation": "vertical",
       "step": 0.1,
       "style": "IPY_MODEL_3ae2beb5431242c094bf06648c06addd",
       "value": 15.4
      }
     },
     "c4d357d23b654e2a9d8bdb148a4b0b71": {
      "model_module": "@jupyter-widgets/controls",
      "model_module_version": "1.5.0",
      "model_name": "ButtonStyleModel",
      "state": {}
     },
     "c5bc8cba8c5d40ec90288ecf9c9556ed": {
      "model_module": "jupyter-matplotlib",
      "model_module_version": "^0.7.2",
      "model_name": "MPLCanvasModel",
      "state": {
       "_figure_label": "Figure 6",
       "_height": 500,
       "_image_mode": "diff",
       "_width": 1000,
       "layout": "IPY_MODEL_f2a24a2351f042ac90a0f09247980dfc",
       "toolbar": "IPY_MODEL_f6c7a686a37f4179a08ea69a763c4e6e",
       "toolbar_position": "left"
      }
     },
     "c5bed30fb0c64a6d96d22babc4d2c60c": {
      "model_module": "@jupyter-widgets/base",
      "model_module_version": "1.2.0",
      "model_name": "LayoutModel",
      "state": {}
     },
     "c60a67c01fe948ea88a4c9005cbcfe01": {
      "model_module": "@jupyter-widgets/controls",
      "model_module_version": "1.5.0",
      "model_name": "ButtonModel",
      "state": {
       "button_style": "success",
       "description": "Done",
       "layout": "IPY_MODEL_4ccd2c50e75b4a45841d25478cb73bf6",
       "style": "IPY_MODEL_142cb6ba0f9347a0beffe819b60f42d3"
      }
     },
     "c6c7d9c3d7ef476fb1b5a72d3c24baad": {
      "model_module": "@jupyter-widgets/base",
      "model_module_version": "1.2.0",
      "model_name": "LayoutModel",
      "state": {}
     },
     "c7552dbff90a4e33b795a1387e5453f3": {
      "model_module": "@jupyter-widgets/controls",
      "model_module_version": "1.5.0",
      "model_name": "VBoxModel",
      "state": {
       "children": [
        "IPY_MODEL_cef61b017c8a43a6a7498bccb1f3be67",
        "IPY_MODEL_a6749a1d93924f4f8d1c9df91a2edb70",
        "IPY_MODEL_fde69c4f770a4a1495e8ecb5ea139fb3",
        "IPY_MODEL_1b93616b350a459197324d4d4c76a504",
        "IPY_MODEL_839f780f8cce43dfae17db3a6bb94333",
        "IPY_MODEL_5d8476b42f5e4f66af053f3b4d55f0f4",
        "IPY_MODEL_4a2d8e3ef4a7483ca7d0008d06f91fbd",
        "IPY_MODEL_f35bb9c55a1641f38769fece82abd970",
        "IPY_MODEL_2a652f1cf81f4eb5805556e0b7a2ec96",
        "IPY_MODEL_8a3ce06047334fb1bb8d4d3b52a0bbd6",
        "IPY_MODEL_113f3b21f835475c8da7bf6cc1532e4a"
       ],
       "layout": "IPY_MODEL_025ec3d7ffeb43b3aa04453347810d92"
      }
     },
     "c7bcbf57a288403fa667b8de2405a62f": {
      "model_module": "@jupyter-widgets/controls",
      "model_module_version": "1.5.0",
      "model_name": "ButtonModel",
      "state": {
       "button_style": "warning",
       "description": "Cancel",
       "layout": "IPY_MODEL_6e884f90398944ce9e49ba1ab490ae13",
       "style": "IPY_MODEL_5ce53c81c4b1458ca99fc766f51b27ca"
      }
     },
     "c7c60f5ddc824ecdbb527c59b3a841b8": {
      "model_module": "@jupyter-widgets/controls",
      "model_module_version": "1.5.0",
      "model_name": "ButtonStyleModel",
      "state": {}
     },
     "c7f8d47aa1fa4f91b2be7805282f1935": {
      "model_module": "@jupyter-widgets/base",
      "model_module_version": "1.2.0",
      "model_name": "LayoutModel",
      "state": {}
     },
     "c92f254cb6e7423e8d7101f56e8f68f1": {
      "model_module": "@jupyter-widgets/controls",
      "model_module_version": "1.5.0",
      "model_name": "HBoxModel",
      "state": {
       "children": [
        "IPY_MODEL_7be27f1286c043bc8fce7fc3e5623149",
        "IPY_MODEL_c5bc8cba8c5d40ec90288ecf9c9556ed"
       ],
       "layout": "IPY_MODEL_d502a41daca143a9a2c01115f7411d15"
      }
     },
     "c9d9d7f66fb443f9983dee117e759d43": {
      "model_module": "@jupyter-widgets/controls",
      "model_module_version": "1.5.0",
      "model_name": "ButtonStyleModel",
      "state": {}
     },
     "cac7e99e5ab046e686f1d96bfd7a71f0": {
      "model_module": "@jupyter-widgets/controls",
      "model_module_version": "1.5.0",
      "model_name": "SliderStyleModel",
      "state": {
       "description_width": ""
      }
     },
     "cb84e03ef3c847c0b0894c4473dabe21": {
      "model_module": "@jupyter-widgets/base",
      "model_module_version": "1.2.0",
      "model_name": "LayoutModel",
      "state": {}
     },
     "cba8dfc05bbb483c910416a0b926b5f4": {
      "model_module": "@jupyter-widgets/base",
      "model_module_version": "1.2.0",
      "model_name": "LayoutModel",
      "state": {}
     },
     "cba98d86945f44c1b4650a72fa138217": {
      "model_module": "@jupyter-widgets/controls",
      "model_module_version": "1.5.0",
      "model_name": "DescriptionStyleModel",
      "state": {
       "description_width": ""
      }
     },
     "cc0e98a2d18842c592d62142466ea284": {
      "model_module": "@jupyter-widgets/controls",
      "model_module_version": "1.5.0",
      "model_name": "ButtonStyleModel",
      "state": {}
     },
     "cca613eaf3e3418685f2f46812408f86": {
      "model_module": "@jupyter-widgets/controls",
      "model_module_version": "1.5.0",
      "model_name": "FloatSliderModel",
      "state": {
       "description": "scale:",
       "layout": "IPY_MODEL_ee7be73adfc6432eb2e5314d161043bf",
       "max": 200,
       "min": 1,
       "orientation": "vertical",
       "step": 0.1,
       "style": "IPY_MODEL_bf5f5c98fe6f41a8a6e41874544181ac",
       "value": 107.63023339764726
      }
     },
     "cd27499091fc4e04aa0242cada7f4159": {
      "model_module": "@jupyter-widgets/base",
      "model_module_version": "1.2.0",
      "model_name": "LayoutModel",
      "state": {
       "width": "70px"
      }
     },
     "ce0ebce6a56241b7a70c76d815701574": {
      "model_module": "@jupyter-widgets/base",
      "model_module_version": "1.2.0",
      "model_name": "LayoutModel",
      "state": {
       "width": "15%"
      }
     },
     "ce592ff2be134df4a4bc871c0d1433cc": {
      "model_module": "@jupyter-widgets/controls",
      "model_module_version": "1.5.0",
      "model_name": "VBoxModel",
      "state": {
       "children": [
        "IPY_MODEL_9e6f35a6f1094a87bc1c908e88eb9177",
        "IPY_MODEL_fe597743545f4e7fa3856db25cab2ae5",
        "IPY_MODEL_c3b91d8b5d30466d89258c1acc253cc2"
       ],
       "layout": "IPY_MODEL_583e87a74a4f4579801fc8cd233e3644"
      }
     },
     "ce6738e53ebc487eaf7e614ec56a7330": {
      "model_module": "@jupyter-widgets/controls",
      "model_module_version": "1.5.0",
      "model_name": "DropdownModel",
      "state": {
       "_options_labels": [
        "up",
        "down",
        "off"
       ],
       "index": 2,
       "layout": "IPY_MODEL_0e4cacaf2daf46238bd5fac1b5e67412",
       "style": "IPY_MODEL_cba98d86945f44c1b4650a72fa138217"
      }
     },
     "cee16a6a026f4b55b84f458faa6f1042": {
      "model_module": "@jupyter-widgets/controls",
      "model_module_version": "1.5.0",
      "model_name": "DescriptionStyleModel",
      "state": {
       "description_width": ""
      }
     },
     "cef61b017c8a43a6a7498bccb1f3be67": {
      "model_module": "@jupyter-widgets/controls",
      "model_module_version": "1.5.0",
      "model_name": "LabelModel",
      "state": {
       "layout": "IPY_MODEL_b5efbfbf26d547ffb79b8bb242e1f61f",
       "style": "IPY_MODEL_d12d3c879f7349449b80b08d576adca9",
       "value": "Choose spectra to superimpose"
      }
     },
     "cefcdcbb83874a808aad532466d80e7b": {
      "model_module": "@jupyter-widgets/controls",
      "model_module_version": "1.5.0",
      "model_name": "VBoxModel",
      "state": {
       "children": [
        "IPY_MODEL_355dc1682171493486ca04a2ca46cbfb",
        "IPY_MODEL_316cefd243e64613a00c095bd19c8b8d",
        "IPY_MODEL_0a9163a4480c4a72bb6d9af3cf1f640a",
        "IPY_MODEL_7e2557b75d384a4c8c5693b06db899d1"
       ],
       "layout": "IPY_MODEL_b4ef66eb82e346569bba2005197e58f1"
      }
     },
     "cfc92761bbcc447e8917df36e1b7f84e": {
      "model_module": "@jupyter-widgets/controls",
      "model_module_version": "1.5.0",
      "model_name": "ButtonStyleModel",
      "state": {}
     },
     "d001487b37344806aac005b33ed11465": {
      "model_module": "@jupyter-widgets/controls",
      "model_module_version": "1.5.0",
      "model_name": "TextModel",
      "state": {
       "layout": "IPY_MODEL_77fc443050bd4252ad603745f77e4757",
       "style": "IPY_MODEL_3d1b1685562b436ca729b0faeee79849",
       "value": "None"
      }
     },
     "d005aac1c79c4a6da7625014a3769d7e": {
      "model_module": "@jupyter-widgets/controls",
      "model_module_version": "1.5.0",
      "model_name": "DescriptionStyleModel",
      "state": {
       "description_width": ""
      }
     },
     "d03f91a643c54e61bbfb985022a9030c": {
      "model_module": "@jupyter-widgets/controls",
      "model_module_version": "1.5.0",
      "model_name": "DropdownModel",
      "state": {
       "_options_labels": [
        "black",
        "red",
        "blue",
        "green",
        "orange",
        "blueviolet",
        "crimson",
        "turquoise",
        "indigo",
        "magenta",
        "gold",
        "pink",
        "purple",
        "salmon",
        "darkblue",
        "sienna"
       ],
       "index": 8,
       "layout": "IPY_MODEL_4229f086c9c24d79bd84b703ffc4d68b",
       "style": "IPY_MODEL_f061ef580a2a41f3ae9c16fa3f5e90db"
      }
     },
     "d0e30bb3c1db499abeb61eb0e0aa0e08": {
      "model_module": "@jupyter-widgets/base",
      "model_module_version": "1.2.0",
      "model_name": "LayoutModel",
      "state": {}
     },
     "d12be3ac986740bc9cc146bf02abd014": {
      "model_module": "@jupyter-widgets/controls",
      "model_module_version": "1.5.0",
      "model_name": "ButtonStyleModel",
      "state": {}
     },
     "d12d3c879f7349449b80b08d576adca9": {
      "model_module": "@jupyter-widgets/controls",
      "model_module_version": "1.5.0",
      "model_name": "DescriptionStyleModel",
      "state": {
       "description_width": ""
      }
     },
     "d15383248e574ffda6da7b3b73dfd22d": {
      "model_module": "@jupyter-widgets/controls",
      "model_module_version": "1.5.0",
      "model_name": "VBoxModel",
      "state": {
       "children": [
        "IPY_MODEL_59fadfb25a844ff1a31d653e07e1332f",
        "IPY_MODEL_a37083c33c5e4b9b9de86cdf5112e381",
        "IPY_MODEL_cca613eaf3e3418685f2f46812408f86"
       ],
       "layout": "IPY_MODEL_634797bd89b44eccab0dbd323ca16d11"
      }
     },
     "d230168c012941aea0517924455d3df9": {
      "model_module": "@jupyter-widgets/base",
      "model_module_version": "1.2.0",
      "model_name": "LayoutModel",
      "state": {}
     },
     "d3f6ea128c384c858211e011c0843a34": {
      "model_module": "@jupyter-widgets/controls",
      "model_module_version": "1.5.0",
      "model_name": "DescriptionStyleModel",
      "state": {
       "description_width": ""
      }
     },
     "d502a41daca143a9a2c01115f7411d15": {
      "model_module": "@jupyter-widgets/base",
      "model_module_version": "1.2.0",
      "model_name": "LayoutModel",
      "state": {}
     },
     "d522538016a144479e147bdc76cd2b8c": {
      "model_module": "@jupyter-widgets/controls",
      "model_module_version": "1.5.0",
      "model_name": "DescriptionStyleModel",
      "state": {
       "description_width": ""
      }
     },
     "d555c757c5f447dc8fe2b298e479db14": {
      "model_module": "@jupyter-widgets/base",
      "model_module_version": "1.2.0",
      "model_name": "LayoutModel",
      "state": {
       "grid_area": "pathlist",
       "width": "auto"
      }
     },
     "d5fcd1516d914798b473c103c426ba6f": {
      "model_module": "@jupyter-widgets/base",
      "model_module_version": "1.2.0",
      "model_name": "LayoutModel",
      "state": {
       "width": "15%"
      }
     },
     "d62c090f057c494daeadb01cb4deccb4": {
      "model_module": "@jupyter-widgets/base",
      "model_module_version": "1.2.0",
      "model_name": "LayoutModel",
      "state": {
       "width": "80px"
      }
     },
     "d68cf4b8534b4cdaa1d6a0f6d60558a4": {
      "model_module": "@jupyter-widgets/controls",
      "model_module_version": "1.5.0",
      "model_name": "FloatTextModel",
      "state": {
       "layout": "IPY_MODEL_6e8f9e30939e47aa8539bb7fdba4eec5",
       "step": null,
       "style": "IPY_MODEL_f18f3400df1d4769b77c56b38aa3a28e"
      }
     },
     "d6be33e9d6154a7186e11e047141992e": {
      "model_module": "@jupyter-widgets/base",
      "model_module_version": "1.2.0",
      "model_name": "LayoutModel",
      "state": {
       "width": "auto"
      }
     },
     "d6c4bde1038641f9abdfeeb03ad5c6ae": {
      "model_module": "@jupyter-widgets/controls",
      "model_module_version": "1.5.0",
      "model_name": "DropdownModel",
      "state": {
       "_options_labels": [
        "black",
        "red",
        "blue",
        "green",
        "orange",
        "blueviolet",
        "crimson",
        "turquoise",
        "indigo",
        "magenta",
        "gold",
        "pink",
        "purple",
        "salmon",
        "darkblue",
        "sienna"
       ],
       "index": 4,
       "layout": "IPY_MODEL_e3c37ebef6f24d40bc728fd92df8cbc1",
       "style": "IPY_MODEL_df5dd52f10c647619cfca0889c164829"
      }
     },
     "d6f2dd7662cc4332b74874a36e8a9307": {
      "model_module": "@jupyter-widgets/controls",
      "model_module_version": "1.5.0",
      "model_name": "LabelModel",
      "state": {
       "layout": "IPY_MODEL_4b0508b49e894e1ba6a87239e57f67e3",
       "style": "IPY_MODEL_2eb954911c574fb09208aa8ce9118f3a",
       "value": "Define integral shapes using the sliders below"
      }
     },
     "d73cd84b0c0940a29a8df3daf3287c16": {
      "model_module": "@jupyter-widgets/controls",
      "model_module_version": "1.5.0",
      "model_name": "HBoxModel",
      "state": {
       "children": [
        "IPY_MODEL_a2e31c34eabb454ca769813382decf65"
       ],
       "layout": "IPY_MODEL_2ea7ef0f5f9e45ba9a59e16c75ebb391"
      }
     },
     "d7ae0aa810d44139b3325da56c2b6b1a": {
      "model_module": "@jupyter-widgets/controls",
      "model_module_version": "1.5.0",
      "model_name": "HBoxModel",
      "state": {
       "children": [
        "IPY_MODEL_f87f44f4687f4d38b83c2bbcb9a73e8e",
        "IPY_MODEL_e6b8a05393d141ed97006cc6e6e65021",
        "IPY_MODEL_2ca0f26a406d49fc8ee07b225b060b9e"
       ],
       "layout": "IPY_MODEL_b4591255a9c24a63802577e11f2f4636"
      }
     },
     "d7c311eec4de483189842e51ad622809": {
      "model_module": "@jupyter-widgets/controls",
      "model_module_version": "1.5.0",
      "model_name": "FloatSliderModel",
      "state": {
       "description": "scale:",
       "layout": "IPY_MODEL_93f8b360ed8b45a2a18b7e7f12fe8cbd",
       "max": 200,
       "min": 1,
       "orientation": "vertical",
       "step": 0.1,
       "style": "IPY_MODEL_64b52ca3c98b4c45886a925a4a157015",
       "value": 129.5
      }
     },
     "d7e0e05be37848378442ff8c517ba6ba": {
      "model_module": "@jupyter-widgets/base",
      "model_module_version": "1.2.0",
      "model_name": "LayoutModel",
      "state": {
       "width": "15%"
      }
     },
     "d843bd87cc42493085a635a5adae22c6": {
      "model_module": "@jupyter-widgets/controls",
      "model_module_version": "1.5.0",
      "model_name": "DescriptionStyleModel",
      "state": {
       "description_width": ""
      }
     },
     "d86f5b0e90564de0b55874b3e2c0ca1f": {
      "model_module": "@jupyter-widgets/controls",
      "model_module_version": "1.5.0",
      "model_name": "IntTextModel",
      "state": {
       "layout": "IPY_MODEL_a4bfa1b108d54a72bee3b35a664077e6",
       "step": 1,
       "style": "IPY_MODEL_8d64f50fc2e04cb1b8a1e35a101390ee",
       "value": 1
      }
     },
     "d8a2ab056f6d4e429a5b4c3595f73c0a": {
      "model_module": "@jupyter-widgets/controls",
      "model_module_version": "1.5.0",
      "model_name": "DescriptionStyleModel",
      "state": {
       "description_width": ""
      }
     },
     "d8e73a9d06f54a97a59f0a8808a08856": {
      "model_module": "@jupyter-widgets/controls",
      "model_module_version": "1.5.0",
      "model_name": "HBoxModel",
      "state": {
       "children": [
        "IPY_MODEL_f4d6c24f113643509d414d5445bb9f5f"
       ],
       "layout": "IPY_MODEL_cb84e03ef3c847c0b0894c4473dabe21"
      }
     },
     "d8eb407f15b74009ab93863be1e4ac3b": {
      "model_module": "@jupyter-widgets/base",
      "model_module_version": "1.2.0",
      "model_name": "LayoutModel",
      "state": {}
     },
     "d923c32df5534ec2bc190b705908ee35": {
      "model_module": "@jupyter-widgets/base",
      "model_module_version": "1.2.0",
      "model_name": "LayoutModel",
      "state": {
       "width": "30%"
      }
     },
     "da480a0070b6436fa2594ef85c897343": {
      "model_module": "@jupyter-widgets/controls",
      "model_module_version": "1.5.0",
      "model_name": "DescriptionStyleModel",
      "state": {
       "description_width": ""
      }
     },
     "da62af78f3594c9192f0c67836db89d8": {
      "model_module": "@jupyter-widgets/base",
      "model_module_version": "1.2.0",
      "model_name": "LayoutModel",
      "state": {
       "width": "70%"
      }
     },
     "da9685a3d0bf4caca8fb77ac099c943d": {
      "model_module": "@jupyter-widgets/base",
      "model_module_version": "1.2.0",
      "model_name": "LayoutModel",
      "state": {}
     },
     "dabb721536164b13ad9d15eac1d6e8f2": {
      "model_module": "@jupyter-widgets/controls",
      "model_module_version": "1.5.0",
      "model_name": "DescriptionStyleModel",
      "state": {
       "description_width": ""
      }
     },
     "daed713461ed429fb297b73c35be8752": {
      "model_module": "jupyter-matplotlib",
      "model_module_version": "^0.7.2",
      "model_name": "ToolbarModel",
      "state": {
       "layout": "IPY_MODEL_f1e23dfe17984a7b9aa59d7473874228",
       "toolitems": [
        [
         "Home",
         "Reset original view",
         "home",
         "home"
        ],
        [
         "Back",
         "Back to previous view",
         "arrow-left",
         "back"
        ],
        [
         "Forward",
         "Forward to next view",
         "arrow-right",
         "forward"
        ],
        [
         "Pan",
         "Pan axes with left mouse, zoom with right",
         "arrows",
         "pan"
        ],
        [
         "Zoom",
         "Zoom to rectangle",
         "square-o",
         "zoom"
        ],
        [
         "Download",
         "Download plot",
         "floppy-o",
         "save_figure"
        ]
       ]
      }
     },
     "db35fc78025f4f3c93275b0d13d1ef7f": {
      "model_module": "@jupyter-widgets/controls",
      "model_module_version": "1.5.0",
      "model_name": "DescriptionStyleModel",
      "state": {
       "description_width": ""
      }
     },
     "db6dccfa2c5b4d9eaaa98251b4bee843": {
      "model_module": "@jupyter-widgets/controls",
      "model_module_version": "1.5.0",
      "model_name": "FloatSliderModel",
      "state": {
       "continuous_update": false,
       "description": "bias",
       "layout": "IPY_MODEL_570ee511cd7848869d1eaede2a9e0ca1",
       "max": 10,
       "min": -10,
       "readout": false,
       "readout_format": ".1f",
       "step": 0.1,
       "style": "IPY_MODEL_7b076b13f9754c82b150030e59e4d30d"
      }
     },
     "dbc48968702544f6b636ba2dfca6a2c7": {
      "model_module": "@jupyter-widgets/controls",
      "model_module_version": "1.5.0",
      "model_name": "LabelModel",
      "state": {
       "layout": "IPY_MODEL_bc36ff4035a0452e9c9bce1908f26be9",
       "style": "IPY_MODEL_a2da8d71197f4a27b2f5a82ce7e2c5a1",
       "value": "Show Peaks"
      }
     },
     "dbf8d8fb037945e288e9660f26207be7": {
      "model_module": "@jupyter-widgets/controls",
      "model_module_version": "1.5.0",
      "model_name": "HTMLModel",
      "state": {
       "layout": "IPY_MODEL_ac598ea43e124317b2436afebb50a175",
       "placeholder": "",
       "style": "IPY_MODEL_2e2ce8f3ed964dd2bf0327b3bcce1373",
       "value": "<span style=\"margin-left:10px; color:orange;\">/DATA/SM_ARTE_v3/SM_ARTE4_161123/1/fid</span>"
      }
     },
     "dbf9c05d5bbf47b2895109e2a1e65260": {
      "model_module": "@jupyter-widgets/controls",
      "model_module_version": "1.5.0",
      "model_name": "ButtonModel",
      "state": {
       "button_style": "success",
       "description": "Select",
       "layout": "IPY_MODEL_9144f99157f3428b9734e2c2907cf884",
       "style": "IPY_MODEL_b1e2bc35d3b44ab6a71dba08994a3099"
      }
     },
     "dc0eefcde81f469ba259c3f66ae3a54e": {
      "model_module": "@jupyter-widgets/controls",
      "model_module_version": "1.5.0",
      "model_name": "DescriptionStyleModel",
      "state": {
       "description_width": ""
      }
     },
     "dc75c9f6dd0a4cdd92a9bd55752fb1c2": {
      "model_module": "@jupyter-widgets/base",
      "model_module_version": "1.2.0",
      "model_name": "LayoutModel",
      "state": {
       "display": "none",
       "width": "auto"
      }
     },
     "dc8b8d7f6a7949508e20597ff6c50631": {
      "model_module": "@jupyter-widgets/controls",
      "model_module_version": "1.5.0",
      "model_name": "TabModel",
      "state": {
       "_titles": {
        "0": "1D Display",
        "1": "Peak Table"
       },
       "children": [
        "IPY_MODEL_86a65b8dd61d4f6a9c3a78b8057e32df",
        "IPY_MODEL_a7838ba1abe7438b91bce89489fa5d56"
       ],
       "layout": "IPY_MODEL_e257571f97584d63baa1c0bad16969ef"
      }
     },
     "dc8e10175b71475fa9b4550621b28343": {
      "model_module": "@jupyter-widgets/controls",
      "model_module_version": "1.5.0",
      "model_name": "SliderStyleModel",
      "state": {
       "description_width": ""
      }
     },
     "dd019363291f40fdb9ed21e4afc05713": {
      "model_module": "@jupyter-widgets/base",
      "model_module_version": "1.2.0",
      "model_name": "LayoutModel",
      "state": {
       "width": "40em"
      }
     },
     "dd16d12961ee41a9abbe7af59a86f23e": {
      "model_module": "@jupyter-widgets/controls",
      "model_module_version": "1.5.0",
      "model_name": "DropdownModel",
      "state": {
       "_options_labels": [
        "marker",
        "bar"
       ],
       "description": "show as",
       "index": 0,
       "layout": "IPY_MODEL_7777a9ba606c41ec9fe62a095445bae5",
       "style": "IPY_MODEL_d3f6ea128c384c858211e011c0843a34"
      }
     },
     "de2a2ae09165461bb4f6f2ce16c74f5f": {
      "model_module": "@jupyter-widgets/base",
      "model_module_version": "1.2.0",
      "model_name": "LayoutModel",
      "state": {}
     },
     "df20714781a345b5a7cc10849db617b1": {
      "model_module": "@jupyter-widgets/controls",
      "model_module_version": "1.5.0",
      "model_name": "VBoxModel",
      "state": {
       "children": [
        "IPY_MODEL_5e15622f64c847c9a3f20b787913e66c",
        "IPY_MODEL_d7ae0aa810d44139b3325da56c2b6b1a",
        "IPY_MODEL_7e771c9b16584306b61aaf778063b14f"
       ],
       "layout": "IPY_MODEL_c6c7d9c3d7ef476fb1b5a72d3c24baad"
      }
     },
     "df50504b8e774dabb419f28c79a0b6d8": {
      "model_module": "@jupyter-widgets/base",
      "model_module_version": "1.2.0",
      "model_name": "LayoutModel",
      "state": {
       "width": "auto"
      }
     },
     "df5dd52f10c647619cfca0889c164829": {
      "model_module": "@jupyter-widgets/controls",
      "model_module_version": "1.5.0",
      "model_name": "DescriptionStyleModel",
      "state": {
       "description_width": ""
      }
     },
     "df8de11e30204b43bf3475713ce5aae9": {
      "model_module": "@jupyter-widgets/controls",
      "model_module_version": "1.5.0",
      "model_name": "DescriptionStyleModel",
      "state": {
       "description_width": ""
      }
     },
     "dfd91faa4906431982695b319a8c3d19": {
      "model_module": "@jupyter-widgets/controls",
      "model_module_version": "1.5.0",
      "model_name": "VBoxModel",
      "state": {
       "children": [
        "IPY_MODEL_04d73c6df79440d0acfe11dce615bf74",
        "IPY_MODEL_159262a422e14b31971b2a4a06e3de55"
       ],
       "layout": "IPY_MODEL_6f6a6a5111f54a898997a1d8fd0e1d78"
      }
     },
     "e154627dd2684ed3a0087f24345f4026": {
      "model_module": "@jupyter-widgets/base",
      "model_module_version": "1.2.0",
      "model_name": "LayoutModel",
      "state": {}
     },
     "e1ccc9c9fe844388b4b65a956e9548a4": {
      "model_module": "@jupyter-widgets/controls",
      "model_module_version": "1.5.0",
      "model_name": "HBoxModel",
      "state": {
       "children": [
        "IPY_MODEL_79b908da4e5b47dc8b05f3017af41b9b",
        "IPY_MODEL_86a65b8dd61d4f6a9c3a78b8057e32df"
       ],
       "layout": "IPY_MODEL_86f55627a8f14ca5ab84c2e25baa8de9"
      }
     },
     "e2059c937489460189ef61db4a999451": {
      "model_module": "@jupyter-widgets/base",
      "model_module_version": "1.2.0",
      "model_name": "LayoutModel",
      "state": {
       "height": "10.16cm",
       "width": "80px"
      }
     },
     "e257571f97584d63baa1c0bad16969ef": {
      "model_module": "@jupyter-widgets/base",
      "model_module_version": "1.2.0",
      "model_name": "LayoutModel",
      "state": {}
     },
     "e308804a1a6040cda772b52c127a421d": {
      "model_module": "@jupyter-widgets/base",
      "model_module_version": "1.2.0",
      "model_name": "LayoutModel",
      "state": {
       "width": "80px"
      }
     },
     "e3c37ebef6f24d40bc728fd92df8cbc1": {
      "model_module": "@jupyter-widgets/base",
      "model_module_version": "1.2.0",
      "model_name": "LayoutModel",
      "state": {
       "width": "80px"
      }
     },
     "e3f2d35fc5d64203914355525667c0f5": {
      "model_module": "@jupyter-widgets/controls",
      "model_module_version": "1.5.0",
      "model_name": "FloatTextModel",
      "state": {
       "layout": "IPY_MODEL_6a5bbab925c540dabe0b939f7dcfbf51",
       "step": null,
       "style": "IPY_MODEL_10eb527e17ca4db09d06ac09df0c239e"
      }
     },
     "e42a089857eb435ca8ca40037bce830e": {
      "model_module": "@jupyter-widgets/base",
      "model_module_version": "1.2.0",
      "model_name": "LayoutModel",
      "state": {}
     },
     "e42f702cfe814aeb81dbb42274890537": {
      "model_module": "@jupyter-widgets/controls",
      "model_module_version": "1.5.0",
      "model_name": "HBoxModel",
      "state": {
       "children": [
        "IPY_MODEL_dbf9c05d5bbf47b2895109e2a1e65260",
        "IPY_MODEL_e47d1770a3924322bbfd0980588bb79a",
        "IPY_MODEL_8e7fbc3bb8804a788dfe2a4d9285c8d9"
       ],
       "layout": "IPY_MODEL_df50504b8e774dabb419f28c79a0b6d8"
      }
     },
     "e47d1770a3924322bbfd0980588bb79a": {
      "model_module": "@jupyter-widgets/controls",
      "model_module_version": "1.5.0",
      "model_name": "ButtonModel",
      "state": {
       "button_style": "warning",
       "description": "Cancel",
       "layout": "IPY_MODEL_1ea05e0fa82f4b3ba0ffe300e0b7f23c",
       "style": "IPY_MODEL_3e97f14fdf8042d1a928f38a2d208734"
      }
     },
     "e4a10652a5d7498ba04241d2996fc2bc": {
      "model_module": "@jupyter-widgets/base",
      "model_module_version": "1.2.0",
      "model_name": "LayoutModel",
      "state": {
       "display": "none",
       "grid_gap": "0px 0px",
       "grid_template_areas": "\n                    'pathlist filename'\n                    'dircontent dircontent'\n                    ",
       "grid_template_columns": "60% 40%",
       "grid_template_rows": "auto auto",
       "width": "500px"
      }
     },
     "e5e069afb1c74de4ac2f0c7e836b3a32": {
      "model_module": "@jupyter-widgets/controls",
      "model_module_version": "1.5.0",
      "model_name": "DescriptionStyleModel",
      "state": {
       "description_width": ""
      }
     },
     "e6b8a05393d141ed97006cc6e6e65021": {
      "model_module": "@jupyter-widgets/controls",
      "model_module_version": "1.5.0",
      "model_name": "FloatSliderModel",
      "state": {
       "continuous_update": false,
       "description": "separation",
       "layout": "IPY_MODEL_5f99c3376a5d4ef5a1b09f0ae2cf5ae4",
       "max": 20,
       "readout": false,
       "readout_format": ".1f",
       "step": 0.1,
       "style": "IPY_MODEL_6e0a72db313a41bb8a980d38e39166ca",
       "value": 3
      }
     },
     "e6bc7de25004458394c099a65fd0ef3c": {
      "model_module": "@jupyter-widgets/controls",
      "model_module_version": "1.5.0",
      "model_name": "HTMLModel",
      "state": {
       "layout": "IPY_MODEL_2ed80f830e5047de8ec924d621551725",
       "style": "IPY_MODEL_d522538016a144479e147bdc76cd2b8c",
       "value": "Choose baseline points"
      }
     },
     "e770675e7ab54afda69dc1fa099b9d02": {
      "model_module": "@jupyter-widgets/base",
      "model_module_version": "1.2.0",
      "model_name": "LayoutModel",
      "state": {}
     },
     "e78e7ffa06b3480593c327f2b0e84366": {
      "model_module": "@jupyter-widgets/base",
      "model_module_version": "1.2.0",
      "model_name": "LayoutModel",
      "state": {
       "width": "70px"
      }
     },
     "e7f1a7611a274c7d8402c0c7f84f68da": {
      "model_module": "@jupyter-widgets/base",
      "model_module_version": "1.2.0",
      "model_name": "LayoutModel",
      "state": {}
     },
     "e8270e6d857540d3ab604e9bbf72fe2d": {
      "model_module": "@jupyter-widgets/controls",
      "model_module_version": "1.5.0",
      "model_name": "LabelModel",
      "state": {
       "layout": "IPY_MODEL_983e405fc5924eaf9ae23984274423b7",
       "style": "IPY_MODEL_7ad80cd723d2440f859ba1a4cf5924b4",
       "value": "Integral scale:"
      }
     },
     "e9053bdd792e4ac291215113b4fa9f33": {
      "model_module": "@jupyter-widgets/controls",
      "model_module_version": "1.5.0",
      "model_name": "DescriptionStyleModel",
      "state": {
       "description_width": ""
      }
     },
     "e9a937e757d44de7b41d9444d816f2f3": {
      "model_module": "@jupyter-widgets/base",
      "model_module_version": "1.2.0",
      "model_name": "LayoutModel",
      "state": {}
     },
     "e9accee3d74a463492fc7212ae78424f": {
      "model_module": "@jupyter-widgets/controls",
      "model_module_version": "1.5.0",
      "model_name": "SelectModel",
      "state": {
       "_options_labels": [
        "..",
        "pdata",
        "acqu",
        "acqus",
        "audita.txt",
        "fid",
        "format.temp",
        "processed.gs1",
        "pulseprogram",
        "scon2",
        "shimvalues",
        "uxnmr.par"
       ],
       "index": 5,
       "layout": "IPY_MODEL_81f0840efa2a4c5292109afb1f72973c",
       "rows": 8,
       "style": "IPY_MODEL_5f3341c9ef0e404b898938b5cd92c64d"
      }
     },
     "ea9a940dfdec4245b16775df972eb434": {
      "model_module": "@jupyter-widgets/controls",
      "model_module_version": "1.5.0",
      "model_name": "VBoxModel",
      "state": {
       "children": [
        "IPY_MODEL_a84eebf777844f60bb775c5f6ee65f0c",
        "IPY_MODEL_1659b6218b52472aaee8231000855a3f",
        "IPY_MODEL_27267d9fa19343a8832c76ba935cc86d",
        "IPY_MODEL_45d5a8b8fb664cf1a3058f06c8d90961"
       ],
       "layout": "IPY_MODEL_af71e66edc04468cb606162be879ecf1"
      }
     },
     "eb0228abb758418fb6770d70fb68f310": {
      "model_module": "@jupyter-widgets/controls",
      "model_module_version": "1.5.0",
      "model_name": "DropdownModel",
      "state": {
       "_options_labels": [
        "/home/mad/Documents/spike/Notebooks",
        "/home/mad/Documents/spike",
        "/home/mad/Documents",
        "/home/mad",
        "/home",
        "/"
       ],
       "index": 0,
       "layout": "IPY_MODEL_d555c757c5f447dc8fe2b298e479db14",
       "style": "IPY_MODEL_accf2236d43e48e48d056d2a718bf612"
      }
     },
     "eb48c668fa814d8ab80f66c66707aab5": {
      "model_module": "@jupyter-widgets/base",
      "model_module_version": "1.2.0",
      "model_name": "LayoutModel",
      "state": {}
     },
     "eb59d632c3da4521b11ed4d491943038": {
      "model_module": "@jupyter-widgets/controls",
      "model_module_version": "1.5.0",
      "model_name": "DescriptionStyleModel",
      "state": {
       "description_width": ""
      }
     },
     "ec23e43c23294b448734fdac6cb0971e": {
      "model_module": "@jupyter-widgets/controls",
      "model_module_version": "1.5.0",
      "model_name": "HBoxModel",
      "state": {
       "children": [
        "IPY_MODEL_036e9e1201cf428084301243a1bada53",
        "IPY_MODEL_c7bcbf57a288403fa667b8de2405a62f"
       ],
       "layout": "IPY_MODEL_cba8dfc05bbb483c910416a0b926b5f4"
      }
     },
     "ec7fe2e1fa654f86a87ff697cda7b14f": {
      "model_module": "@jupyter-widgets/controls",
      "model_module_version": "1.5.0",
      "model_name": "SliderStyleModel",
      "state": {
       "description_width": ""
      }
     },
     "ecc6dc097f4b407abdce8694f3887488": {
      "model_module": "@jupyter-widgets/controls",
      "model_module_version": "1.5.0",
      "model_name": "ButtonStyleModel",
      "state": {}
     },
     "ecfda34b356d477db54ee1c3d6793284": {
      "model_module": "@jupyter-widgets/controls",
      "model_module_version": "1.5.0",
      "model_name": "FloatTextModel",
      "state": {
       "layout": "IPY_MODEL_3813bc33c5484939a473f12b8cc81084",
       "step": null,
       "style": "IPY_MODEL_51244b4357144021b81dfaeda42c6177"
      }
     },
     "ee59b1fd64724d238d58fdd768369807": {
      "model_module": "@jupyter-widgets/controls",
      "model_module_version": "1.5.0",
      "model_name": "DescriptionStyleModel",
      "state": {
       "description_width": ""
      }
     },
     "ee7be73adfc6432eb2e5314d161043bf": {
      "model_module": "@jupyter-widgets/base",
      "model_module_version": "1.2.0",
      "model_name": "LayoutModel",
      "state": {
       "height": "10.16cm",
       "width": "80px"
      }
     },
     "f0343ccdbeca43a980b1da356c14bb0c": {
      "model_module": "@jupyter-widgets/base",
      "model_module_version": "1.2.0",
      "model_name": "LayoutModel",
      "state": {}
     },
     "f061ef580a2a41f3ae9c16fa3f5e90db": {
      "model_module": "@jupyter-widgets/controls",
      "model_module_version": "1.5.0",
      "model_name": "DescriptionStyleModel",
      "state": {
       "description_width": ""
      }
     },
     "f18f3400df1d4769b77c56b38aa3a28e": {
      "model_module": "@jupyter-widgets/controls",
      "model_module_version": "1.5.0",
      "model_name": "DescriptionStyleModel",
      "state": {
       "description_width": ""
      }
     },
     "f19bbe263cfe4fadbba3b7c8f0dda4f6": {
      "model_module": "jupyter-matplotlib",
      "model_module_version": "^0.7.2",
      "model_name": "ToolbarModel",
      "state": {
       "layout": "IPY_MODEL_abad509919ef40618b10657fc5181f79",
       "toolitems": [
        [
         "Home",
         "Reset original view",
         "home",
         "home"
        ],
        [
         "Back",
         "Back to previous view",
         "arrow-left",
         "back"
        ],
        [
         "Forward",
         "Forward to next view",
         "arrow-right",
         "forward"
        ],
        [
         "Pan",
         "Pan axes with left mouse, zoom with right",
         "arrows",
         "pan"
        ],
        [
         "Zoom",
         "Zoom to rectangle",
         "square-o",
         "zoom"
        ],
        [
         "Download",
         "Download plot",
         "floppy-o",
         "save_figure"
        ]
       ]
      }
     },
     "f1e23dfe17984a7b9aa59d7473874228": {
      "model_module": "@jupyter-widgets/base",
      "model_module_version": "1.2.0",
      "model_name": "LayoutModel",
      "state": {}
     },
     "f20aae09d105477ca77455f7f6662f5e": {
      "model_module": "@jupyter-widgets/controls",
      "model_module_version": "1.5.0",
      "model_name": "ButtonModel",
      "state": {
       "button_style": "warning",
       "description": "Rem",
       "layout": "IPY_MODEL_6e884f90398944ce9e49ba1ab490ae13",
       "style": "IPY_MODEL_742e148428214f718bd1c7d23368a8ff",
       "tooltip": "Remove all entries in current zoom"
      }
     },
     "f2a24a2351f042ac90a0f09247980dfc": {
      "model_module": "@jupyter-widgets/base",
      "model_module_version": "1.2.0",
      "model_name": "LayoutModel",
      "state": {}
     },
     "f2b1ecc005184d6a993c0bd0f1c6fc38": {
      "model_module": "@jupyter-widgets/base",
      "model_module_version": "1.2.0",
      "model_name": "LayoutModel",
      "state": {
       "width": "20%"
      }
     },
     "f35bb9c55a1641f38769fece82abd970": {
      "model_module": "@jupyter-widgets/controls",
      "model_module_version": "1.5.0",
      "model_name": "HBoxModel",
      "state": {
       "children": [
        "IPY_MODEL_c1378385616444978461869aab8ae4cf",
        "IPY_MODEL_91d8e532638944309ded3e54f41ad1db",
        "IPY_MODEL_ecfda34b356d477db54ee1c3d6793284",
        "IPY_MODEL_fc905d4dc9f94b2498c29133b42dc301",
        "IPY_MODEL_08ff3041d42e4ef5a35b372a0f007ca5"
       ],
       "layout": "IPY_MODEL_05ef19d07715445b88ac31fb28f77784"
      }
     },
     "f41f6de1c8d1470f9487d9372175b302": {
      "model_module": "jupyter-matplotlib",
      "model_module_version": "^0.7.2",
      "model_name": "MPLCanvasModel",
      "state": {
       "_figure_label": "Figure 2",
       "_height": 480,
       "_width": 640,
       "layout": "IPY_MODEL_a0857ad006e84dc8a8bc549eb63f2978",
       "toolbar": "IPY_MODEL_daed713461ed429fb297b73c35be8752",
       "toolbar_position": "left"
      }
     },
     "f450dea406df4273beb577062ffcc46a": {
      "model_module": "@jupyter-widgets/controls",
      "model_module_version": "1.5.0",
      "model_name": "HTMLModel",
      "state": {
       "layout": "IPY_MODEL_624b88aaa2bc4e058e79080295f6797f",
       "style": "IPY_MODEL_e5e069afb1c74de4ac2f0c7e836b3a32",
       "value": "<b>3</b>"
      }
     },
     "f47fc024ec014621a8a0ee101e3892a1": {
      "model_module": "@jupyter-widgets/base",
      "model_module_version": "1.2.0",
      "model_name": "LayoutModel",
      "state": {}
     },
     "f4b30714278e455e9513a9fc72c81de8": {
      "model_module": "@jupyter-widgets/controls",
      "model_module_version": "1.5.0",
      "model_name": "DropdownModel",
      "state": {
       "_options_labels": [
        "up",
        "down",
        "off"
       ],
       "index": 2,
       "layout": "IPY_MODEL_ae6fc09c2df1429cb5e8abcc24d91290",
       "style": "IPY_MODEL_dc0eefcde81f469ba259c3f66ae3a54e"
      }
     },
     "f4d6c24f113643509d414d5445bb9f5f": {
      "model_module": "@jupyter-widgets/controls",
      "model_module_version": "1.5.0",
      "model_name": "TabModel",
      "state": {
       "_titles": {
        "0": "Spectrum",
        "1": "Data-List"
       },
       "children": [
        "IPY_MODEL_7b07fdcb03cc43759c5281301639eee4",
        "IPY_MODEL_c7552dbff90a4e33b795a1387e5453f3"
       ],
       "layout": "IPY_MODEL_44db0206fba847b789f9fbb077d0d90f"
      }
     },
     "f59d44e8ec8e46fb8dffe4b20dfd3ebe": {
      "model_module": "@jupyter-widgets/base",
      "model_module_version": "1.2.0",
      "model_name": "LayoutModel",
      "state": {
       "width": "70px"
      }
     },
     "f624cce7a16842b58f6140ad1a8b4de4": {
      "model_module": "@jupyter-widgets/base",
      "model_module_version": "1.2.0",
      "model_name": "LayoutModel",
      "state": {}
     },
     "f62a70cd075546a1925584f48b58b5d0": {
      "model_module": "@jupyter-widgets/base",
      "model_module_version": "1.2.0",
      "model_name": "LayoutModel",
      "state": {}
     },
     "f6533e8c04ae46fa9a6099f6006324b0": {
      "model_module": "@jupyter-widgets/base",
      "model_module_version": "1.2.0",
      "model_name": "LayoutModel",
      "state": {
       "width": "40em"
      }
     },
     "f6c7a686a37f4179a08ea69a763c4e6e": {
      "model_module": "jupyter-matplotlib",
      "model_module_version": "^0.7.2",
      "model_name": "ToolbarModel",
      "state": {
       "layout": "IPY_MODEL_8bda77d9f3334138a57172adb65bf9f0",
       "toolitems": [
        [
         "Home",
         "Reset original view",
         "home",
         "home"
        ],
        [
         "Back",
         "Back to previous view",
         "arrow-left",
         "back"
        ],
        [
         "Forward",
         "Forward to next view",
         "arrow-right",
         "forward"
        ],
        [
         "Pan",
         "Pan axes with left mouse, zoom with right",
         "arrows",
         "pan"
        ],
        [
         "Zoom",
         "Zoom to rectangle",
         "square-o",
         "zoom"
        ],
        [
         "Download",
         "Download plot",
         "floppy-o",
         "save_figure"
        ]
       ]
      }
     },
     "f78a9569829944c8a4fbffb184dd9ef3": {
      "model_module": "@jupyter-widgets/controls",
      "model_module_version": "1.5.0",
      "model_name": "DescriptionStyleModel",
      "state": {
       "description_width": ""
      }
     },
     "f7d77347107347ef8eda62f468a174f0": {
      "model_module": "@jupyter-widgets/controls",
      "model_module_version": "1.5.0",
      "model_name": "TextModel",
      "state": {
       "layout": "IPY_MODEL_9ced57391f5d42d08264b35845ff7fe5",
       "placeholder": "output filename",
       "style": "IPY_MODEL_8e2c28cedc9e41d3bf99c3fcf13fb8f3",
       "value": "fid"
      }
     },
     "f7e01043c17645699bbfaaf9a0ab78cc": {
      "model_module": "@jupyter-widgets/base",
      "model_module_version": "1.2.0",
      "model_name": "LayoutModel",
      "state": {}
     },
     "f804c81d91744c529fe14b317c6d045e": {
      "model_module": "@jupyter-widgets/base",
      "model_module_version": "1.2.0",
      "model_name": "LayoutModel",
      "state": {}
     },
     "f87f44f4687f4d38b83c2bbcb9a73e8e": {
      "model_module": "@jupyter-widgets/controls",
      "model_module_version": "1.5.0",
      "model_name": "FloatLogSliderModel",
      "state": {
       "continuous_update": false,
       "description": "sensitivity",
       "layout": "IPY_MODEL_503fd24def8543f09a5b2419a5a0f3db",
       "max": 2,
       "min": -1,
       "readout": false,
       "readout_format": ".2f",
       "step": 0.01,
       "style": "IPY_MODEL_dc8e10175b71475fa9b4550621b28343",
       "value": 0.14791083881682077
      }
     },
     "fa5f84523af244f080777014f33f5841": {
      "model_module": "@jupyter-widgets/controls",
      "model_module_version": "1.5.0",
      "model_name": "CheckboxModel",
      "state": {
       "disabled": false,
       "layout": "IPY_MODEL_720266e38174468cad374c0e931f8f73",
       "style": "IPY_MODEL_abbc213d69984a468861148c97bd0a93",
       "value": false
      }
     },
     "fa9303cfb55f4e47972800fdef9b3c6e": {
      "model_module": "@jupyter-widgets/controls",
      "model_module_version": "1.5.0",
      "model_name": "DescriptionStyleModel",
      "state": {
       "description_width": ""
      }
     },
     "fb053362d0534c0cb724078a5465708f": {
      "model_module": "@jupyter-widgets/base",
      "model_module_version": "1.2.0",
      "model_name": "LayoutModel",
      "state": {}
     },
     "fb4ce1a2829a4944962869f0bfec06a6": {
      "model_module": "@jupyter-widgets/controls",
      "model_module_version": "1.5.0",
      "model_name": "TabModel",
      "state": {
       "_titles": {
        "0": "Peak Picker",
        "1": "calibration",
        "2": "Peak Table"
       },
       "children": [
        "IPY_MODEL_b63f4c8749ed4838b3592dfd48868699",
        "IPY_MODEL_1de0691e049545e6bf51d03ff5bab3be",
        "IPY_MODEL_a7838ba1abe7438b91bce89489fa5d56"
       ],
       "layout": "IPY_MODEL_75ebac3e976f4f08b5ce22a3787771b2"
      }
     },
     "fc905d4dc9f94b2498c29133b42dc301": {
      "model_module": "@jupyter-widgets/controls",
      "model_module_version": "1.5.0",
      "model_name": "DropdownModel",
      "state": {
       "_options_labels": [
        "black",
        "red",
        "blue",
        "green",
        "orange",
        "blueviolet",
        "crimson",
        "turquoise",
        "indigo",
        "magenta",
        "gold",
        "pink",
        "purple",
        "salmon",
        "darkblue",
        "sienna"
       ],
       "index": 6,
       "layout": "IPY_MODEL_9fd56529c6f34ab491458405f7357928",
       "style": "IPY_MODEL_8bc95cae32f54bbcb977119728b36b06"
      }
     },
     "fcceef8c980a4a63b34bdeb7eb205604": {
      "model_module": "@jupyter-widgets/controls",
      "model_module_version": "1.5.0",
      "model_name": "DropdownModel",
      "state": {
       "_options_labels": [
        "up",
        "down",
        "off"
       ],
       "index": 2,
       "layout": "IPY_MODEL_9d384ab2f333416883bbcf3e8debab85",
       "style": "IPY_MODEL_48ffca90df1b472a917f75f4c24023b0"
      }
     },
     "fde69c4f770a4a1495e8ecb5ea139fb3": {
      "model_module": "@jupyter-widgets/controls",
      "model_module_version": "1.5.0",
      "model_name": "HBoxModel",
      "state": {
       "children": [
        "IPY_MODEL_2c8de912ac12492c87290e2b303a21a1",
        "IPY_MODEL_32e09935ce914924b4c6c3024ab29c8e",
        "IPY_MODEL_e3f2d35fc5d64203914355525667c0f5",
        "IPY_MODEL_7fa0c872f37149bf9e34040fa51b11fc",
        "IPY_MODEL_f4b30714278e455e9513a9fc72c81de8"
       ],
       "layout": "IPY_MODEL_d0e30bb3c1db499abeb61eb0e0aa0e08"
      }
     },
     "fe597743545f4e7fa3856db25cab2ae5": {
      "model_module": "@jupyter-widgets/controls",
      "model_module_version": "1.5.0",
      "model_name": "ButtonModel",
      "state": {
       "button_style": "success",
       "description": "Reset",
       "layout": "IPY_MODEL_385ef4626b2c42e9a393f21aef47b6ed",
       "style": "IPY_MODEL_664006c5444a42a4ad7ac08d7764dbd6",
       "tooltip": "Reset to full spectrum"
      }
     },
     "ff5a816f8da3432182ab8d2be9e416a5": {
      "model_module": "@jupyter-widgets/controls",
      "model_module_version": "1.5.0",
      "model_name": "SelectModel",
      "state": {
       "_options_labels": [
        "..",
        "DisplayFTICR2D.ipynb",
        "DisplayFTICR2D.py",
        "EasyDisplayFTICR2D.ipynb",
        "EasyDisplayFTICR2D.py",
        "Proc1DNMR.ipynb",
        "Proc1DNMR.py",
        "Proc2DNMR.ipynb",
        "ProcDOSY.ipynb",
        "ProcessFTICR-MS.ipynb",
        "README.md"
       ],
       "index": null,
       "layout": "IPY_MODEL_ba040b14431541caa1f7732d3ae2054c",
       "rows": 8,
       "style": "IPY_MODEL_d8a2ab056f6d4e429a5b4c3595f73c0a"
      }
     },
     "ffe28375aa344ea69e948224087e38d5": {
      "model_module": "@jupyter-widgets/controls",
      "model_module_version": "1.5.0",
      "model_name": "HBoxModel",
      "state": {
       "children": [
        "IPY_MODEL_30bf0647211245a0a1ac2868d5dbff92",
        "IPY_MODEL_3d8df43e1a4842fca73ada21d68a35c1",
        "IPY_MODEL_8ae2ce461cf64607a2d023d96ba41f8f",
        "IPY_MODEL_8c09d7e004224455bc2cfb6e60e9c900"
       ],
       "layout": "IPY_MODEL_f804c81d91744c529fe14b317c6d045e"
      }
     },
     "ffea2bd2d6414610826e691267dc853c": {
      "model_module": "@jupyter-widgets/controls",
      "model_module_version": "1.5.0",
      "model_name": "ButtonStyleModel",
      "state": {}
     }
    },
    "version_major": 2,
    "version_minor": 0
   }
  }
 },
 "nbformat": 4,
 "nbformat_minor": 2
}
